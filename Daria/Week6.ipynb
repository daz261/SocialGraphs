{
 "cells": [
  {
   "cell_type": "markdown",
   "metadata": {},
   "source": [
    "# Overview\n",
    "\n",
    "We're now switching focus away from Network Science (for a little bit), beginning to think about _Natural Language Processing_ instead. In other words, today will be all about teaching your computer to \"understand\" text. This ties in nicely with our work on the Zelda BotW network, since it is built on the Zelda Wiki which contains pieces of text. We've looked at the network so far - now, let's see if we can include the text. Today is about \n",
    "\n",
    "* Installing the _natural language toolkit_ (NLTK) package and learning the basics of how it works (Chapter 1)\n",
    "* Figuring out how to make NLTK to work with other types of text (Chapter 2).\n",
    "\n",
    "> _Reading_\n",
    "> The reading for today is Natural Language Processing with Python (NLPP) Chapter 1 and 2. [It's free online](http://www.nltk.org/book/). "
   ]
  },
  {
   "cell_type": "markdown",
   "metadata": {},
   "source": [
    "# Part 1: A little lecture\n",
    "\n",
    "> **_Video Lecture_**. Today is all about ***working*** with NLTK, so not much lecturing - you can get my perspective and a little pep-talk"
   ]
  },
  {
   "cell_type": "code",
   "execution_count": 1,
   "metadata": {},
   "outputs": [
    {
     "data": {
      "image/jpeg": "[encoded data removed]",
      "text/html": [
       "\n",
       "        <iframe\n",
       "            width=\"800\"\n",
       "            height=\"450\"\n",
       "            src=\"https://www.youtube.com/embed/Ph0EHmFT3n4\"\n",
       "            frameborder=\"0\"\n",
       "            allowfullscreen\n",
       "        ></iframe>\n",
       "        "
      ],
      "text/plain": [
       "<IPython.lib.display.YouTubeVideo at 0x7fb5e0371c18>"
      ]
     },
     "execution_count": 1,
     "metadata": {},
     "output_type": "execute_result"
    }
   ],
   "source": [
    "from IPython.display import YouTubeVideo\n",
    "YouTubeVideo(\"Ph0EHmFT3n4\",width=800, height=450)"
   ]
  },
  {
   "cell_type": "markdown",
   "metadata": {},
   "source": [
    "# Part 2: Installing and the basics"
   ]
  },
  {
   "cell_type": "markdown",
   "metadata": {},
   "source": [
    "## 2.1 NLTK Install tips \n",
    "\n",
    "Check to see if `nltk` is installed on your system by typing `import nltk` in a `notebook`. If it's not already installed, install it as part of _Anaconda_ by typing \n",
    "\n",
    "     conda install nltk \n",
    "\n",
    "at the command prompt. If you don't have them, you can download the various corpora using a command-line version of the downloader that runs in Python notebooks (as mentioned in Ch. 1 Sec. 1.2 of the book): \n",
    "\n",
    "In the Jupyter notebook, run the code \n",
    "\n",
    " `import nltk`\n",
    " \n",
    " `nltk.download()`\n",
    "\n",
    "Now you can hit `d` to download, then type \"book\" to fetch the collection needed today's `nltk` session. Now that everything is up and running, let's get to the actual exercises.\n",
    "\n",
    "**Note**: If, instead of opening the pop-up, your Kernel dies (mine did 😱), you can direclty download the collection by typing `nltk.dwonload(\"book\")` instead."
   ]
  },
  {
   "cell_type": "markdown",
   "metadata": {},
   "source": [
    "## 2.2 Introduction to NLTK"
   ]
  },
  {
   "cell_type": "markdown",
   "metadata": {},
   "source": [
    "1. Now that you have nltk installed, work through Chapter 1, Sections 1 to 4. The book is set up as a kind of tutorial with lots of examples for you to work through. I recommend you read the text with an open Jupyter Notebook and type out the examples that you see. ***It becomes much more fun if you add a few variations and see what happens***. We tweaked some of these examples in the following exercises and they might very well be due as assignments, so those ones should definitely be in a `notebook`."
   ]
  },
  {
   "cell_type": "code",
   "execution_count": 2,
   "metadata": {},
   "outputs": [],
   "source": [
    "import nltk\n",
    "#nltk.download()"
   ]
  },
  {
   "cell_type": "code",
   "execution_count": 3,
   "metadata": {},
   "outputs": [
    {
     "name": "stdout",
     "output_type": "stream",
     "text": [
      "*** Introductory Examples for the NLTK Book ***\n",
      "Loading text1, ..., text9 and sent1, ..., sent9\n",
      "Type the name of the text or sentence to view it.\n",
      "Type: 'texts()' or 'sents()' to list the materials.\n",
      "text1: Moby Dick by Herman Melville 1851\n",
      "text2: Sense and Sensibility by Jane Austen 1811\n",
      "text3: The Book of Genesis\n",
      "text4: Inaugural Address Corpus\n",
      "text5: Chat Corpus\n",
      "text6: Monty Python and the Holy Grail\n",
      "text7: Wall Street Journal\n",
      "text8: Personals Corpus\n",
      "text9: The Man Who Was Thursday by G . K . Chesterton 1908\n"
     ]
    }
   ],
   "source": [
    "from nltk.book import *"
   ]
  },
  {
   "cell_type": "code",
   "execution_count": 4,
   "metadata": {},
   "outputs": [
    {
     "data": {
      "text/plain": [
       "<Text: Moby Dick by Herman Melville 1851>"
      ]
     },
     "execution_count": 4,
     "metadata": {},
     "output_type": "execute_result"
    }
   ],
   "source": [
    "text1"
   ]
  },
  {
   "cell_type": "code",
   "execution_count": 5,
   "metadata": {},
   "outputs": [
    {
     "name": "stdout",
     "output_type": "stream",
     "text": [
      "Displaying 11 of 11 matches:\n",
      "ong the former , one was of a most monstrous size . ... This came towards us , \n",
      "ON OF THE PSALMS . \" Touching that monstrous bulk of the whale or ork we have r\n",
      "ll over with a heathenish array of monstrous clubs and spears . Some were thick\n",
      "d as you gazed , and wondered what monstrous cannibal and savage could ever hav\n",
      "that has survived the flood ; most monstrous and most mountainous ! That Himmal\n",
      "they might scout at Moby Dick as a monstrous fable , or still worse and more de\n",
      "th of Radney .'\" CHAPTER 55 Of the Monstrous Pictures of Whales . I shall ere l\n",
      "ing Scenes . In connexion with the monstrous pictures of whales , I am strongly\n",
      "ere to enter upon those still more monstrous stories of them which are to be fo\n",
      "ght have been rummaged out of this monstrous cabinet there is no telling . But \n",
      "of Whale - Bones ; for Whales of a monstrous size are oftentimes cast up dead u\n"
     ]
    }
   ],
   "source": [
    "text1.concordance(\"monstrous\")"
   ]
  },
  {
   "cell_type": "code",
   "execution_count": 6,
   "metadata": {},
   "outputs": [
    {
     "name": "stdout",
     "output_type": "stream",
     "text": [
      "true contemptible christian abundant few part mean careful puzzled\n",
      "mystifying passing curious loving wise doleful gamesome singular\n",
      "delightfully perilous fearless\n"
     ]
    }
   ],
   "source": [
    "text1.similar(\"monstrous\")"
   ]
  },
  {
   "cell_type": "code",
   "execution_count": 7,
   "metadata": {},
   "outputs": [
    {
     "data": {
      "text/plain": [
       "<Figure size 640x480 with 1 Axes>"
      ]
     },
     "metadata": {},
     "output_type": "display_data"
    }
   ],
   "source": [
    "text4.dispersion_plot([\"citizens\", \"democracy\", \"freedom\", \"duties\", \"America\"])"
   ]
  },
  {
   "cell_type": "code",
   "execution_count": 8,
   "metadata": {},
   "outputs": [
    {
     "name": "stderr",
     "output_type": "stream",
     "text": [
      "Building ngram index...\n"
     ]
    },
    {
     "name": "stdout",
     "output_type": "stream",
     "text": [
      "laid by her , and said unto Cain , Where art thou , and said , Go to ,\n",
      "I will not do it for ten ' s sons ; we dreamed each man according to\n",
      "their generatio the firstborn said unto Laban , Because I said , Nay ,\n",
      "but Sarah shall her name be . , duke Elah , duke Shobal , and Akan .\n",
      "and looked upon my affliction . Bashemath Ishmael ' s blood , but Isra\n",
      "for as a prince hast thou found of all the cattle in the valley , and\n",
      "the wo The\n"
     ]
    },
    {
     "data": {
      "text/plain": [
       "\"laid by her , and said unto Cain , Where art thou , and said , Go to ,\\nI will not do it for ten ' s sons ; we dreamed each man according to\\ntheir generatio the firstborn said unto Laban , Because I said , Nay ,\\nbut Sarah shall her name be . , duke Elah , duke Shobal , and Akan .\\nand looked upon my affliction . Bashemath Ishmael ' s blood , but Isra\\nfor as a prince hast thou found of all the cattle in the valley , and\\nthe wo The\""
      ]
     },
     "execution_count": 8,
     "metadata": {},
     "output_type": "execute_result"
    }
   ],
   "source": [
    "#generates randoom text based on the given textt\n",
    "text3.generate()"
   ]
  },
  {
   "cell_type": "code",
   "execution_count": 9,
   "metadata": {},
   "outputs": [
    {
     "data": {
      "text/plain": [
       "44764"
      ]
     },
     "execution_count": 9,
     "metadata": {},
     "output_type": "execute_result"
    }
   ],
   "source": [
    "#token=sequence of characters which we treat as a group\n",
    "len(text3)"
   ]
  },
  {
   "cell_type": "code",
   "execution_count": 10,
   "metadata": {},
   "outputs": [
    {
     "data": {
      "text/plain": [
       "2789"
      ]
     },
     "execution_count": 10,
     "metadata": {},
     "output_type": "execute_result"
    }
   ],
   "source": [
    "#unique words\n",
    "len(set(text3))"
   ]
  },
  {
   "cell_type": "code",
   "execution_count": 11,
   "metadata": {},
   "outputs": [
    {
     "data": {
      "text/plain": [
       "0.06230453042623537"
      ]
     },
     "execution_count": 11,
     "metadata": {},
     "output_type": "execute_result"
    }
   ],
   "source": [
    "#lexical diversity\n",
    "len(set(text3))/len(text3)"
   ]
  },
  {
   "cell_type": "code",
   "execution_count": 12,
   "metadata": {},
   "outputs": [
    {
     "data": {
      "text/plain": [
       "5"
      ]
     },
     "execution_count": 12,
     "metadata": {},
     "output_type": "execute_result"
    }
   ],
   "source": [
    "text3.count(\"smote\")"
   ]
  },
  {
   "cell_type": "code",
   "execution_count": 13,
   "metadata": {},
   "outputs": [],
   "source": [
    "def lexical_diversity(text):\n",
    "    return len(set(text)) / len(text) \n",
    "\n",
    "def percentage(count, total):\n",
    "    return 100 * count / total"
   ]
  },
  {
   "cell_type": "markdown",
   "metadata": {},
   "source": [
    "2. Now that you have gone through Chapter 1, let's try some of the nltk functionalities on our own Text!\n",
    "\n",
    "> Setup. We want to start from a clean version of the ZeldaWiki pages of the characters. A version with as little wiki-markup as possible. We needed it earlier to get the links, gender, etc., but now we want a readable version. To do this we need to create 10 new regex patterns and parse the pages ... \n",
    ">\n",
    "> No! Don't worry! We can get a fairly nice version directly from the ZeldaWiki API. Follow the instructions below:\n",
    ">\n",
    "> * read the [csv file](https://github.com/SocialComplexityLab/socialgraphs2021/blob/main/files/ZeldaBotW_nodes_w_attributes_enriched.csv) of the characters with pandas `pd.read_csv()` and assign it to `df_characters`;\n",
    "> * use the same code you have used to query the API before (remember the baseurl is `https://zelda.fandom.com/api.php?`), but change the parameter `content` in `content=\"prop=extracts&exlimit=1&explaintext\"`;\n",
    "> * loop through the `Name` column of df_characters and for each name make a request to the API\n",
    ">     * **Note1** replace white spaces with `_` and use `urllib.parse.quote_plus(NAME_OF_CHARACTER_HERE)` to build your title;\n",
    ">     * **Note2** take care of `Cherry` (remember the title of her page is different).\n",
    "> * after using `json` to load the text, remember to get the value (the clean text we are looking for) from the right key \n",
    ">     * **Note3** the key you are looking for is now `extract` not `*`\n"
   ]
  },
  {
   "cell_type": "code",
   "execution_count": 14,
   "metadata": {},
   "outputs": [],
   "source": [
    "import pandas as pd\n",
    "import numpy as np\n",
    "import requests\n",
    "from itertools import chain\n",
    "import urllib\n",
    "from pathlib import Path"
   ]
  },
  {
   "cell_type": "code",
   "execution_count": 15,
   "metadata": {},
   "outputs": [],
   "source": [
    "import pandas as pd\n",
    "df_characters = pd.read_csv(\"../files/ZeldaBotW_nodes_w_attributes_enriched.csv\")\n",
    "#df_characters.sort_values('Role', inplace=True)"
   ]
  },
  {
   "cell_type": "code",
   "execution_count": 16,
   "metadata": {},
   "outputs": [
    {
     "data": {
      "text/html": [
       "<div>\n",
       "<style scoped>\n",
       "    .dataframe tbody tr th:only-of-type {\n",
       "        vertical-align: middle;\n",
       "    }\n",
       "\n",
       "    .dataframe tbody tr th {\n",
       "        vertical-align: top;\n",
       "    }\n",
       "\n",
       "    .dataframe thead th {\n",
       "        text-align: right;\n",
       "    }\n",
       "</style>\n",
       "<table border=\"1\" class=\"dataframe\">\n",
       "  <thead>\n",
       "    <tr style=\"text-align: right;\">\n",
       "      <th></th>\n",
       "      <th>Name</th>\n",
       "      <th>Role</th>\n",
       "      <th>Race</th>\n",
       "      <th>Gender</th>\n",
       "    </tr>\n",
       "  </thead>\n",
       "  <tbody>\n",
       "    <tr>\n",
       "      <th>0</th>\n",
       "      <td>Baddek</td>\n",
       "      <td>Ally</td>\n",
       "      <td>Hylian</td>\n",
       "      <td>Male</td>\n",
       "    </tr>\n",
       "    <tr>\n",
       "      <th>1</th>\n",
       "      <td>Bamboo</td>\n",
       "      <td>Ally</td>\n",
       "      <td>Horse</td>\n",
       "      <td>Unknown</td>\n",
       "    </tr>\n",
       "    <tr>\n",
       "      <th>2</th>\n",
       "      <td>Banji</td>\n",
       "      <td>Ally</td>\n",
       "      <td>Hylian</td>\n",
       "      <td>Female</td>\n",
       "    </tr>\n",
       "    <tr>\n",
       "      <th>3</th>\n",
       "      <td>Baumar</td>\n",
       "      <td>Ally</td>\n",
       "      <td>Hylian</td>\n",
       "      <td>Male</td>\n",
       "    </tr>\n",
       "    <tr>\n",
       "      <th>4</th>\n",
       "      <td>Bayge</td>\n",
       "      <td>Ally</td>\n",
       "      <td>Goron</td>\n",
       "      <td>Male</td>\n",
       "    </tr>\n",
       "  </tbody>\n",
       "</table>\n",
       "</div>"
      ],
      "text/plain": [
       "     Name  Role    Race   Gender\n",
       "0  Baddek  Ally  Hylian     Male\n",
       "1  Bamboo  Ally   Horse  Unknown\n",
       "2   Banji  Ally  Hylian   Female\n",
       "3  Baumar  Ally  Hylian     Male\n",
       "4   Bayge  Ally   Goron     Male"
      ]
     },
     "execution_count": 16,
     "metadata": {},
     "output_type": "execute_result"
    }
   ],
   "source": [
    "df_characters.head()"
   ]
  },
  {
   "cell_type": "code",
   "execution_count": 17,
   "metadata": {},
   "outputs": [],
   "source": [
    "#own code\n",
    "import requests\n",
    "import os\n",
    "\n",
    "base_url = \"https://zelda.fandom.com/api.php\"\n",
    "\n",
    "def retrieve_query(title):\n",
    "    payload = {\n",
    "        'titles': [title],\n",
    "        \"prop\":\"extracts\",\n",
    "        \"exlimit\":\"1\",\n",
    "        \"explaintext\": \"\",\n",
    "        'format': 'json',\n",
    "        'action': 'query',\n",
    "        \n",
    "    }\n",
    "\n",
    "    r = requests.get(base_url, params=payload)\n",
    "    req_json = r.json()\n",
    "    #note 3: extract\n",
    "    pages = [page for _, page in req_json['query']['pages'].items()]\n",
    "    extracts = [p['extract'] for p in pages]\n",
    "    content = \"\\n\".join(extracts)\n",
    "    return content"
   ]
  },
  {
   "cell_type": "code",
   "execution_count": 18,
   "metadata": {},
   "outputs": [
    {
     "ename": "KeyError",
     "evalue": "'extract'",
     "output_type": "error",
     "traceback": [
      "\u001b[0;31m---------------------------------------------------------------------------\u001b[0m",
      "\u001b[0;31mKeyError\u001b[0m                                  Traceback (most recent call last)",
      "\u001b[0;32m/var/folders/jg/tn2wytyn58v0xbvm5_cqjgvr0000gn/T/ipykernel_783/3286370116.py\u001b[0m in \u001b[0;36m<module>\u001b[0;34m\u001b[0m\n\u001b[1;32m     11\u001b[0m         \u001b[0mch\u001b[0m \u001b[0;34m=\u001b[0m \u001b[0mch\u001b[0m\u001b[0;34m.\u001b[0m\u001b[0mreplace\u001b[0m\u001b[0;34m(\u001b[0m\u001b[0;34m\" \"\u001b[0m\u001b[0;34m,\u001b[0m \u001b[0;34m\"_\"\u001b[0m\u001b[0;34m)\u001b[0m\u001b[0;34m\u001b[0m\u001b[0m\n\u001b[1;32m     12\u001b[0m         \u001b[0mch\u001b[0m \u001b[0;34m=\u001b[0m \u001b[0murllib\u001b[0m\u001b[0;34m.\u001b[0m\u001b[0mparse\u001b[0m\u001b[0;34m.\u001b[0m\u001b[0mquote_plus\u001b[0m\u001b[0;34m(\u001b[0m\u001b[0mch\u001b[0m\u001b[0;34m)\u001b[0m\u001b[0;34m\u001b[0m\u001b[0m\n\u001b[0;32m---> 13\u001b[0;31m     \u001b[0mquery\u001b[0m \u001b[0;34m=\u001b[0m \u001b[0mretrieve_query\u001b[0m\u001b[0;34m(\u001b[0m\u001b[0mch\u001b[0m\u001b[0;34m)\u001b[0m\u001b[0;34m\u001b[0m\u001b[0m\n\u001b[0m\u001b[1;32m     14\u001b[0m     \u001b[0mos\u001b[0m\u001b[0;34m.\u001b[0m\u001b[0mmakedirs\u001b[0m\u001b[0;34m(\u001b[0m\u001b[0mdirectory\u001b[0m\u001b[0;34m,\u001b[0m \u001b[0mexist_ok\u001b[0m\u001b[0;34m=\u001b[0m\u001b[0;32mTrue\u001b[0m\u001b[0;34m)\u001b[0m\u001b[0;34m\u001b[0m\u001b[0m\n\u001b[1;32m     15\u001b[0m \u001b[0;34m\u001b[0m\u001b[0m\n",
      "\u001b[0;32m/var/folders/jg/tn2wytyn58v0xbvm5_cqjgvr0000gn/T/ipykernel_783/1957853140.py\u001b[0m in \u001b[0;36mretrieve_query\u001b[0;34m(title)\u001b[0m\n\u001b[1;32m     20\u001b[0m     \u001b[0;31m#note 3: extract\u001b[0m\u001b[0;34m\u001b[0m\u001b[0;34m\u001b[0m\u001b[0m\n\u001b[1;32m     21\u001b[0m     \u001b[0mpages\u001b[0m \u001b[0;34m=\u001b[0m \u001b[0;34m[\u001b[0m\u001b[0mpage\u001b[0m \u001b[0;32mfor\u001b[0m \u001b[0m_\u001b[0m\u001b[0;34m,\u001b[0m \u001b[0mpage\u001b[0m \u001b[0;32min\u001b[0m \u001b[0mreq_json\u001b[0m\u001b[0;34m[\u001b[0m\u001b[0;34m'query'\u001b[0m\u001b[0;34m]\u001b[0m\u001b[0;34m[\u001b[0m\u001b[0;34m'pages'\u001b[0m\u001b[0;34m]\u001b[0m\u001b[0;34m.\u001b[0m\u001b[0mitems\u001b[0m\u001b[0;34m(\u001b[0m\u001b[0;34m)\u001b[0m\u001b[0;34m]\u001b[0m\u001b[0;34m\u001b[0m\u001b[0m\n\u001b[0;32m---> 22\u001b[0;31m     \u001b[0mextracts\u001b[0m \u001b[0;34m=\u001b[0m \u001b[0;34m[\u001b[0m\u001b[0mp\u001b[0m\u001b[0;34m[\u001b[0m\u001b[0;34m'extract'\u001b[0m\u001b[0;34m]\u001b[0m \u001b[0;32mfor\u001b[0m \u001b[0mp\u001b[0m \u001b[0;32min\u001b[0m \u001b[0mpages\u001b[0m\u001b[0;34m]\u001b[0m\u001b[0;34m\u001b[0m\u001b[0m\n\u001b[0m\u001b[1;32m     23\u001b[0m     \u001b[0mcontent\u001b[0m \u001b[0;34m=\u001b[0m \u001b[0;34m\"\\n\"\u001b[0m\u001b[0;34m.\u001b[0m\u001b[0mjoin\u001b[0m\u001b[0;34m(\u001b[0m\u001b[0mextracts\u001b[0m\u001b[0;34m)\u001b[0m\u001b[0;34m\u001b[0m\u001b[0m\n\u001b[1;32m     24\u001b[0m     \u001b[0;32mreturn\u001b[0m \u001b[0mcontent\u001b[0m\u001b[0;34m\u001b[0m\u001b[0m\n",
      "\u001b[0;32m/var/folders/jg/tn2wytyn58v0xbvm5_cqjgvr0000gn/T/ipykernel_783/1957853140.py\u001b[0m in \u001b[0;36m<listcomp>\u001b[0;34m(.0)\u001b[0m\n\u001b[1;32m     20\u001b[0m     \u001b[0;31m#note 3: extract\u001b[0m\u001b[0;34m\u001b[0m\u001b[0;34m\u001b[0m\u001b[0m\n\u001b[1;32m     21\u001b[0m     \u001b[0mpages\u001b[0m \u001b[0;34m=\u001b[0m \u001b[0;34m[\u001b[0m\u001b[0mpage\u001b[0m \u001b[0;32mfor\u001b[0m \u001b[0m_\u001b[0m\u001b[0;34m,\u001b[0m \u001b[0mpage\u001b[0m \u001b[0;32min\u001b[0m \u001b[0mreq_json\u001b[0m\u001b[0;34m[\u001b[0m\u001b[0;34m'query'\u001b[0m\u001b[0;34m]\u001b[0m\u001b[0;34m[\u001b[0m\u001b[0;34m'pages'\u001b[0m\u001b[0;34m]\u001b[0m\u001b[0;34m.\u001b[0m\u001b[0mitems\u001b[0m\u001b[0;34m(\u001b[0m\u001b[0;34m)\u001b[0m\u001b[0;34m]\u001b[0m\u001b[0;34m\u001b[0m\u001b[0m\n\u001b[0;32m---> 22\u001b[0;31m     \u001b[0mextracts\u001b[0m \u001b[0;34m=\u001b[0m \u001b[0;34m[\u001b[0m\u001b[0mp\u001b[0m\u001b[0;34m[\u001b[0m\u001b[0;34m'extract'\u001b[0m\u001b[0;34m]\u001b[0m \u001b[0;32mfor\u001b[0m \u001b[0mp\u001b[0m \u001b[0;32min\u001b[0m \u001b[0mpages\u001b[0m\u001b[0;34m]\u001b[0m\u001b[0;34m\u001b[0m\u001b[0m\n\u001b[0m\u001b[1;32m     23\u001b[0m     \u001b[0mcontent\u001b[0m \u001b[0;34m=\u001b[0m \u001b[0;34m\"\\n\"\u001b[0m\u001b[0;34m.\u001b[0m\u001b[0mjoin\u001b[0m\u001b[0;34m(\u001b[0m\u001b[0mextracts\u001b[0m\u001b[0;34m)\u001b[0m\u001b[0;34m\u001b[0m\u001b[0m\n\u001b[1;32m     24\u001b[0m     \u001b[0;32mreturn\u001b[0m \u001b[0mcontent\u001b[0m\u001b[0;34m\u001b[0m\u001b[0m\n",
      "\u001b[0;31mKeyError\u001b[0m: 'extract'"
     ]
    }
   ],
   "source": [
    "#own code\n",
    "from pathlib import Path\n",
    "directory = Path(\"final/\")\n",
    "\n",
    "for ch in df_characters['Name']:\n",
    "    #Cherry case\n",
    "    if ch == \"Cherry\":\n",
    "         ch = \"Ancient_Oven\"\n",
    "    #Note 2\n",
    "    if \" \" in ch:\n",
    "        ch = ch.replace(\" \", \"_\")\n",
    "        ch = urllib.parse.quote_plus(ch)\n",
    "    query = retrieve_query(ch)\n",
    "    os.makedirs(directory, exist_ok=True)\n",
    "\n",
    "    if not os.path.exists(directory / f\"{ch}.txt\"):\n",
    "        \n",
    "        text_file = open(directory / f\"{ch}.txt\", \"w\")\n",
    "        text_file.write(query)\n",
    "        text_file.close()"
   ]
  },
  {
   "cell_type": "code",
   "execution_count": null,
   "metadata": {},
   "outputs": [],
   "source": [
    "#Artur's code\n",
    "def get_web_content(title=None):\n",
    "    if title == \"Cherry\":\n",
    "        title = \"Ancient_Oven\"\n",
    "    base_url = \"https://zelda.fandom.com/api.php\"\n",
    "    payload = {\n",
    "        'titles': [title],\n",
    "        \"prop\":\"extracts\",\n",
    "        \"exlimit\":\"1\",\n",
    "        \"explaintext\": \"\",\n",
    "        'format': 'json',\n",
    "        'action': 'query',\n",
    "    }\n",
    "\n",
    "    r = requests.get(base_url, params=payload)\n",
    "    req_json = r.json()\n",
    "    pages = [page for _, page in req_json['query']['pages'].items()]\n",
    "    extracts = [p['extract'] for p in pages]\n",
    "    content = \"\\n\".join(extracts)\n",
    "    return content"
   ]
  },
  {
   "cell_type": "code",
   "execution_count": null,
   "metadata": {},
   "outputs": [],
   "source": [
    "#Artur's code\n",
    "dir_path = Path(\"week6_contents\")\n",
    "dir_path.mkdir(exist_ok=True)\n",
    "\n",
    "for x in df_characters.itertuples():\n",
    "    name = x[1]\n",
    "    file_path = dir_path / f\"{name}.txt\"\n",
    "    if file_path.exists():\n",
    "        continue\n",
    "    content = get_web_content(name)\n",
    "    with open(file_path, 'w') as f:\n",
    "        f.write(content)"
   ]
  },
  {
   "cell_type": "markdown",
   "metadata": {},
   "source": [
    ">\n",
    "> Use this method to retrive a nice copy of all BotW characters's text. Save each character's text in a txt file and collect them all in a new folder!\n",
    "\n",
    "> Finally, we can create our own corpus (see Ch. 2 Sec. 1.9 for more details):\n",
    ">    * create a list of file names `file_list` and order them with the same order in `df_characters`, e.g., Baddek.txt first, Bamboo.txt second etc.\n",
    ">    * use the function `PlaintextCorpusReader` from `nltk.corpus` to create the ZeldaWiki corpus.\n",
    ">    * use the function `nltk.Text()` as follows `nltk.Text(YOUR_CORPUS_HERE.words())`.\n",
    ">\n",
    "> Now you can use this nltk Text object as any other you've seen in the examples of Chapter 1!!"
   ]
  },
  {
   "cell_type": "code",
   "execution_count": null,
   "metadata": {},
   "outputs": [],
   "source": [
    "from nltk.corpus import PlaintextCorpusReader, CategorizedCorpusReader\n"
   ]
  },
  {
   "cell_type": "code",
   "execution_count": null,
   "metadata": {},
   "outputs": [],
   "source": [
    "file_list = [str(x) + '.txt' for x in df_characters['Name']]\n",
    "file_list"
   ]
  },
  {
   "cell_type": "code",
   "execution_count": null,
   "metadata": {},
   "outputs": [],
   "source": [
    "#how is the file_list relevant to the path?\n",
    "wordlists = PlaintextCorpusReader(str(dir_path), file_list)\n",
    "text = nltk.Text(wordlists.words())"
   ]
  },
  {
   "cell_type": "code",
   "execution_count": null,
   "metadata": {},
   "outputs": [],
   "source": [
    "text"
   ]
  },
  {
   "cell_type": "markdown",
   "metadata": {},
   "source": [
    "### 2.3 Exercises: NLPP Chapter 1 \n",
    "(the stuff that might be due in an upcoming assignment)\n",
    "\n",
    "The following exercises are from Chapter 1 but we are going to use them to study the ZeldaWiki Text."
   ]
  },
  {
   "cell_type": "markdown",
   "metadata": {},
   "source": [
    "> *Exercise 1*: Exploratory analysis\n",
    ">\n",
    "> * Try out the `concordance` method, using the ZeldaWiki text and a word of your own choosing.\n",
    "> * Also try out the `similar` and `common_contexts` methods, again with any word/s you like.\n",
    "> * Create the ZeldaWiki version of a dispersion plot:\n",
    ">    1. try with the words `['attack','help']`. What do you observe? (**hint:** we ordered characters as they appear in df_characters)\n"
   ]
  },
  {
   "cell_type": "code",
   "execution_count": null,
   "metadata": {},
   "outputs": [],
   "source": [
    "#concordance, similar, common_context\n",
    "text.concordance(\"hero\")\n"
   ]
  },
  {
   "cell_type": "code",
   "execution_count": null,
   "metadata": {},
   "outputs": [],
   "source": [
    "print(text.similar(\"hero\"))\n",
    "print(text.common_contexts(['monstrous', 'very']))"
   ]
  },
  {
   "cell_type": "code",
   "execution_count": null,
   "metadata": {},
   "outputs": [],
   "source": [
    "text.dispersion_plot(['attack','help'])"
   ]
  },
  {
   "cell_type": "markdown",
   "metadata": {},
   "source": [
    ">    2. find the top 6 races of allies by counting how many characters of each race there are in `df_characters`. Save the list of races and use it to create a new dispersion plot. What do you observe? (**hint:** look at how allies were originally ordered in the [Zelda Wiki](https://zelda.fandom.com/wiki/Characters_in_Breath_of_the_Wild))\n"
   ]
  },
  {
   "cell_type": "code",
   "execution_count": null,
   "metadata": {},
   "outputs": [],
   "source": [
    "pd_races = df_characters.groupby('Race').agg('count').sort_values(by='Role', ascending=False)[:6]['Name']\n",
    "pd_races.index"
   ]
  },
  {
   "cell_type": "code",
   "execution_count": null,
   "metadata": {},
   "outputs": [],
   "source": [
    "list_races = [x for x in pd_races.index]"
   ]
  },
  {
   "cell_type": "code",
   "execution_count": null,
   "metadata": {},
   "outputs": [],
   "source": [
    "list_races"
   ]
  },
  {
   "cell_type": "markdown",
   "metadata": {},
   "source": [
    "text.dispersion_plot(list_races)"
   ]
  },
  {
   "cell_type": "markdown",
   "metadata": {},
   "source": [
    ">    3. try your own version of the dispersion plot (use any set of words you like but remember to explain what you observe).\n",
    "\n",
    "\n"
   ]
  },
  {
   "cell_type": "code",
   "execution_count": null,
   "metadata": {},
   "outputs": [],
   "source": [
    "text.dispersion_plot([x for x in df_characters.groupby('Race').agg('count').sort_values(by='Role', ascending=False)[7:10]['Name'].index])"
   ]
  },
  {
   "cell_type": "markdown",
   "metadata": {},
   "source": [
    "> * What is a bigram? How does it relate to `collocations`. Explain in your own words.\n",
    "\n",
    "Ie. A bigram or digram is a sequence of two adjacent elements from a string of tokens, which are typically letters, syllables, or words. (ie. 'ng', 'tg', 'ab')"
   ]
  },
  {
   "cell_type": "code",
   "execution_count": null,
   "metadata": {},
   "outputs": [],
   "source": []
  },
  {
   "cell_type": "markdown",
   "metadata": {},
   "source": [
    ">    1. Compute the collocations on the ZeldaWiki Text.\n",
    "> * Review the discussion of conditionals in Sec. 4. Find all words in the ZeldaWiki Text starting with the letter *b*. Show the first 5 in alphabetical order.\n",
    "> * Use `.index()` to find the index of the word *Cherry*. You'll need to insert this word as an argument between the parentheses. By a process of trial and error, find the slice for the complete sentence that contains this word.\n",
    "> * Review the discussion of looping with conditions in Sec 4. Use a combination of `for` and `if` statements to loop over the words of the ZeldaWiki Text and print the 5 longest uppercase words, one per line."
   ]
  },
  {
   "cell_type": "code",
   "execution_count": null,
   "metadata": {},
   "outputs": [],
   "source": []
  },
  {
   "cell_type": "markdown",
   "metadata": {},
   "source": [
    "> *Exercise 2*: Basic stats\n",
    ">\n",
    "> * How many tokens are there in the ZeldaWiki Text? How many distinct tokens are there?\n",
    "> * Explain in your own words what aspect of language _lexical diversity_ describes. \n",
    ">     1. Compute the lexical diversity of the ZeldaWiki Text;\n",
    ">     2. Compute the lexical diversity related to allies and enemies (bosses inlcuded). Comment your results.\n",
    "> * Create frequency distributions for the ZeldaWiki Text, including the cumulative frequency plot for the 75 most common tokens. \n",
    "> * Find all the four-letter tokens in the ZeldaWiki Text. With the help of a frequency distribution (FreqDist), show these tokens in decreasing order of frequency.\n",
    "> * What does the following code do? `sum(len(w) for w in ZeldaWiki)` Can you use it to work out the average token length of the ZeldaWiki Text?\n",
    "> * Define a function:\n",
    ">     1. called `vocab_size(text)` that has a single parameter for the `text`, and which returns the vocabulary size of the text. Apply it to the ZeldaWiki Text;\n",
    ">     2. `percent(word, text)` that calculates how often a given `word` occurs in a `text`, and expresses the result as a percentage. Apply it to the ZeldaWiki Text to compute the percentage for *Link* (our beloved hero)"
   ]
  },
  {
   "cell_type": "code",
   "execution_count": null,
   "metadata": {},
   "outputs": [],
   "source": []
  },
  {
   "cell_type": "markdown",
   "metadata": {},
   "source": [
    "# Part 3: Working with NLTK and other types of text\n",
    "\n",
    "So far, we've worked with text from the Zelda Wiki. But that's not the only source of text in the universe. In fact, it's far from it . Chapter 2 in NLPP is all about getting access to nicely curated texts that you can find built into NLTK.\n",
    "> \n",
    "> Reading: NLPP Chapter 2, Sec. 1 - 4.\n",
    ">"
   ]
  },
  {
   "cell_type": "markdown",
   "metadata": {},
   "source": [
    "> *Exercises*: NLPP Chapter 2\\. (other stuff that might be due in an assignment)\n",
    "> \n",
    "> * Solve exercise 4, 8, 11, 15, 16, 17, 18 in NLPP, section 2.8\\. As always, I recommend you write up your solutions nicely in a `notebook`.\n",
    "> * Work through exercise 2.8.23 on Zipf's law. [Zipf's law](https://en.wikipedia.org/wiki/Zipf%27s_law) connects to a property of the Barabasi-Albert networks. Which one? Take a look at [this article](http://www.hpl.hp.com/research/idl/papers/ranking/adamicglottometrics.pdf) and write a paragraph or two describing other important instances of power-laws found on the internet.\n",
    ">"
   ]
  },
  {
   "cell_type": "markdown",
   "metadata": {},
   "source": [
    "> 4. Read in the texts of the State of the Union addresses, using the state_union corpus reader. Count occurrences of men, women, and people in each document. What has happened to the usage of these words over time?"
   ]
  },
  {
   "cell_type": "code",
   "execution_count": 19,
   "metadata": {},
   "outputs": [
    {
     "data": {
      "text/plain": [
       "['1945-Truman.txt',\n",
       " '1946-Truman.txt',\n",
       " '1947-Truman.txt',\n",
       " '1948-Truman.txt',\n",
       " '1949-Truman.txt',\n",
       " '1950-Truman.txt',\n",
       " '1951-Truman.txt',\n",
       " '1953-Eisenhower.txt',\n",
       " '1954-Eisenhower.txt',\n",
       " '1955-Eisenhower.txt',\n",
       " '1956-Eisenhower.txt',\n",
       " '1957-Eisenhower.txt',\n",
       " '1958-Eisenhower.txt',\n",
       " '1959-Eisenhower.txt',\n",
       " '1960-Eisenhower.txt',\n",
       " '1961-Kennedy.txt',\n",
       " '1962-Kennedy.txt',\n",
       " '1963-Johnson.txt',\n",
       " '1963-Kennedy.txt',\n",
       " '1964-Johnson.txt',\n",
       " '1965-Johnson-1.txt',\n",
       " '1965-Johnson-2.txt',\n",
       " '1966-Johnson.txt',\n",
       " '1967-Johnson.txt',\n",
       " '1968-Johnson.txt',\n",
       " '1969-Johnson.txt',\n",
       " '1970-Nixon.txt',\n",
       " '1971-Nixon.txt',\n",
       " '1972-Nixon.txt',\n",
       " '1973-Nixon.txt',\n",
       " '1974-Nixon.txt',\n",
       " '1975-Ford.txt',\n",
       " '1976-Ford.txt',\n",
       " '1977-Ford.txt',\n",
       " '1978-Carter.txt',\n",
       " '1979-Carter.txt',\n",
       " '1980-Carter.txt',\n",
       " '1981-Reagan.txt',\n",
       " '1982-Reagan.txt',\n",
       " '1983-Reagan.txt',\n",
       " '1984-Reagan.txt',\n",
       " '1985-Reagan.txt',\n",
       " '1986-Reagan.txt',\n",
       " '1987-Reagan.txt',\n",
       " '1988-Reagan.txt',\n",
       " '1989-Bush.txt',\n",
       " '1990-Bush.txt',\n",
       " '1991-Bush-1.txt',\n",
       " '1991-Bush-2.txt',\n",
       " '1992-Bush.txt',\n",
       " '1993-Clinton.txt',\n",
       " '1994-Clinton.txt',\n",
       " '1995-Clinton.txt',\n",
       " '1996-Clinton.txt',\n",
       " '1997-Clinton.txt',\n",
       " '1998-Clinton.txt',\n",
       " '1999-Clinton.txt',\n",
       " '2000-Clinton.txt',\n",
       " '2001-GWBush-1.txt',\n",
       " '2001-GWBush-2.txt',\n",
       " '2002-GWBush.txt',\n",
       " '2003-GWBush.txt',\n",
       " '2004-GWBush.txt',\n",
       " '2005-GWBush.txt',\n",
       " '2006-GWBush.txt']"
      ]
     },
     "execution_count": 19,
     "metadata": {},
     "output_type": "execute_result"
    }
   ],
   "source": [
    "state_union = nltk.corpus.state_union\n",
    "state_union.fileids()"
   ]
  },
  {
   "cell_type": "code",
   "execution_count": 20,
   "metadata": {},
   "outputs": [
    {
     "data": {
      "text/plain": [
       "6515"
      ]
     },
     "execution_count": 20,
     "metadata": {},
     "output_type": "execute_result"
    }
   ],
   "source": [
    "bush = nltk.corpus.state_union.words('2006-GWBush.txt')\n",
    "len(bush)"
   ]
  },
  {
   "cell_type": "code",
   "execution_count": 21,
   "metadata": {},
   "outputs": [
    {
     "name": "stdout",
     "output_type": "stream",
     "text": [
      "5 18 3 1945-Truman.txt\n",
      "6 25 9 1946-Truman.txt\n",
      "6 23 4 1947-Truman.txt\n",
      "5 21 4 1948-Truman.txt\n",
      "5 20 4 1949-Truman.txt\n",
      "5 24 4 1950-Truman.txt\n",
      "5 18 4 1951-Truman.txt\n",
      "6 22 4 1953-Eisenhower.txt\n",
      "6 23 4 1954-Eisenhower.txt\n",
      "6 24 5 1955-Eisenhower.txt\n",
      "6 24 5 1956-Eisenhower.txt\n",
      "6 25 4 1957-Eisenhower.txt\n",
      "5 22 4 1958-Eisenhower.txt\n",
      "5 21 4 1959-Eisenhower.txt\n",
      "6 25 4 1960-Eisenhower.txt\n",
      "5 29 4 1961-Kennedy.txt\n",
      "5 28 4 1962-Kennedy.txt\n",
      "5 25 3 1963-Johnson.txt\n",
      "5 27 4 1963-Kennedy.txt\n",
      "5 26 3 1964-Johnson.txt\n",
      "5 19 4 1965-Johnson-1.txt\n",
      "5 21 4 1965-Johnson-2.txt\n",
      "5 23 4 1966-Johnson.txt\n",
      "5 22 5 1967-Johnson.txt\n",
      "5 21 4 1968-Johnson.txt\n",
      "5 23 4 1969-Johnson.txt\n",
      "5 24 4 1970-Nixon.txt\n",
      "5 26 4 1971-Nixon.txt\n",
      "5 26 4 1972-Nixon.txt\n",
      "5 28 3 1973-Nixon.txt\n",
      "5 28 5 1974-Nixon.txt\n",
      "5 21 4 1975-Ford.txt\n",
      "5 20 4 1976-Ford.txt\n",
      "5 25 4 1977-Ford.txt\n",
      "5 21 4 1978-Carter.txt\n",
      "5 23 4 1979-Carter.txt\n",
      "5 23 4 1980-Carter.txt\n",
      "5 24 4 1981-Reagan.txt\n",
      "5 24 4 1982-Reagan.txt\n",
      "5 25 4 1983-Reagan.txt\n",
      "5 20 4 1984-Reagan.txt\n",
      "5 22 4 1985-Reagan.txt\n",
      "5 23 3 1986-Reagan.txt\n",
      "5 22 4 1987-Reagan.txt\n",
      "5 26 4 1988-Reagan.txt\n",
      "5 19 4 1989-Bush.txt\n",
      "5 23 4 1990-Bush.txt\n",
      "5 20 4 1991-Bush-1.txt\n",
      "5 18 4 1991-Bush-2.txt\n",
      "5 19 4 1992-Bush.txt\n",
      "5 27 5 1993-Clinton.txt\n",
      "5 22 5 1994-Clinton.txt\n",
      "5 23 6 1995-Clinton.txt\n",
      "5 20 5 1996-Clinton.txt\n",
      "5 22 5 1997-Clinton.txt\n",
      "5 23 5 1998-Clinton.txt\n",
      "5 22 5 1999-Clinton.txt\n",
      "5 21 6 2000-Clinton.txt\n",
      "5 14 4 2001-GWBush-1.txt\n",
      "5 17 4 2001-GWBush-2.txt\n",
      "5 16 4 2002-GWBush.txt\n",
      "5 22 4 2003-GWBush.txt\n",
      "5 18 4 2004-GWBush.txt\n",
      "5 20 4 2005-GWBush.txt\n",
      "5 19 4 2006-GWBush.txt\n"
     ]
    }
   ],
   "source": [
    "for fileid in nltk.corpus.state_union.fileids():\n",
    "    num_chars = len(state_union.raw(fileid))\n",
    "    num_words = len(state_union.words(fileid))\n",
    "    num_sents = len(state_union.sents(fileid))\n",
    "    num_vocab = len(set(w.lower() for w in state_union.words(fileid)))\n",
    "    print(round(num_chars/num_words), round(num_words/num_sents), round(num_words/num_vocab), fileid)"
   ]
  },
  {
   "cell_type": "code",
   "execution_count": 22,
   "metadata": {},
   "outputs": [],
   "source": [
    "years = [fileid[:4] for fileid in state_union.fileids()]\n"
   ]
  },
  {
   "cell_type": "code",
   "execution_count": 23,
   "metadata": {},
   "outputs": [],
   "source": [
    "cfd = nltk.ConditionalFreqDist(\n",
    "    (target, fileid[:4]) \n",
    "    for fileid in state_union.fileids()\n",
    "    for w in state_union.words(fileid)\n",
    "    for target in ['men', 'women', 'people']\n",
    "    if w.lower().startswith(target))"
   ]
  },
  {
   "cell_type": "code",
   "execution_count": 24,
   "metadata": {},
   "outputs": [
    {
     "data": {
      "image/png": "[encoded data removed]",
      "text/plain": [
       "<Figure size 432x288 with 1 Axes>"
      ]
     },
     "metadata": {
      "needs_background": "light"
     },
     "output_type": "display_data"
    },
    {
     "data": {
      "text/plain": [
       "<matplotlib.axes._subplots.AxesSubplot at 0x7fb5d12132e8>"
      ]
     },
     "execution_count": 24,
     "metadata": {},
     "output_type": "execute_result"
    }
   ],
   "source": [
    "cfd.plot()"
   ]
  },
  {
   "cell_type": "code",
   "execution_count": 25,
   "metadata": {},
   "outputs": [
    {
     "name": "stdout",
     "output_type": "stream",
     "text": [
      "       1945 1946 1947 1948 1949 1950 1951 1952 1953 1954 1955 1956 1957 1958 1959 1960 1961 1962 1963 1964 1965 1966 \n",
      "   men    2   18   26   31   33   39   48   48   53   57   66   71   78   81   86   88   94  101  115  118  140  154 \n",
      " women    2    9   11   12   13   15   17   17   17   17   17   19   21   22   23   23   23   25   30   31   34   35 \n",
      "people   10   64   81  105  123  146  161  161  181  197  228  259  276  297  314  332  345  355  372  375  405  441 \n"
     ]
    }
   ],
   "source": [
    "cfd.tabulate(conditions=['men', 'women', 'people'], samples=[str(x) for x in range(1945,1967)], cumulative=True)"
   ]
  },
  {
   "cell_type": "code",
   "execution_count": 26,
   "metadata": {},
   "outputs": [
    {
     "name": "stdout",
     "output_type": "stream",
     "text": [
      "       1967 1968 1969 1970 1971 1972 1973 1974 1975 1976 1977 1978 1979 1980 1981 1982 1983 1984 1985 1986 1987 1988 \n",
      "   men   13   17   22   25   26   27   28   28   28   31   33   33   33   34   37   38   43   46   47   50   51   55 \n",
      " women    1    1    3    3    3    3    3    3    3    4    5    6    7    9   10   12   19   24   25   27   27   27 \n",
      "people   30   48   54   78  112  121  131  153  167  185  205  231  247  260  271  289  309  336  348  362  386  403 \n"
     ]
    }
   ],
   "source": [
    "cfd.tabulate(conditions=['men', 'women', 'people'], samples=[str(x) for x in range(1967,1989)], cumulative=True)"
   ]
  },
  {
   "cell_type": "code",
   "execution_count": 27,
   "metadata": {},
   "outputs": [
    {
     "name": "stdout",
     "output_type": "stream",
     "text": [
      "       1989 1990 1991 1992 1993 1994 1995 1996 1997 1998 1999 2000 2001 2002 2003 2004 2005 2006 \n",
      "   men    4    7   17   21   22   23   26   28   29   31   35   46   52   56   66   76   84   91 \n",
      " women    3    5   14   18   20   21   24   27   29   31   34   41   47   53   57   65   76   83 \n",
      "people   13   23   51   78  123  190  263  306  337  359  381  422  449  463  497  518  536  558 \n"
     ]
    }
   ],
   "source": [
    "cfd.tabulate(conditions=['men', 'women', 'people'], samples=[str(x) for x in range(1989,2007)], cumulative=True)"
   ]
  },
  {
   "cell_type": "code",
   "execution_count": 28,
   "metadata": {},
   "outputs": [
    {
     "name": "stdout",
     "output_type": "stream",
     "text": [
      "<FreqDist with 57 samples and 300 outcomes>\n",
      "<FreqDist with 47 samples and 145 outcomes>\n",
      "<FreqDist with 61 samples and 1402 outcomes>\n"
     ]
    }
   ],
   "source": [
    "print(cfd['men'])\n",
    "print(cfd['women'])\n",
    "print(cfd['people'])"
   ]
  },
  {
   "cell_type": "markdown",
   "metadata": {},
   "source": [
    "> 8. Define a conditional frequency distribution over the Names corpus that allows you to see which initial letters are more frequent for males vs. females"
   ]
  },
  {
   "cell_type": "code",
   "execution_count": 29,
   "metadata": {},
   "outputs": [
    {
     "name": "stdout",
     "output_type": "stream",
     "text": [
      "['female.txt', 'male.txt']\n"
     ]
    }
   ],
   "source": [
    "names = nltk.corpus.names\n",
    "print(names.fileids())"
   ]
  },
  {
   "cell_type": "code",
   "execution_count": 30,
   "metadata": {},
   "outputs": [
    {
     "data": {
      "image/png": "[encoded data removed]",
      "text/plain": [
       "<Figure size 432x288 with 1 Axes>"
      ]
     },
     "metadata": {
      "needs_background": "light"
     },
     "output_type": "display_data"
    },
    {
     "data": {
      "text/plain": [
       "<matplotlib.axes._subplots.AxesSubplot at 0x7fb5d12391d0>"
      ]
     },
     "execution_count": 30,
     "metadata": {},
     "output_type": "execute_result"
    }
   ],
   "source": [
    "cfd = nltk.ConditionalFreqDist((fileid, name[0])\n",
    "                               for fileid in names.fileids()\n",
    "                               for name in names.words(fileid)\n",
    "                               )\n",
    "cfd.plot()"
   ]
  },
  {
   "cell_type": "markdown",
   "metadata": {},
   "source": [
    ">11. Investigate the table of modal distributions and look for other patterns. Try to explain them in terms of your own impressionistic understanding of the different genres. Can you find other closed classes of words that exhibit significant differences across different genres?"
   ]
  },
  {
   "cell_type": "code",
   "execution_count": 31,
   "metadata": {},
   "outputs": [
    {
     "name": "stdout",
     "output_type": "stream",
     "text": [
      "                  can could   may might  must  will \n",
      "           news    93    86    66    38    50   389 \n",
      "       religion    82    59    78    12    54    71 \n",
      "        hobbies   268    58   131    22    83   264 \n",
      "science_fiction    16    49     4    12     8    16 \n",
      "        romance    74   193    11    51    45    43 \n",
      "          humor    16    30     8     8     9    13 \n"
     ]
    }
   ],
   "source": [
    "from nltk.corpus import brown\n",
    "cfd = nltk.ConditionalFreqDist(\n",
    "       (genre, word)\n",
    "       for genre in brown.categories()\n",
    "      for word in brown.words(categories=genre))\n",
    "genres = ['news', 'religion', 'hobbies', 'science_fiction', 'romance', 'humor']\n",
    "modals = ['can', 'could', 'may', 'might', 'must', 'will']\n",
    "cfd.tabulate(conditions=genres, samples=modals)"
   ]
  },
  {
   "cell_type": "markdown",
   "metadata": {},
   "source": [
    "> 15. Write a program to find all words that occur at least three times in the Brown Corpus."
   ]
  },
  {
   "cell_type": "code",
   "execution_count": 32,
   "metadata": {},
   "outputs": [],
   "source": [
    "from nltk.corpus import brown\n",
    "cfd = nltk.ConditionalFreqDist(\n",
    "       (genre, word)\n",
    "       for genre in brown.categories()\n",
    "      for word in brown.words(categories=genre )\n",
    "       )"
   ]
  },
  {
   "cell_type": "code",
   "execution_count": 34,
   "metadata": {},
   "outputs": [
    {
     "data": {
      "text/plain": [
       "['adventure',\n",
       " 'belles_lettres',\n",
       " 'editorial',\n",
       " 'fiction',\n",
       " 'government',\n",
       " 'hobbies',\n",
       " 'humor',\n",
       " 'learned',\n",
       " 'lore',\n",
       " 'mystery',\n",
       " 'news',\n",
       " 'religion',\n",
       " 'reviews',\n",
       " 'romance',\n",
       " 'science_fiction']"
      ]
     },
     "execution_count": 34,
     "metadata": {},
     "output_type": "execute_result"
    }
   ],
   "source": [
    "brown.categories()"
   ]
  },
  {
   "cell_type": "code",
   "execution_count": 35,
   "metadata": {},
   "outputs": [
    {
     "name": "stdout",
     "output_type": "stream",
     "text": [
      "[('Dan', 23), ('Morgan', 28), ('told', 46), ('himself', 75), ('he', 761), ('would', 191), ('Ann', 4), ('.', 4057), ('He', 522), ('was', 914), ('well', 28), ('of', 1322), ('her', 444), ('certainly', 4), (\"didn't\", 70), ('want', 43), ('a', 1354), ('wife', 25), ('who', 91), ('as', 310), ('If', 48), ('had', 591), ('married', 8), (',', 3488), (\"he'd\", 12), ('have', 133), ('been', 131), ('asking', 4), ('for', 331), ('trouble', 17), ('But', 119), ('all', 167), ('this', 203), ('Sometimes', 6), ('up', 226), ('in', 847), ('the', 3370), ('middle', 5), ('night', 30), ('thinking', 20), ('and', 1622), ('then', 99), ('could', 151), ('not', 179), ('get', 92), ('back', 165), ('to', 1309), ('sleep', 12), ('His', 70), ('around', 71), ('so', 114), ('much', 54), ('long', 72), ('that', 494), ('now', 90), ('felt', 34), ('if', 91), ('nothing', 38), ('The', 410), ('thing', 28), ('be', 183), ('sell', 4), ('out', 266), ('Budd', 4), ('leave', 18), ('country', 16), ('but', 197), ('there', 133), ('streak', 5), ('him', 415), (\"wouldn't\", 25), ('allow', 4), ('it', 492), ('best', 12), ('hard', 31), ('work', 31), ('found', 36), ('tired', 4), ('enough', 35), ('at', 317), ('went', 60), ('simply', 8), ('because', 25), ('too', 64), ('stay', 19), ('day', 39), ('less', 13), ('often', 10), (';', 216), ('each', 26), ('hurt', 11), ('little', 67), ('plenty', 6), ('do', 93), ('summer', 8), ('unusually', 4), ('dry', 9), ('hot', 9), ('spring', 12), ('than', 60), ('years', 32), ('grass', 13), ('came', 79), ('fast', 14), ('warm', 9), ('here', 65), ('afford', 4), ('drop', 8), ('water', 59), ('spent', 11), ('most', 27), ('his', 776), ('hours', 13), ('along', 26), ('no', 125), ('idea', 6), ('how', 35), ('time', 127), ('give', 27), ('In', 45), ('any', 56), ('case', 11), ('intention', 4), ('being', 19), ('caught', 24), ('asleep', 5), ('carried', 15), ('revolver', 4), ('its', 65), ('holster', 8), ('on', 460), ('took', 65), ('Winchester', 7), ('with', 401), ('leaned', 7), ('against', 63), ('fence', 6), ('stopped', 17), ('every', 20), ('few', 39), ('minutes', 27), ('studied', 7), ('happened', 16), ('dragging', 4), ('calm', 6), ('When', 47), ('late', 9), ('afternoon', 9), ('last', 41), ('saw', 67), ('two', 80), ('people', 24), ('top', 15), ('south', 8), ('walk', 17), ('toward', 48), ('house', 60), ('quit', 4), ('immediately', 9), ('rifle', 30), ('It', 145), ('some', 51), ('kind', 19), ('trick', 6), ('thought', 62), ('No', 48), ('one', 162), ('walked', 28), ('least', 15), ('Ed', 6), ('or', 115), ('Dutch', 4), ('rest', 13), ('crew', 4), ('watched', 20), ('figures', 4), ('puzzled', 5), ('they', 206), ('were', 251), ('closer', 9), ('woman', 29), ('more', 83), ('ever', 27), ('left', 47), ('picked', 12), ('started', 38), ('crawled', 7), ('through', 78), ('crossing', 5), ('meadow', 8), ('Now', 37), ('both', 29), ('man', 165), ('moving', 12), ('slowly', 14), ('struggle', 5), ('their', 156), ('feet', 49), ('ahead', 11), ('them', 156), ('waited', 12), ('hands', 48), ('They', 99), ('north', 8), ('young', 24), ('twenty', 7), ('dirty', 9), ('clothes', 11), ('torn', 6), ('girl', 53), ('she', 240), ('fell', 13), ('when', 126), ('still', 62), ('from', 260), ('front', 39), ('door', 67), ('She', 137), ('lay', 15), ('making', 13), ('effort', 4), ('boy', 42), ('porch', 13), ('sat', 23), ('down', 153), ('half', 20), ('shoot', 7), ('really', 18), ('hesitated', 6), ('good', 37), ('think', 44), ('possible', 12), ('couple', 9), ('pretending', 5), ('lips', 21), ('asked', 33), ('``', 998), ('we', 87), ('drink', 15), (\"''\", 995), ('?', 518), ('jerked', 7), ('head', 71), ('kitchen', 7), ('said', 287), ('Get', 9), (\"There's\", 17), ('move', 16), ('say', 34), ('anything', 28), ('Her', 24), ('eyes', 90), ('hear', 23), ('even', 66), ('see', 79), ('reached', 36), ('point', 10), ('which', 100), ('care', 14), ('looked', 62), ('face', 74), ('very', 41), ('thin', 12), ('burned', 10), ('by', 147), ('sun', 21), ('until', 36), ('skin', 9), ('dead', 25), ('new', 22), ('under', 40), ('red', 15), ('angry', 8), ('blond', 5), ('hair', 37), ('dress', 9), ('several', 21), ('places', 6), ('completely', 7), ('practically', 5), ('protection', 5), ('must', 27), ('off', 87), ('foot', 10), ('bleeding', 4), ('hand', 65), ('shoulders', 14), ('other', 60), ('knees', 8), ('into', 180), ('light', 25), ('arms', 17), (\"wasn't\", 17), ('sure', 26), ('go', 73), ('far', 30), ('fool', 8), ('kill', 13), ('Besides', 7), ('sweet', 7), ('put', 23), ('going', 50), ('dropped', 25), ('chair', 9), ('beside', 13), ('table', 11), ('deal', 6), ('Both', 4), ('blonde', 9), ('blue', 7), ('faint', 7), ('features', 4), ('filled', 14), ('dipper', 6), ('room', 33), ('lifted', 16), ('held', 27), ('edge', 10), ('mouth', 23), ('murmured', 11), ('Thank', 7), ('you', 362), ('lowered', 4), ('stood', 36), ('looking', 19), ('moment', 32), ('wondering', 4), ('what', 110), ('seen', 33), ('wagons', 7), ('almost', 36), ('death', 20), ('never', 62), ('bad', 9), ('these', 28), ('returned', 11), ('built', 5), ('fire', 35), ('poured', 5), ('placed', 7), ('brought', 28), ('faced', 6), ('Who', 4), ('are', 48), (\"I'm\", 50), ('Billy', 17), ('Jones', 11), ('answered', 6), (\"That's\", 20), ('my', 168), ('We', 32), ('ran', 33), ('money', 16), (\"haven't\", 7), ('days', 22), ('What', 39), ('doing', 18), ('Are', 5), ('Wyoming', 4), ('nodded', 15), ('About', 5), ('five', 13), ('miles', 14), ('line', 25), ('relieved', 5), ('ranchers', 6), ('turned', 53), ('us', 47), ('You', 84), ('mean', 19), ('dragged', 4), ('your', 59), ('over', 118), ('demanded', 4), ('town', 28), ('only', 98), ('about', 119), ('six', 15), ('Why', 17), ('This', 36), ('is', 98), ('mighty', 7), ('empty', 7), ('ranch', 11), ('three', 35), (\"you'd\", 7), ('missed', 4), ('Then', 38), (\"we're\", 8), ('lucky', 5), ('got', 80), ('job', 16), ('Mr.', 22), ('silent', 6), ('use', 15), ('year', 11), ('knew', 54), ('might', 58), ('once', 32), ('killer', 6), (\"hadn't\", 14), ('weeks', 6), ('giving', 8), ('expression', 5), ('There', 59), ('running', 21), ('something', 50), (\"He'd\", 9), ('an', 159), ('let', 38), (\"couldn't\", 26), ('send', 5), ('either', 15), ('I', 652), ('help', 17), ('finally', 11), (\"can't\", 17), ('guess', 11), ('better', 30), ('morning', 27), (\"We'll\", 15), ('our', 39), ('keep', 15), (\"I've\", 24), ('mine', 4), ('used', 12), (\"I'll\", 35), ('need', 14), ('meal', 7), ('bath', 10), ('Your', 10), ('terrible', 9), ('shape', 8), ('know', 58), ('box', 6), ('wood', 5), ('again', 73), ('supper', 5), ('set', 17), ('ready', 14), ('wash', 4), ('stretched', 8), ('suddenly', 16), ('How', 21), ('did', 84), ('gave', 23), ('Oh', 17), ('stared', 17), ('wide', 13), (':', 71), (\"You're\", 18), ('Do', 6), ('take', 38), ('come', 61), (\"don't\", 65), ('many', 22), ('coming', 12), ('can', 46), ('Of', 5), ('course', 16), ('arm', 23), ('helped', 8), ('shaking', 5), ('sorry', 7), ('usually', 4), ('strong', 17), ('And', 84), ('hungry', 5), (\"It's\", 20), (\"it's\", 15), ('eat', 6), ('Not', 24), ('cried', 6), ('food', 6), (\"he's\", 13), ('way', 65), ('made', 77), ('ashamed', 5), ('Lord', 23), ('looks', 5), ('laughed', 10), (\"We're\", 8), ('dishes', 5), ('before', 83), ('dark', 40), ('tub', 5), ('where', 53), ('hung', 14), ('wall', 22), (\"You'll\", 5), ('feel', 19), ('lot', 10), ('after', 53), ('Mrs.', 18), ('right', 79), ('quickly', 13), ('expect', 4), ('just', 74), ('find', 18), ('me', 207), ('My', 21), ('bedroom', 6), ('bed', 17), (\"isn't\", 9), (\"you'll\", 7), ('Some', 6), ('early', 8), ('followed', 24), ('closing', 4), ('behind', 48), ('slept', 5), ('together', 15), ('since', 15), ('getting', 16), ('sleeping', 5), ('understand', 13), ('why', 13), ('first', 55), ('place', 39), ('fired', 6), ('lost', 10), ('kids', 8), ('Gavin', 13), ('paused', 6), (\"they'd\", 7), ('dawn', 6), ('make', 49), ('began', 39), ('rock', 6), ('life', 29), ('black', 26), ('shirt', 12), ('shook', 17), ('pain', 9), ('broke', 13), ('throat', 11), ('shattering', 4), ('free', 8), ('slow', 4), ('Clayton', 19), ('tried', 16), ('call', 8), ('known', 14), ('anger', 8), ('bent', 5), (\"Gavin's\", 8), ('moved', 29), ('catch', 10), ('words', 22), ('remember', 12), ('Big', 5), ('Charlie', 6), ('whispered', 11), ('stuck', 6), ('Just', 22), ('half-breed', 5), ('meant', 14), ('fight', 10), ('Tom', 23), ('English', 8), ('son', 13), ('fair', 5), ('--', 213), ('believed', 10), ('killed', 15), ('body', 31), ('rose', 7), ('garden', 4), ('nights', 4), ('ago', 17), ('men', 81), ('cleared', 4), ('Clay', 5), ('treated', 4), ('wiped', 7), ('sleeve', 6), ('wonder', 6), (\"you're\", 20), ('goin', 4), ('Yes', 14), ('hate', 8), ('Come', 12), ('old', 38), ('finger', 4), ('forward', 19), ('slipped', 10), ('chest', 13), ('All', 24), ('away', 71), ('wanted', 20), ('part', 21), (\"there's\", 9), ('gone', 23), ('!', 314), ('God', 10), ('That', 39), (\"Can't\", 5), ('closed', 11), ('tears', 5), ('stepped', 11), ('horses', 34), ('saddle', 14), ('bring', 8), ('round', 7), ('burst', 6), ('cold', 14), ('air', 23), ('barn', 13), ('tightened', 5), ('blanket', 8), ('working', 5), ('darkness', 12), ('animal', 4), ('easy', 11), ('finished', 11), ('led', 12), ('mare', 5), ('heat', 7), ('reins', 5), ('veranda', 5), ('post', 7), ('flesh', 9), ('neck', 20), ('backed', 6), (\"doesn't\", 9), ('will', 50), ('figure', 14), ('taken', 9), ('stock', 5), ('floor', 23), ('called', 22), ('steps', 18), ('To', 13), ('valley', 31), ('someone', 11), ('may', 5), ('California', 6), ('yet', 21), ('land', 16), ('A', 78), ('Two', 8), ('like', 136), ('fine', 6), ('maybe', 14), ('fresh', 7), ('father', 15), ('stand', 11), ('approached', 5), ('horse', 21), ('laid', 8), ('quivering', 4), ('Help', 5), ('stiff', 6), ('child', 12), (\"They'll\", 5), ('loved', 6), ('alone', 14), ('river', 16), ('nice', 8), ('quiet', 6), ('swung', 17), ('circle', 13), ('burning', 8), ('rode', 12), ('soon', 17), ('below', 8), ('mountains', 5), ('those', 27), ('blade', 5), ('wind', 9), ('savage', 5), ('broken', 6), ('bitterly', 4), ('passed', 21), ('mind', 36), ('dying', 5), ('bones', 5), ('sought', 5), ('desperately', 6), ('silence', 7), ('bend', 7), ('low', 9), ('blow', 7), ('twisting', 5), ('search', 5), ('gray', 11), ('hills', 11), ('bold', 5), ('loose', 11), ('high', 19), ('swept', 6), ('sky', 7), ('spread', 10), ('ground', 29), ('trees', 21), ('weary', 4), ('though', 24), ('hundred', 16), ('yards', 15), ('flung', 6), ('themselves', 6), ('saloon', 5), ('intelligence', 4), ('drinking', 6), ('faces', 10), ('news', 4), ('purpose', 5), ('Lester', 4), ('heard', 40), ('worked', 9), ('tongue', 5), ('cheek', 11), ('voice', 42), ('cracked', 7), (\"He's\", 15), ('Purvis', 4), ('First', 4), ('cattle', 12), ('end', 24), ('remembered', 8), ('own', 43), ('feeling', 14), ('Gap', 4), ('love', 9), ('Roy', 8), ('dance', 7), ('party', 6), ('dirt', 10), ('smile', 9), ('game', 5), (\"won't\", 15), (\"they'll\", 4), ('ride', 16), (\"that's\", 12), ('shoulder', 20), ('wild', 7), ('break', 5), ('warmth', 6), ('fled', 4), ('grunted', 4), ('side', 52), ('jacket', 6), ('raised', 7), ('shut', 7), ('mounted', 4), ('others', 19), ('distance', 12), ('clear', 11), ('clouds', 11), ('sunlight', 7), ('earth', 7), ('white', 26), ('gold', 7), ('shadows', 6), ('flat', 7), ('tire', 6), ('hoofs', 5), ('neither', 9), ('nor', 8), ('slightly', 14), ('trail', 8), ('pointed', 7), ('mile', 4), ('look', 36), ('beat', 11), ('across', 46), ('riding', 18), ('same', 18), ('lived', 10), ('With', 19), ('stride', 4), ('beneath', 15), ('crossed', 7), ('patch', 5), ('looming', 5), ('Jack', 23), ('reach', 9), ('fact', 9), ('showing', 4), ('signs', 5), ('carrying', 4), ('pistol', 14), ('bayonet', 5), ('belt', 7), ('hat', 14), ('Mike', 28), ('stripped', 4), ('Dean', 11), ('using', 9), ('inside', 37), ('building', 6), ('Fiske', 5), ('joined', 6), ('Julia', 6), ('seeing', 6), ('Susan', 9), ('kissed', 6), ('dear', 6), ('talk', 15), ('later', 21), ('main', 7), ('outside', 10), ('trying', 15), ('whether', 8), ('offered', 8), ('chance', 20), ('living', 7), ('none', 8), ('sake', 6), ('bivouac', 4), ('remained', 11), ('showed', 16), ('orderly', 5), ('duty', 6), ('doubt', 6), ('dozen', 9), ('animals', 6), ('stockade', 10), ('moonlight', 4), ('mounts', 5), ('handed', 7), ('myself', 10), ('try', 14), ('cut', 10), ('hell', 7), ('leather', 4), ('added', 6), ('yourself', 9), ('kept', 17), ('halted', 6), ('clung', 5), ('talking', 10), ('responded', 4), ('kiss', 5), ('also', 19), ('deep', 14), ('released', 4), ('Later', 5), ('Be', 5), ('careful', 7), ('naked', 5), ('Something', 4), ('tell', 29), ('herself', 11), ('blind', 5), ('pride', 4), ('guerrillas', 10), ('bound', 4), ('guard', 10), ('close', 21), ('rear', 19), ('wagon', 27), ('gate', 6), ('One', 21), ('wing', 5), ('open', 38), ('mass', 5), ('stable', 4), ('spoke', 9), ('Is', 4), ('Bill', 10), ('shadow', 5), ('within', 16), ('became', 15), ('straightened', 7), ('struck', 6), ('luck', 10), (\"Mike's\", 4), ('balance', 5), ('bullet', 12), (\"man's\", 25), ('walls', 8), ('startled', 6), ('hit', 23), ('having', 11), ('attempt', 5), ('protested', 4), ('lighter', 4), ('taking', 12), ('big', 50), ('thrust', 4), ('telling', 8), ('comes', 5), ('daylight', 5), ('able', 8), ('motion', 7), (\"I'd\", 18), ('met', 10), ('screeching', 4), ('war', 18), ('touched', 11), ('These', 6), ('flight', 8), ('west', 7), ('yelled', 13), ('east', 8), ('frame', 7), ('buildings', 10), ('repeated', 5), ('guns', 10), ('seized', 7), ('hardly', 9), ('rifles', 5), ('supply', 4), ('between', 19), ('peered', 10), ('corner', 19), ('area', 9), ('deserted', 6), ('standing', 12), ('lighted', 5), ('join', 6), ('activity', 4), ('seemed', 40), ('lantern', 5), ('ammunition', 5), ('An', 6), ('powder', 7), ('form', 7), ('bag', 8), ('load', 5), ('minute', 7), ('shattered', 4), ('scattered', 5), ('upon', 20), ('tossed', 5), ('raced', 4), ('flame', 5), ('realized', 7), ('truth', 7), ('past', 19), ('Its', 5), ('force', 6), ('spun', 4), ('Another', 6), ('heavily', 5), ('slammed', 5), ('aside', 7), ('bullets', 5), ('iron', 8), ('rolled', 9), ('snatched', 4), ('At', 25), ('another', 27), ('rush', 4), ('cover', 7), ('problem', 4), ('goes', 5), ('shouted', 10), ('drove', 8), (\"'em\", 12), ('beyond', 9), ('windows', 8), ('wound', 4), ('above', 23), ('knee', 6), ('pool', 14), ('blood', 16), ('bone', 6), ('leg', 8), ('So', 22), ('return', 11), ('village', 4), ('Here', 4), ('Jason', 4), ('Reverend', 5), ('worried', 4), ('hurried', 6), ('wrong', 8), ('seem', 13), ('large', 14), ('probably', 18), ('attack', 6), ('Montero', 10), ('center', 9), ('camp', 6), ('Fort', 4), ('For', 27), ('second', 20), ('appeared', 13), ('shouting', 7), ('orders', 5), ('ponies', 5), ('hurry', 6), ('flew', 7), ('action', 7), ('Oso', 7), ('Aricaras', 5), ('friends', 6), ('Sioux', 4), ('world', 15), ('live', 8), ('Old', 8), ('done', 15), (\"Montero's\", 5), ('Let', 6), ('else', 21), ('ears', 4), (\"goin'\", 7), ('Hell', 11), ('anyone', 10), ('wrote', 4), ('letter', 5), ('green', 16), ('important', 7), ('Once', 11), ('chief', 4), (\"he'll\", 4), ('Before', 7), ('Well', 21), (\"ain't\", 20), (\"let's\", 7), ('As', 28), ('grudgingly', 4), ('especially', 4), ('warriors', 6), ('company', 10), ('great', 18), ('Still', 4), ('trade', 5), ('firmly', 5), ('Those', 4), ('children', 9), ('replied', 8), ('Gray', 7), ('Eyes', 8), ('Our', 5), ('position', 9), ('bale', 5), ('brush', 7), ('ordered', 4), ('assigned', 4), ('pony', 6), ('herd', 5), ('difficult', 5), ('prepared', 4), ('waiting', 15), ('although', 10), ('sounds', 6), ('insects', 4), ('sounded', 7), ('Indian', 12), ('Every', 6), ('knife', 11), ('relief', 5), ('filling', 4), ('cry', 5), ('pleasure', 5), ('barrel', 5), ('Wait', 4), ('shot', 30), ('sights', 4), ('lead', 8), ('split', 4), ('covered', 9), ('except', 11), ('near', 22), ('wait', 9), ('onto', 12), ('squeezed', 5), ('trigger', 5), ('bare', 8), ('bright', 5), ('fall', 8), ('stone', 5), ('ball', 10), ('run', 11), ('sides', 7), ('Out', 7), ('wounded', 6), ('frightened', 7), ('screamed', 5), ('twisted', 5), ('square', 5), ('leaped', 8), ('small', 35), ('creek', 5), ('legs', 17), ('furiously', 5), ('charge', 6), ('sharp', 5), ('grew', 8), ('sweat', 7), ('badly', 5), ('fighting', 8), ('hold', 7), ('seat', 9), ('aim', 8), ('bigger', 6), ('rise', 4), (\"Indian's\", 5), ('four', 16), ('such', 19), ('snapped', 7), ('dust', 13), ('upward', 5), ('butt', 4), ('quirt', 8), ('Although', 6), ('smell', 5), ('tumbled', 5), ('gripped', 6), ('thoughtfully', 6), ('guts', 4), ('None', 5), ('wrist', 5), ('control', 7), ('burn', 4), ('whole', 9), ('size', 8), ('matter', 15), ('Wilson', 17), ('advice', 6), ('hour', 12), ('strange', 6), ('change', 4), ('mistake', 5), ('has', 15), ('harm', 4), ('leaving', 4), ('should', 15), ('surprise', 10), ('glanced', 4), ('smiled', 12), ('quite', 18), ('tone', 5), ('From', 10), ('St.', 4), ('Louis', 10), ('Maybe', 20), ('ought', 7), ('watching', 11), ('next', 22), ('smiling', 4), ('proud', 7), ('difference', 5), ('Never', 4), ('bit', 11), ('turn', 25), ('Somebody', 6), ('quick', 5), ('step', 9), ('pulled', 19), ('grabbed', 10), ('driven', 5), ('sick', 7), ('already', 16), ('facing', 4), ('breath', 11), ('tall', 13), ('handsome', 8), ('despite', 5), (\"She's\", 4), ('am', 9), (\"you've\", 9), ('home', 25), ('quietly', 6), ('impatiently', 4), ('without', 42), ('business', 8), ('answer', 8), ('pull', 12), ('silently', 4), ('leaves', 4), ('while', 45), ('sound', 23), ('coat', 11), ('pretty', 6), ('friend', 10), ('start', 6), ('handle', 6), ('makes', 5), ('clearly', 5), ('noticed', 10), ('things', 18), ('women', 19), ('particular', 6), ('longer', 13), ('expected', 10), ('determined', 7), ('show', 15), ('listen', 8), ('hoped', 8), ('everything', 9), ('needed', 8), ('cow', 6), ('perhaps', 9), ('cheap', 4), ('peace', 5), ('sent', 12), ('heavy', 9), ('team', 5), ('wished', 5), ('name', 18), ('broad', 4), ('pine', 4), ('stop', 12), ('sight', 16), ('road', 20), ('played', 7), ('stayed', 8), ('street', 23), ('single', 8), ('hotel', 7), ('dusty', 6), ('Such', 4), ('state', 6), ('question', 5), ('nearly', 6), ('thirty', 6), ('hall', 35), ('sensed', 4), ('counter', 12), ('directly', 7), ('aware', 13), ('hope', 8), ('glimpse', 5), ('cigarette', 4), ('presence', 7), ('clerk', 10), ('paid', 4), ('attention', 11), ('impressed', 4), ('limited', 4), ('extended', 6), ('hanging', 5), ('speak', 6), ('wore', 14), ('pale', 9), ('obvious', 5), ('different', 6), ('sort', 15), ('person', 9), ('certain', 7), ('(', 22), (')', 22), ('On', 9), ('office', 16), ('radio', 8), ('station', 4), ('commercials', 5), ('learned', 4), ('attempted', 4), ('forms', 5), ('pick', 8), ('knowledge', 5), ('forced', 6), ('entire', 5), ('fans', 5), ('switch', 4), ('follow', 5), ('instead', 9), ('tickets', 4), ('worth', 4), ('Having', 4), ('itself', 8), ('become', 7), ('crowded', 6), ('toilet', 4), ('By', 9), ('number', 4), ('measure', 4), ('hoping', 7), ('dim', 5), ('pass', 9), ('always', 21), ('present', 5), ('exactly', 7), ('received', 5), ('rather', 9), ('lying', 4), ('sooner', 4), ('times', 12), ('sharply', 4), ('order', 7), ('occasion', 4), ('lights', 8), ('sprang', 4), ('type', 4), ('decided', 7), ('however', 6), ('wearing', 5), ('searching', 4), ('Though', 5), ('short', 9), ('reaching', 5), ('truck', 19), ('stranger', 5), ('admit', 4), ('director', 5), ('ten', 11), ('usual', 5), ('smoke', 8), ('ceiling', 5), ('stairs', 4), ('desk', 8), ('explained', 4), ('brown', 12), ('soft', 6), ('somehow', 5), ('read', 8), ('wondered', 11), ('indeed', 6), ('college', 4), ('Was', 5), ('jungle', 16), ('growing', 8), ('physical', 7), ('cap', 6), ('Rankin', 8), ('gun', 31), ('falling', 6), ('Barton', 25), ('twice', 6), (\"Let's\", 13), ('straight', 17), ('reason', 7), ('Fred', 6), ('prison', 7), ('liked', 4), ('following', 5), ('Powers', 6), ('playing', 6), ('climbed', 14), (\"What's\", 10), ('shoved', 4), ('covering', 5), ('knocked', 5), ('Even', 18), ('believe', 6), ('slid', 4), ('Five', 5), ('Carl', 4), ('Dill', 11), ('Foster', 4), ('escape', 8), ('seven', 7), ('grove', 7), ('turning', 9), ('Night', 4), ('Riders', 4), ('softly', 7), ('thank', 4), ('mining', 4), ('match', 6), ('briefly', 4), ('bank', 5), ('heels', 5), ('mud', 5), ('cigar', 4), ('pocket', 13), ('sometimes', 6), ('months', 5), ('drew', 14), ('gloom', 5), ('rancher', 7), ('fifty', 6), ('thousand', 5), ('dollars', 6), ('hated', 6), ('Donald', 4), ('Kruger', 5), ('drawn', 6), ('group', 7), ('million', 4), ('putting', 6), ('worry', 4), ('Did', 6), ('After', 14), ('died', 4), ('snake', 10), ('tender', 4), ('flashed', 4), ('everyone', 5), ('involved', 4), ('Hague', 9), ('rooms', 4), ('scene', 7), ('gravel', 4), ('ancient', 5), ('pressure', 6), ('powerful', 5), ('soil', 4), ('Their', 6), ('roar', 7), ('Ten', 4), ('older', 5), ('spot', 8), ('Kodyke', 7), ('narrow', 6), ('nose', 12), ('fixed', 4), ('police', 5), ('threw', 6), ('week', 4), ('yes', 5), ('blame', 6), ('blew', 4), ('saying', 6), ('wasted', 4), ('mother', 14), ('teach', 4), ('Pamela', 17), ('forehead', 4), ('headed', 12), ('hill', 6), ('plan', 4), ('simple', 9), ('mountain', 9), ('alert', 4), ('forest', 10), ('wheel', 8), ('car', 36), ('final', 6), ('object', 4), ('Major', 4), ('act', 7), ('seed', 5), ('human', 4), ('secret', 7), ('Perhaps', 6), ('dream', 8), ('direction', 8), ('previous', 4), ('mission', 4), ('gentle', 4), ('fear', 7), ('heart', 11), ('entered', 8), ('occasionally', 4), ('glad', 7), ('threatened', 4), ('today', 4), ('prove', 4), ('evening', 9), ('Red', 7), ('knowing', 5), ('thoughts', 8), ('husband', 13), ('nowhere', 6), ('rocks', 5), ('direct', 5), ('continued', 9), ('solid', 6), ('birds', 4), ('tree', 16), ('bewildered', 4), ('thick', 9), ('settled', 5), ('actually', 6), ('Where', 5), ('alive', 7), ('breasts', 4), ('circled', 4), ('teeth', 11), ('scream', 4), ('movement', 4), ('pushed', 10), ('deliberately', 4), (\"o'\", 10), ('miss', 4), ('word', 8), ('stupid', 6), ('Joyce', 17), ('opened', 19), ('merely', 6), ('real', 7), ('grinned', 9), ('boots', 5), ('shock', 4), ('stomach', 9), ('officer', 4), (\"she'd\", 5), ('build', 4), ('sign', 6), ('eye', 7), ('anyway', 7), ('scarcely', 4), ('Or', 4), ('boss', 4), (\"God's\", 4), ('distant', 6), ('frowning', 4), ('mood', 4), ('fought', 4), ('muscles', 5), ('McBride', 11), ('field', 6), ('Highlands', 4), ('fields', 4), ('weapon', 4), ('permit', 5), ('instantly', 5), (\"Lord's\", 4), ('deputy', 4), ('manner', 7), (\"Don't\", 14), ('shots', 7), ('Look', 4), ('fella', 4), ('strictly', 4), ('play', 12), ('card', 4), ('deck', 7), ('pressed', 6), ('wildly', 7), ('die', 7), ('murder', 9), ('flopped', 4), ('laughing', 5), ('Donna', 4), ('Brannon', 29), ('outfit', 7), ('thrown', 5), ('Mexican', 4), ('named', 8), ('kid', 10), ('tin', 4), ('coffee', 5), ('pot', 6), ('happening', 5), ('during', 5), ('drive', 7), ('arrived', 5), ('busy', 4), ('board', 7), ('Maguire', 5), ('family', 4), ('setting', 5), (\"father's\", 4), ('Hank', 6), ('gathered', 5), ('Conchita', 5), ('mentioned', 4), ('concern', 4), ('Pat', 19), ('Tomas', 4), ('conversation', 4), ('Luis', 6), ('Hernandez', 6), ('Whatever', 4), ('ask', 8), ('sitting', 11), ('offer', 5), ('John', 4), ('Like', 5), ('rising', 7), ('storm', 5), ('rain', 9), ('strength', 5), ('law', 6), ('brothers', 4), ('Hogan', 8), ('streets', 4), ('Street', 6), ('window', 17), ('Macklin', 8), ('opposite', 4), ('signal', 5), ('third', 7), ('Marshal', 5), ('skirt', 8), ('Too', 6), ('breathing', 4), ('carpet', 4), ('Charles', 12), ('anonymous', 5), ('notes', 6), ('William', 4), ('Lewis', 10), ('crack', 5), ('rustling', 6), ('meet', 4), ('aimed', 4), ('higher', 5), ('slumped', 5), ('dropping', 4), ('shooting', 6), ('Horn', 7), ('jury', 4), ('questioning', 4), ('hiding', 4), ('killing', 10), ('among', 7), ('Three', 4), ('promised', 6), ('warning', 5), ('range', 7), ('means', 4), ('ignored', 4), ('Powell', 6), ('Ross', 4), ('hay', 4), ('rack', 4), ('blast', 4), ('Yeah', 6), ('wheels', 8), ('natural', 4), ('unknown', 5), ('West', 7), (\"coroner's\", 4), ('earlier', 5), ('books', 5), ('larger', 4), ('society', 5), ('level', 5), ('Curt', 31), ('livery', 4), ('Brenner', 9), ('Summers', 7), ('oily', 4), ('Tell', 7), ('Adams', 5), ('beginning', 5), (\"Curt's\", 8), (\"Jess's\", 14), ('buckskin', 7), ('stall', 10), ('Jess', 33), ('view', 6), ('pulling', 5), ('carefully', 8), ('wooden', 6), ('grain', 4), ('lit', 4), ('Black', 7), ('store', 12), ('seconds', 7), ('rattling', 5), ('wire', 5), ('stuff', 5), ('swollen', 4), ('Ben', 4), ('Arbuckle', 5), ('suppose', 4), ('piece', 8), ('fingers', 12), ('holding', 6), ('draw', 9), ('Somewhere', 4), ('fist', 7), ('vision', 6), ('knock', 4), ('rapidly', 7), ('Over', 5), ('Soon', 5), ('Sally', 10), ('pig', 4), ('Jackson', 5), ('oxen', 8), ('Burnsides', 5), ('hole', 4), ('Nate', 5), ('roll', 6), ('Matilda', 6), ('folks', 4), ('Rock', 4), ('grade', 4), ('Hez', 7), ('true', 5), ('Gran', 9), ('examined', 4), ('Only', 7), ('Rod', 13), ('exclaimed', 6), ('Harmony', 8), ('reply', 5), ('names', 4), ('cliff', 4), ('farmer', 4), ('surrounding', 6), ('train', 10), ('does', 4), ('marriage', 4), ('canyon', 5), ('floated', 4), ('upper', 5), ('bacon', 4), ('boys', 11), ('tight', 8), ('sense', 4), (\"we'll\", 6), ('whip', 4), ('While', 5), ('freight', 7), ('watch', 10), ('bar', 9), ('Cobb', 17), ('class', 5), ('Carmer', 10), ('Stevens', 8), ('bars', 5), ('Russ', 20), ('Suddenly', 6), ('Gyp', 6), ('Palace', 4), ('flights', 5), ('dive', 17), ('ribs', 4), ('note', 5), ('dull', 4), ('glass', 7), ('bottle', 26), ('abruptly', 6), ('Penny', 21), ('glance', 6), ('Shall', 4), ('till', 5), ('fellow', 4), ('dinner', 6), ('Yet', 4), ('events', 4), ('occasional', 4), ('listened', 4), ('speed', 9), ('spotted', 7), ('somewhere', 5), ('plunged', 4), ('flying', 6), ('Sweeney', 4), ('combat', 4), ('record', 6), ('plane', 11), ('enemy', 15), ('Leyte', 4), ('Greg', 25), ('Todman', 10), ('bombs', 4), ('strip', 6), ('rough', 4), ('wet', 6), ('Donovan', 7), (\"Greg's\", 8), ('pilot', 4), ('jumped', 8), ('engine', 7), ('metal', 5), ('clean', 6), ('sea', 7), ('overcast', 5), ('button', 4), ('throttle', 4), ('city', 5), ('full', 8), ('Florida', 5), ('Japanese', 4), ('planes', 4), ('aircraft', 5), ('American', 8), ('Blue', 18), ('Japs', 4), ('stick', 7), ('cheeks', 6), ('slowed', 8), ('vanished', 4), ('tires', 4), ('tiny', 4), ('perfume', 4), ('driver', 11), ('New', 10), ('Spanish', 5), ('drivers', 8), ('flash', 4), ('trembling', 4), ('hidden', 5), ('approaching', 4), ('Roebuck', 9), ('Johnson', 13), (\"Johnson's\", 7), ('fat', 5), ('Sante', 5), ('Fe', 5), ('cars', 5), ('age', 4), ('Ah', 8), ('says', 4), (\"'\", 15), ('dialect', 4), ('rusty', 4), ('beer', 7), ('buddy', 4), ('chicken', 4), ('gleaming', 4), ('island', 6), ('bitch', 4), ('elbows', 4), ('license', 4), ('Miss', 21), ('O.K.', 4), ('hugging', 5), ('recognized', 4), ('color', 6), ('fun', 4), ('advertising', 5), ('Thor', 7), ('Blake', 4), ('zing', 6), ('soap', 5), (\"Thor's\", 4), ('surface', 4), ('Lou', 5), ('Anyway', 4), ('parked', 4), ('considered', 4), ('shower', 5), ('nine', 6), ('nude', 5), ('partner', 6), ('education', 4), ('Uncle', 12), (\"Orleans'\", 4), ('Aunt', 6), ('artist', 4), ('palms', 4), ('gesture', 4), ('poem', 5), ('century', 4), ('poems', 4), ('story', 6), ('towards', 4), ('waters', 6), ('Walter', 7), ('book', 4), ('Meredith', 10), ('Nicolas', 16), ('poet', 4), ('Manas', 4), ('tanned', 4), ('Gardens', 4), ('sweater', 4), ('beautiful', 5), ('Mary', 14), ('Jane', 11), ('Grafin', 5), ('shall', 7), ('beauty', 11), ('noble', 4), ('girls', 18), ('strained', 4), ('haze', 4), ('charcoal', 7), ('chin', 4), ('Hettie', 5), ('bags', 4), ('trunk', 8), ('Brassnose', 12), ('boat', 4), ('bleached', 4), ('Manu', 5), ('Eromonga', 9), ('German', 11), ('Dr.', 6), ('males', 4), ('tultul', 4), ('male', 4), ('Songau', 4), ('Karipo', 4), ('Benson', 14), ('Ramey', 28), ('fault', 5), ('pavement', 6), ('decent', 5), ('trailer', 6), ('shorts', 4), ('crowd', 4), ('Keith', 20), ('Nazis', 4), ('enjoyed', 4), ('Command', 5), ('Robinson', 8), ('Herr', 6), ('Schaffner', 9), ('Forsythe', 5), ('youth', 10), ('Rob', 8), ('Artie', 8), ('Waddell', 14), ('OK', 4), ('bunk', 4), ('Matsuo', 35), ('marine', 32), ('superiors', 4), ('marines', 8), ('poor', 5), ('handkerchief', 4), (\"marine's\", 4), ('Throat', 11), ('gang', 9), ('Tilghman', 25), (\"Tilghman's\", 4), (\"Throat's\", 5), ('gonna', 9), ('Doolin', 6), ('instant', 5), ('Woman', 7), ('Langford', 18), ('school', 12), ('schoolhouse', 8), ('teacher', 8), ('slave', 11), ('slaves', 4), ('Madame', 9), ('Delphine', 12), ('Lalaurie', 17), ('Dandy', 15), ('Brandon', 5), ('Prieur', 6), ('carriage', 4), ('mansion', 5), ('Feathertop', 12), ('Cappy', 12), ('Kitty', 6), ('guy', 4), ('Ernie', 15), (\"Kitty's\", 5)]\n"
     ]
    }
   ],
   "source": [
    "occurences = [(x, y) for (x, y) in zip(cfd['adventure'].keys(), cfd['adventure'].values()) if y>3]\n",
    "print(list(occurences))"
   ]
  },
  {
   "cell_type": "markdown",
   "metadata": {},
   "source": [
    "> 16. Write a program to generate a table of lexical diversity scores (i.e. token/type ratios), as we saw in 1.1. Include the full set of Brown Corpus genres (nltk.corpus.brown.categories()). Which genre has the lowest diversity (greatest number of tokens per type)? Is this what you would have expected?"
   ]
  },
  {
   "cell_type": "code",
   "execution_count": null,
   "metadata": {},
   "outputs": [],
   "source": []
  },
  {
   "cell_type": "markdown",
   "metadata": {},
   "source": [
    "> 17. Write a function that finds the 50 most frequently occurring words of a text that are not stopwords."
   ]
  },
  {
   "cell_type": "code",
   "execution_count": 41,
   "metadata": {},
   "outputs": [
    {
     "data": {
      "text/plain": [
       "[('state', 544),\n",
       " ('three', 553),\n",
       " ('around', 556),\n",
       " ('use', 566),\n",
       " ('old', 568),\n",
       " ('American', 569),\n",
       " ('another', 573),\n",
       " ('New', 575),\n",
       " ('right', 597),\n",
       " ('go', 605),\n",
       " ('great', 608),\n",
       " ('used', 610),\n",
       " ('came', 621),\n",
       " ('day', 623),\n",
       " ('last', 636),\n",
       " ('year', 649),\n",
       " ('never', 664),\n",
       " ('might', 670),\n",
       " ('us', 670),\n",
       " ('life', 676),\n",
       " ('know', 679),\n",
       " ('world', 684),\n",
       " ('long', 713),\n",
       " ('get', 719),\n",
       " ('see', 728),\n",
       " ('still', 731),\n",
       " ('work', 755),\n",
       " ('well', 757),\n",
       " ('good', 767),\n",
       " ('make', 768),\n",
       " ('little', 788),\n",
       " ('people', 811),\n",
       " ('Mr.', 844),\n",
       " ('way', 892),\n",
       " ('much', 900),\n",
       " ('many', 925),\n",
       " ('years', 943),\n",
       " ('back', 950),\n",
       " ('even', 985),\n",
       " ('must', 1003),\n",
       " ('new', 1060),\n",
       " ('made', 1122),\n",
       " ('like', 1237),\n",
       " ('first', 1242),\n",
       " ('may', 1292),\n",
       " ('two', 1311),\n",
       " ('time', 1556),\n",
       " ('could', 1580),\n",
       " ('said', 1943),\n",
       " ('would', 2677)]"
      ]
     },
     "execution_count": 41,
     "metadata": {},
     "output_type": "execute_result"
    }
   ],
   "source": [
    "from collections import Counter\n",
    "stopwords = set(nltk.corpus.stopwords.words() + [',', '.', '?', '!', '\\'', '\\\"', \":\", '(', ')', ';', '--', '\\'\\'', '``'])\n",
    "brown_no_stopwords = [w for w \n",
    "                          in nltk.corpus.brown.words() \n",
    "                          if w.lower() not in stopwords]\n",
    "word_counts = [(k,v ) for k, v in Counter(brown_no_stopwords).items()]\n",
    "\n",
    "sorted_words = sorted(word_counts, key=lambda t: t[1], reverse=False)\n",
    "sorted_words[-50:]"
   ]
  },
  {
   "cell_type": "markdown",
   "metadata": {},
   "source": [
    "> 18. Write a program to print the 50 most frequent bigrams (pairs of adjacent words) of a text, omitting bigrams that contain stopwords."
   ]
  },
  {
   "cell_type": "code",
   "execution_count": 42,
   "metadata": {},
   "outputs": [],
   "source": [
    "bigrams = nltk.bigrams(nltk.corpus.brown.words())\n",
    "cfd = nltk.ConditionalFreqDist(bigrams)"
   ]
  },
  {
   "cell_type": "code",
   "execution_count": 43,
   "metadata": {},
   "outputs": [],
   "source": [
    "cfd_list =  [(bigram, count) \n",
    "            for bigram, count \n",
    "            in Counter((nltk.bigrams(nltk.corpus.brown.words()))).items() \n",
    "            if not (bigram[0].lower() in stopwords or bigram[1].lower() in stopwords)]\n",
    "\n",
    "sorted_bigrams = list(sorted(cfd_list, key=lambda t: t[1]))"
   ]
  },
  {
   "cell_type": "code",
   "execution_count": 44,
   "metadata": {},
   "outputs": [
    {
     "name": "stdout",
     "output_type": "stream",
     "text": [
      "None\n"
     ]
    }
   ],
   "source": [
    "print(sorted_bigrams.reverse())"
   ]
  },
  {
   "cell_type": "markdown",
   "metadata": {},
   "source": [
    "> ★ Zipf's Law: Let f(w) be the frequency of a word w in free text. Suppose that all the words of a text are ranked according to their frequency, with the most frequent word first. Zipf's law states that the frequency of a word type is inversely proportional to its rank (i.e. f × r = k, for some constant k). For example, the 50th most common word type should occur three times as frequently as the 150th most common word type.\n",
    "\n",
    "\n",
    "> Write a function to process a large text and plot word frequency against word rank using pylab.plot. Do you confirm Zipf's law? (Hint: it helps to use a logarithmic scale). \n",
    "\n"
   ]
  },
  {
   "cell_type": "markdown",
   "metadata": {},
   "source": [
    "> Work through exercise 2.8.23 on Zipf's law. Zipf's law connects to a property of the Barabasi-Albert networks. Which one? Take a look at this article and write a paragraph or two describing other important instances of power-laws found on the internet."
   ]
  },
  {
   "cell_type": "code",
   "execution_count": 45,
   "metadata": {},
   "outputs": [],
   "source": [
    "#calculate the product of the frequency and the rank \n",
    "from collections import Counter\n",
    "\n",
    "stopwords = set(nltk.corpus.stopwords.words() + [',', '.', '?', '!', '\\'', '\\\"', \":\", '(', ')', ';', '--', '\\'\\'', '``'])\n",
    "\n",
    "brown_no_stopwords = [w for w in nltk.corpus.brown.words() ]\n",
    "\n",
    "word_counts = [(k,v ) for k, v in Counter(brown_no_stopwords).items()]"
   ]
  },
  {
   "cell_type": "code",
   "execution_count": 46,
   "metadata": {},
   "outputs": [],
   "source": [
    "#ranks = sorted(word_counts, key=lambda k: (-word_counts[k], word_counts.index(k)))\n",
    "sorted_words = sorted(word_counts, key=lambda t: t[1], reverse=True)"
   ]
  },
  {
   "cell_type": "code",
   "execution_count": 47,
   "metadata": {},
   "outputs": [
    {
     "data": {
      "text/plain": [
       "Text(0,0.5,'log(frequency)')"
      ]
     },
     "execution_count": 47,
     "metadata": {},
     "output_type": "execute_result"
    },
    {
     "data": {
      "image/png": "[encoded data removed]",
      "text/plain": [
       "<Figure size 432x288 with 1 Axes>"
      ]
     },
     "metadata": {
      "needs_background": "light"
     },
     "output_type": "display_data"
    }
   ],
   "source": [
    "import numpy as np\n",
    "import matplotlib.pyplot as plt\n",
    "\n",
    "word_freq = [k for _, k in sorted_words]\n",
    "word_rank = np.arange(1, len(word_freq)+1, 1)\n",
    "plt.loglog(word_rank, word_freq)\n",
    "plt.title(\"Zipf's Law\")\n",
    "plt.xlabel(\"log(rank)\")\n",
    "plt.ylabel(\"log(frequency)\")"
   ]
  },
  {
   "cell_type": "code",
   "execution_count": 48,
   "metadata": {},
   "outputs": [],
   "source": [
    "word_freq = np.array(word_freq)"
   ]
  },
  {
   "cell_type": "code",
   "execution_count": 49,
   "metadata": {},
   "outputs": [
    {
     "data": {
      "text/plain": [
       "array([    1,     2,     3, ..., 56055, 56056, 56057])"
      ]
     },
     "execution_count": 49,
     "metadata": {},
     "output_type": "execute_result"
    }
   ],
   "source": [
    "word_rank = np.array(word_rank)\n",
    "word_rank"
   ]
  },
  {
   "cell_type": "code",
   "execution_count": 51,
   "metadata": {},
   "outputs": [
    {
     "data": {
      "text/plain": [
       "array([ 62713, 116668, 148038, ...,  56055,  56056,  56057])"
      ]
     },
     "execution_count": 51,
     "metadata": {},
     "output_type": "execute_result"
    }
   ],
   "source": [
    "word_freq*word_rank\n"
   ]
  },
  {
   "cell_type": "code",
   "execution_count": 58,
   "metadata": {},
   "outputs": [
    {
     "data": {
      "text/plain": [
       "[<matplotlib.lines.Line2D at 0x7fb5953e5ac8>]"
      ]
     },
     "execution_count": 58,
     "metadata": {},
     "output_type": "execute_result"
    },
    {
     "data": {
      "image/png": "[encoded data removed]",
      "text/plain": [
       "<Figure size 432x288 with 1 Axes>"
      ]
     },
     "metadata": {
      "needs_background": "light"
     },
     "output_type": "display_data"
    }
   ],
   "source": [
    "#check if it is constant\n",
    "plt.loglog(word_freq*word_rank)"
   ]
  },
  {
   "cell_type": "code",
   "execution_count": null,
   "metadata": {},
   "outputs": [],
   "source": [
    "len(word_freq)"
   ]
  },
  {
   "cell_type": "markdown",
   "metadata": {},
   "source": [
    "> What is going on at the extreme ends of the plotted line?\n",
    "Generate random text, e.g., using random.choice(\"abcdefg \"), taking care to include the space character. \n",
    "You will need to import random first. Use the string concatenation operator to accumulate characters into a (very) long string. Then tokenize this string, and generate the Zipf plot as before, and compare the two plots. \n",
    "\n",
    ">What do you make of Zipf's Law in the light of this?"
   ]
  },
  {
   "cell_type": "code",
   "execution_count": 63,
   "metadata": {},
   "outputs": [],
   "source": [
    "import random\n",
    "import string\n",
    "from nltk.tokenize import word_tokenize\n",
    "N = 50000\n",
    "\n",
    "big_string = ''.join(random.choice('abcde ') for _ in range(N))\n",
    "tokens = word_tokenize(big_string)"
   ]
  },
  {
   "cell_type": "code",
   "execution_count": 64,
   "metadata": {},
   "outputs": [
    {
     "data": {
      "text/plain": [
       "['aadebeceea',\n",
       " 'ab',\n",
       " 'debdd',\n",
       " 'eea',\n",
       " 'ebaaccbc',\n",
       " 'd',\n",
       " 'bea',\n",
       " 'c',\n",
       " 'ccbcadcabaacdbcdcadabacead',\n",
       " 'ecded',\n",
       " 'ba',\n",
       " 'abddaaddbeabecaa',\n",
       " 'adebe',\n",
       " 'de',\n",
       " 'dedb',\n",
       " 'aca',\n",
       " 'eb',\n",
       " 'd',\n",
       " 'a',\n",
       " 'baabbdccaadcadaecd',\n",
       " 'ceceeaedcdebab',\n",
       " 'acacebacbbeeeaaead',\n",
       " 'deadd',\n",
       " 'eb',\n",
       " 'b',\n",
       " 'dd',\n",
       " 'cccdddddd',\n",
       " 'bbae',\n",
       " 'aacdb',\n",
       " 'ebbbacb',\n",
       " 'bbdbbdcc',\n",
       " 'dbcdbeec',\n",
       " 'cddda',\n",
       " 'bbbbceacccdedb',\n",
       " 'bed',\n",
       " 'dccbcdd',\n",
       " 'bacabbbdbebbede',\n",
       " 'dbadbdcb',\n",
       " 'decbb',\n",
       " 'bc',\n",
       " 'aac',\n",
       " 'bbdca',\n",
       " 'ebd',\n",
       " 'd',\n",
       " 'ddaadadebedbeeebdceedabcc',\n",
       " 'dddadecba',\n",
       " 'e',\n",
       " 'd',\n",
       " 'cecacc',\n",
       " 'a',\n",
       " 'bdacbbbdaabebda',\n",
       " 'a',\n",
       " 'cccc',\n",
       " 'daedcabebbdbadeaebe',\n",
       " 'e',\n",
       " 'a',\n",
       " 'b',\n",
       " 'ce',\n",
       " 'cbd',\n",
       " 'ccbcd',\n",
       " 'dddecdc',\n",
       " 'beeebabe',\n",
       " 'bbecaec',\n",
       " 'acc',\n",
       " 'b',\n",
       " 'eaababeebed',\n",
       " 'eb',\n",
       " 'a',\n",
       " 'bdcd',\n",
       " 'bdeaebcceaeeda',\n",
       " 'cdcedbada',\n",
       " 'dab',\n",
       " 'a',\n",
       " 'eb',\n",
       " 'ab',\n",
       " 'e',\n",
       " 'ddade',\n",
       " 'addb',\n",
       " 'eca',\n",
       " 'dcbcadabe',\n",
       " 'ddcaab',\n",
       " 'e',\n",
       " 'dd',\n",
       " 'cacbc',\n",
       " 'bedba',\n",
       " 'dd',\n",
       " 'bdaaeadb',\n",
       " 'adebd',\n",
       " 'de',\n",
       " 'eebead',\n",
       " 'bd',\n",
       " 'ebeddcdaedbdcbde',\n",
       " 'cebaec',\n",
       " 'aeec',\n",
       " 'ceeabaedbbab',\n",
       " 'cce',\n",
       " 'cbbacccebbdd',\n",
       " 'a',\n",
       " 'bbedbaddcccb',\n",
       " 'edcddeebdddeadcacbcda',\n",
       " 'ddcebaeaaee',\n",
       " 'eddcbbedbe',\n",
       " 'caddedeb',\n",
       " 'adcbaadea',\n",
       " 'cddc',\n",
       " 'ecbdbcaccdbcbdcdceba',\n",
       " 'bae',\n",
       " 'dcbdd',\n",
       " 'ecccbbea',\n",
       " 'cbdab',\n",
       " 'cabdec',\n",
       " 'ac',\n",
       " 'accdbdc',\n",
       " 'd',\n",
       " 'eecdacdaaabdd',\n",
       " 'cdcadebba',\n",
       " 'd',\n",
       " 'dbda',\n",
       " 'dce',\n",
       " 'bb',\n",
       " 'deadeeaabececcadbecc',\n",
       " 'ab',\n",
       " 'bbbeb',\n",
       " 'adbbca',\n",
       " 'ddaacbdcbeaeddcbccbdabdbb',\n",
       " 'beaec',\n",
       " 'dadaacceceda',\n",
       " 'dceaaadcce',\n",
       " 'cbeb',\n",
       " 'bc',\n",
       " 'eccc',\n",
       " 'daaea',\n",
       " 'a',\n",
       " 'b',\n",
       " 'eaa',\n",
       " 'ba',\n",
       " 'ced',\n",
       " 'ccdda',\n",
       " 'aabcedebaaeeaeeeeeabbb',\n",
       " 'baeee',\n",
       " 'eeaced',\n",
       " 'd',\n",
       " 'aeebaeec',\n",
       " 'ddeeb',\n",
       " 'cabca',\n",
       " 'eebc',\n",
       " 'aea',\n",
       " 'eeadddbe',\n",
       " 'cddbbe',\n",
       " 'adcbabb',\n",
       " 'eae',\n",
       " 'ba',\n",
       " 'bcdbecdc',\n",
       " 'cba',\n",
       " 'ddab',\n",
       " 'eeeccdeaea',\n",
       " 'aa',\n",
       " 'bddabcaeedbeabc',\n",
       " 'cacd',\n",
       " 'bcbbdbdadabbdabb',\n",
       " 'eb',\n",
       " 'bdbcad',\n",
       " 'acaaeebead',\n",
       " 'dedeeb',\n",
       " 'bd',\n",
       " 'dceaceebeacbd',\n",
       " 'cde',\n",
       " 'ed',\n",
       " 'ecdbededacbac',\n",
       " 'cbaae',\n",
       " 'dacedaccba',\n",
       " 'bedddacaadee',\n",
       " 'a',\n",
       " 'cdbec',\n",
       " 'be',\n",
       " 'acca',\n",
       " 'c',\n",
       " 'bccebdccdacabbabaace',\n",
       " 'bcbe',\n",
       " 'cbadadc',\n",
       " 'aeca',\n",
       " 'b',\n",
       " 'acbdbcd',\n",
       " 'ac',\n",
       " 'c',\n",
       " 'abdaacbdbadccc',\n",
       " 'bceeeaaad',\n",
       " 'cdbdbaec',\n",
       " 'db',\n",
       " 'bdaabb',\n",
       " 'bbebdae',\n",
       " 'acdbbcbcb',\n",
       " 'a',\n",
       " 'e',\n",
       " 'a',\n",
       " 'ddeabeeddbd',\n",
       " 'bdaeedd',\n",
       " 'b',\n",
       " 'ca',\n",
       " 'cc',\n",
       " 'acdcccb',\n",
       " 'dceccbb',\n",
       " 'eecacad',\n",
       " 'daabc',\n",
       " 'cc',\n",
       " 'cacd',\n",
       " 'b',\n",
       " 'a',\n",
       " 'ebadaceb',\n",
       " 'ccddab',\n",
       " 'b',\n",
       " 'adca',\n",
       " 'd',\n",
       " 'debc',\n",
       " 'bbedadec',\n",
       " 'cdbaecc',\n",
       " 'eadedab',\n",
       " 'bebcb',\n",
       " 'd',\n",
       " 'eed',\n",
       " 'adeebcc',\n",
       " 'cbabaa',\n",
       " 'bbbaaeeced',\n",
       " 'eecb',\n",
       " 'db',\n",
       " 'ecaace',\n",
       " 'acdedbbceddaada',\n",
       " 'cec',\n",
       " 'a',\n",
       " 'ae',\n",
       " 'dbad',\n",
       " 'eb',\n",
       " 'aabaeeabb',\n",
       " 'ceebcecce',\n",
       " 'aeac',\n",
       " 'baabdcddb',\n",
       " 'dacbbed',\n",
       " 'cabeddcedbecbdabddcdbc',\n",
       " 'ddce',\n",
       " 'bbccbedeebcabd',\n",
       " 'bca',\n",
       " 'cebaccbadda',\n",
       " 'aaea',\n",
       " 'cace',\n",
       " 'dbabcbb',\n",
       " 'dedbbbd',\n",
       " 'a',\n",
       " 'ccdbd',\n",
       " 'aceceddebaaadbbaae',\n",
       " 'ca',\n",
       " 'acdcbc',\n",
       " 'ddb',\n",
       " 'dbcdbabcdebbdecabeecd',\n",
       " 'acadcceecbeb',\n",
       " 'abeae',\n",
       " 'bceeae',\n",
       " 'dedadbddd',\n",
       " 'ceb',\n",
       " 'aeccdbcedebaa',\n",
       " 'c',\n",
       " 'aeaba',\n",
       " 'a',\n",
       " 'ccdcabee',\n",
       " 'ee',\n",
       " 'dabbdcb',\n",
       " 'cadcbdbca',\n",
       " 'babadec',\n",
       " 'edddceeea',\n",
       " 'a',\n",
       " 'e',\n",
       " 'ddceaaeedbaeee',\n",
       " 'cacb',\n",
       " 'aadcdcdaececbcb',\n",
       " 'cc',\n",
       " 'dc',\n",
       " 'ddedb',\n",
       " 'aeccecaedeedba',\n",
       " 'daae',\n",
       " 'becdddabdcbaceaddbee',\n",
       " 'aecbdabadaebbbaabeeaeabddbc',\n",
       " 'abbedec',\n",
       " 'adddc',\n",
       " 'bbcbbbbdedaeeedb',\n",
       " 'bcedd',\n",
       " 'ea',\n",
       " 'c',\n",
       " 'ccededebdcbacc',\n",
       " 'dcbbddddcebda',\n",
       " 'ae',\n",
       " 'dab',\n",
       " 'edec',\n",
       " 'edabcbabebd',\n",
       " 'ecae',\n",
       " 'd',\n",
       " 'baac',\n",
       " 'edd',\n",
       " 'cd',\n",
       " 'cabbdecab',\n",
       " 'ceabb',\n",
       " 'adaac',\n",
       " 'bbeccb',\n",
       " 'eedd',\n",
       " 'ee',\n",
       " 'aebabadedcea',\n",
       " 'ebcbacaaee',\n",
       " 'b',\n",
       " 'aabda',\n",
       " 'bc',\n",
       " 'eadaedb',\n",
       " 'e',\n",
       " 'beabceaceecddaabadeddaaedcd',\n",
       " 'dcebddca',\n",
       " 'bcdc',\n",
       " 'de',\n",
       " 'ec',\n",
       " 'eccec',\n",
       " 'ccddde',\n",
       " 'dbc',\n",
       " 'dc',\n",
       " 'bdaecccac',\n",
       " 'c',\n",
       " 'debdeee',\n",
       " 'ab',\n",
       " 'aa',\n",
       " 'ddaedac',\n",
       " 'cbaedaeaccbedbcaeaddacbb',\n",
       " 'cbadd',\n",
       " 'eabaeedbee',\n",
       " 'ccce',\n",
       " 'de',\n",
       " 'd',\n",
       " 'eda',\n",
       " 'bde',\n",
       " 'bbadb',\n",
       " 'dbd',\n",
       " 'adee',\n",
       " 'bd',\n",
       " 'adedebbceecabededadbdb',\n",
       " 'eacbeaabeedebecaababacdbabbaeedbcaacbbdecaa',\n",
       " 'cbbd',\n",
       " 'dbeb',\n",
       " 'ba',\n",
       " 'c',\n",
       " 'dcaade',\n",
       " 'c',\n",
       " 'decdcd',\n",
       " 'aa',\n",
       " 'cddacacdcaaccc',\n",
       " 'e',\n",
       " 'b',\n",
       " 'ce',\n",
       " 'ddba',\n",
       " 'beeda',\n",
       " 'ebd',\n",
       " 'ddeaeadadbad',\n",
       " 'dcdeddee',\n",
       " 'eb',\n",
       " 'be',\n",
       " 'eebb',\n",
       " 'e',\n",
       " 'dea',\n",
       " 'e',\n",
       " 'ccebbccba',\n",
       " 'bed',\n",
       " 'bbe',\n",
       " 'b',\n",
       " 'caededbcaaad',\n",
       " 'beb',\n",
       " 'dad',\n",
       " 'adcee',\n",
       " 'acddaccba',\n",
       " 'dac',\n",
       " 'abebaecba',\n",
       " 'ba',\n",
       " 'edbaaaddd',\n",
       " 'bdcccdcacedbbcdcaabbeacabeadeeaeeabeccbe',\n",
       " 'acabeaedecb',\n",
       " 'baeddecdeb',\n",
       " 'bcdab',\n",
       " 'eb',\n",
       " 'baab',\n",
       " 'ccacdababce',\n",
       " 'babdadab',\n",
       " 'd',\n",
       " 'babeacadddca',\n",
       " 'bbae',\n",
       " 'aeecdbaeeb',\n",
       " 'd',\n",
       " 'c',\n",
       " 'cb',\n",
       " 'bbcedcbeabdd',\n",
       " 'ecbdacdaaabaaedcdeaaac',\n",
       " 'cbeecbbbcb',\n",
       " 'eecab',\n",
       " 'eabbac',\n",
       " 'cdd',\n",
       " 'ceecdb',\n",
       " 'c',\n",
       " 'bdccacd',\n",
       " 'bbdc',\n",
       " 'ddbeaeeeaeaeedbddecbaadb',\n",
       " 'aaccbdeaa',\n",
       " 'c',\n",
       " 'e',\n",
       " 'aced',\n",
       " 'ae',\n",
       " 'bae',\n",
       " 'cedbeebccaecccd',\n",
       " 'b',\n",
       " 'bddbccccbecec',\n",
       " 'ab',\n",
       " 'bade',\n",
       " 'cadddedeeb',\n",
       " 'da',\n",
       " 'cabbcabc',\n",
       " 'ebc',\n",
       " 'adeecdc',\n",
       " 'eeacebbdb',\n",
       " 'ddc',\n",
       " 'e',\n",
       " 'd',\n",
       " 'd',\n",
       " 'ae',\n",
       " 'edcebdaaebdc',\n",
       " 'decdbb',\n",
       " 'bb',\n",
       " 'bb',\n",
       " 'ddebaaadccbaabdd',\n",
       " 'aaabddaac',\n",
       " 'ac',\n",
       " 'cbdbabaacd',\n",
       " 'd',\n",
       " 'bcdeb',\n",
       " 'bdcedcc',\n",
       " 'ece',\n",
       " 'dc',\n",
       " 'ba',\n",
       " 'da',\n",
       " 'e',\n",
       " 'cbd',\n",
       " 'cdbbda',\n",
       " 'a',\n",
       " 'ebcdebbadbd',\n",
       " 'deced',\n",
       " 'bd',\n",
       " 'aaddebc',\n",
       " 'c',\n",
       " 'aeebcebe',\n",
       " 'aead',\n",
       " 'edadbeadeabcbddcad',\n",
       " 'ebbbddeaee',\n",
       " 'd',\n",
       " 'b',\n",
       " 'badae',\n",
       " 'e',\n",
       " 'bea',\n",
       " 'bd',\n",
       " 'adea',\n",
       " 'dbc',\n",
       " 'ebe',\n",
       " 'de',\n",
       " 'd',\n",
       " 'eaddededde',\n",
       " 'bbdcbad',\n",
       " 'ccabebecbe',\n",
       " 'dae',\n",
       " 'bca',\n",
       " 'ceabacdeac',\n",
       " 'beccebced',\n",
       " 'bba',\n",
       " 'ea',\n",
       " 'bcc',\n",
       " 'c',\n",
       " 'b',\n",
       " 'bcdab',\n",
       " 'dbeb',\n",
       " 'ad',\n",
       " 'daedadb',\n",
       " 'b',\n",
       " 'debaab',\n",
       " 'bdededdeb',\n",
       " 'cebb',\n",
       " 'ede',\n",
       " 'dab',\n",
       " 'eeacbeaabbbca',\n",
       " 'aeccedabbcbcae',\n",
       " 'dde',\n",
       " 'ecda',\n",
       " 'be',\n",
       " 'ede',\n",
       " 'e',\n",
       " 'ababeec',\n",
       " 'aabdbbede',\n",
       " 'd',\n",
       " 'b',\n",
       " 'ea',\n",
       " 'baeac',\n",
       " 'e',\n",
       " 'ecabbaaddc',\n",
       " 'aadabdceecaadaedabdca',\n",
       " 'ccdcaccae',\n",
       " 'ad',\n",
       " 'aa',\n",
       " 'eccabe',\n",
       " 'b',\n",
       " 'bedcb',\n",
       " 'deebdbece',\n",
       " 'edbdbed',\n",
       " 'cabbb',\n",
       " 'cbedc',\n",
       " 'eebaa',\n",
       " 'eead',\n",
       " 'ccaacedde',\n",
       " 'bdebacec',\n",
       " 'decb',\n",
       " 'c',\n",
       " 'a',\n",
       " 'ccccdeea',\n",
       " 'e',\n",
       " 'bcabbbceab',\n",
       " 'aadccdbda',\n",
       " 'cdadcdc',\n",
       " 'ce',\n",
       " 'cbd',\n",
       " 'cbccddcbebebab',\n",
       " 'eedabcdcaacdaceceeb',\n",
       " 'aac',\n",
       " 'debaa',\n",
       " 'a',\n",
       " 'd',\n",
       " 'ebbebe',\n",
       " 'ddecbbe',\n",
       " 'a',\n",
       " 'daea',\n",
       " 'bdacaac',\n",
       " 'daecacbcdbcbdebdda',\n",
       " 'dadd',\n",
       " 'ededabaaabdcdaac',\n",
       " 'b',\n",
       " 'edde',\n",
       " 'ecceeebaad',\n",
       " 'debbaacadeeebcace',\n",
       " 'c',\n",
       " 'a',\n",
       " 'e',\n",
       " 'a',\n",
       " 'c',\n",
       " 'abaceaccacceebbcbab',\n",
       " 'bacda',\n",
       " 'baebcee',\n",
       " 'eddc',\n",
       " 'bd',\n",
       " 'dbeea',\n",
       " 'dda',\n",
       " 'ddedde',\n",
       " 'e',\n",
       " 'bbbbacdabacdcdadcddbced',\n",
       " 'b',\n",
       " 'ceb',\n",
       " 'becc',\n",
       " 'dcbedca',\n",
       " 'deccaccbdbcaaaea',\n",
       " 'bedee',\n",
       " 'a',\n",
       " 'bdbddbaee',\n",
       " 'ebbaae',\n",
       " 'bd',\n",
       " 'eede',\n",
       " 'cedabebabc',\n",
       " 'bd',\n",
       " 'eccbdceeb',\n",
       " 'aadeaaaadadebedabdedcecccabe',\n",
       " 'bacaabd',\n",
       " 'dbe',\n",
       " 'eaadbe',\n",
       " 'abdeaeacbce',\n",
       " 'aabeccacdcbceacbadcb',\n",
       " 'eaeacdeaaaaebeaabd',\n",
       " 'edaea',\n",
       " 'cabadaabeaedc',\n",
       " 'acbced',\n",
       " 'bcaeddcbbada',\n",
       " 'ceadcbae',\n",
       " 'd',\n",
       " 'c',\n",
       " 'bdcdaceaddca',\n",
       " 'e',\n",
       " 'c',\n",
       " 'd',\n",
       " 'ac',\n",
       " 'dede',\n",
       " 'ebeedac',\n",
       " 'be',\n",
       " 'cdbacccd',\n",
       " 'dabcdce',\n",
       " 'edddeb',\n",
       " 'aeaebca',\n",
       " 'e',\n",
       " 'e',\n",
       " 'e',\n",
       " 'b',\n",
       " 'bcd',\n",
       " 'aaecbade',\n",
       " 'c',\n",
       " 'edaacddaadaeb',\n",
       " 'b',\n",
       " 'ecbe',\n",
       " 'abe',\n",
       " 'b',\n",
       " 'eeacbe',\n",
       " 'aaccaecbcbcc',\n",
       " 'c',\n",
       " 'ccbcc',\n",
       " 'cbae',\n",
       " 'edaa',\n",
       " 'cadedaeeaec',\n",
       " 'cbcabeec',\n",
       " 'dca',\n",
       " 'deaabbdade',\n",
       " 'cde',\n",
       " 'dbcebaa',\n",
       " 'ddceeccbcb',\n",
       " 'bbcdbb',\n",
       " 'e',\n",
       " 'dbcecbb',\n",
       " 'd',\n",
       " 'ca',\n",
       " 'cdeb',\n",
       " 'acbaec',\n",
       " 'bde',\n",
       " 'ccda',\n",
       " 'ceba',\n",
       " 'd',\n",
       " 'ccbcccedb',\n",
       " 'ecccde',\n",
       " 'cbeccaaabcadbaee',\n",
       " 'b',\n",
       " 'bebcc',\n",
       " 'aacec',\n",
       " 'bcbeddc',\n",
       " 'bddc',\n",
       " 'dedb',\n",
       " 'bcbeabbd',\n",
       " 'd',\n",
       " 'daaccbce',\n",
       " 'ebb',\n",
       " 'bcda',\n",
       " 'bbeecab',\n",
       " 'dadcbbbeddcd',\n",
       " 'c',\n",
       " 'dabbbbee',\n",
       " 'bdbeacbbbeecba',\n",
       " 'a',\n",
       " 'aeaacbcaadaeaeaaeebadbbbde',\n",
       " 'da',\n",
       " 'ccbeaaedcaeec',\n",
       " 'e',\n",
       " 'dab',\n",
       " 'debdeab',\n",
       " 'ce',\n",
       " 'eacbecbaddabbaadceb',\n",
       " 'bdadcacced',\n",
       " 'bc',\n",
       " 'dabce',\n",
       " 'acebe',\n",
       " 'aeacddb',\n",
       " 'eabe',\n",
       " 'cd',\n",
       " 'a',\n",
       " 'accbcbba',\n",
       " 'eacaacdad',\n",
       " 'bedacb',\n",
       " 'aeaea',\n",
       " 'cdbcaddeeeaae',\n",
       " 'ccd',\n",
       " 'dac',\n",
       " 'ed',\n",
       " 'bc',\n",
       " 'ba',\n",
       " 'de',\n",
       " 'abbdab',\n",
       " 'eacbbdcdeacceeedaecdbabed',\n",
       " 'aa',\n",
       " 'dbabbe',\n",
       " 'ddccddbddd',\n",
       " 'a',\n",
       " 'eccedcebee',\n",
       " 'e',\n",
       " 'bbeed',\n",
       " 'acaadbdcbabc',\n",
       " 'ccbabd',\n",
       " 'bd',\n",
       " 'aec',\n",
       " 'ed',\n",
       " 'ababee',\n",
       " 'aba',\n",
       " 'cbeedcceacbaedaedacdb',\n",
       " 'd',\n",
       " 'ae',\n",
       " 'cabdae',\n",
       " 'daeae',\n",
       " 'ccededeaadeabacbebbabbaae',\n",
       " 'a',\n",
       " 'eee',\n",
       " 'e',\n",
       " 'bc',\n",
       " 'c',\n",
       " 'eec',\n",
       " 'a',\n",
       " 'cd',\n",
       " 'cd',\n",
       " 'edd',\n",
       " 'cd',\n",
       " 'bdcddbdecda',\n",
       " 'aadddacadeae',\n",
       " 'ebdeedaaeeece',\n",
       " 'd',\n",
       " 'bced',\n",
       " 'ceabecccdca',\n",
       " 'aeaa',\n",
       " 'bdc',\n",
       " 'ceeacbddcbd',\n",
       " 'cee',\n",
       " 'edacd',\n",
       " 'cca',\n",
       " 'd',\n",
       " 'ad',\n",
       " 'db',\n",
       " 'dbbac',\n",
       " 'ccbbdedea',\n",
       " 'bbc',\n",
       " 'ecdbacebc',\n",
       " 'caaddc',\n",
       " 'eec',\n",
       " 'ebeaebc',\n",
       " 'ddbeedbddceaadbcacccaebdd',\n",
       " 'ddbb',\n",
       " 'eebcaaebb',\n",
       " 'bbbc',\n",
       " 'ebcaedee',\n",
       " 'caeead',\n",
       " 'ddaa',\n",
       " 'be',\n",
       " 'a',\n",
       " 'da',\n",
       " 'cdcabc',\n",
       " 'cbbbcdbadabebbee',\n",
       " 'a',\n",
       " 'ebed',\n",
       " 'dab',\n",
       " 'aebeabe',\n",
       " 'dcdcc',\n",
       " 'ceb',\n",
       " 'aabee',\n",
       " 'ed',\n",
       " 'adcadeaebcecacd',\n",
       " 'ece',\n",
       " 'c',\n",
       " 'eedddbbe',\n",
       " 'eeeaecbccabaeceeddcceab',\n",
       " 'dcca',\n",
       " 'b',\n",
       " 'eddbdb',\n",
       " 'de',\n",
       " 'aca',\n",
       " 'dc',\n",
       " 'acd',\n",
       " 'ebbcbc',\n",
       " 'ddb',\n",
       " 'cb',\n",
       " 'dbcbeeda',\n",
       " 'd',\n",
       " 'dcd',\n",
       " 'cdeaceedecdbbab',\n",
       " 'bcbeecc',\n",
       " 'acbd',\n",
       " 'dbcea',\n",
       " 'acebbc',\n",
       " 'ebd',\n",
       " 'dacdddbbeeabceebb',\n",
       " 'dae',\n",
       " 'cadacbbb',\n",
       " 'ce',\n",
       " 'ace',\n",
       " 'eeeeecbacdccee',\n",
       " 'cae',\n",
       " 'c',\n",
       " 'cbeeaa',\n",
       " 'dcadded',\n",
       " 'daeecabacbaedbbcbaebe',\n",
       " 'beeaeddbeeebdce',\n",
       " 'bdcaaa',\n",
       " 'a',\n",
       " 'edcdbdca',\n",
       " 'daaebb',\n",
       " 'ee',\n",
       " 'cb',\n",
       " 'ba',\n",
       " 'daabbaa',\n",
       " 'adcecc',\n",
       " 'b',\n",
       " 'ea',\n",
       " 'c',\n",
       " 'ddebd',\n",
       " 'ec',\n",
       " 'ea',\n",
       " 'ceb',\n",
       " 'adade',\n",
       " 'aabebcb',\n",
       " 'abadebcecddeb',\n",
       " 'edb',\n",
       " 'bd',\n",
       " 'bbeddeecebcdaadeedc',\n",
       " 'bcbc',\n",
       " 'ebaa',\n",
       " 'c',\n",
       " 'ebdeed',\n",
       " 'acae',\n",
       " 'cc',\n",
       " 'eedb',\n",
       " 'baaa',\n",
       " 'aabbc',\n",
       " 'ebebbbbc',\n",
       " 'abcbaeebb',\n",
       " 'eac',\n",
       " 'ae',\n",
       " 'eedcdaabbaeeea',\n",
       " 'daceacedcebeedba',\n",
       " 'eabebbeddeadbdae',\n",
       " 'eecddbaedacccd',\n",
       " 'b',\n",
       " 'ceabcdecadd',\n",
       " 'dade',\n",
       " 'eaae',\n",
       " 'eadadb',\n",
       " 'ddebdbebedbeca',\n",
       " 'c',\n",
       " 'dce',\n",
       " 'bcbdadddded',\n",
       " 'ecbcccaedcba',\n",
       " 'cbdedb',\n",
       " 'cbdcb',\n",
       " 'ddccd',\n",
       " 'bdbc',\n",
       " 'cedabaebaeeb',\n",
       " 'c',\n",
       " 'abdaddbdebe',\n",
       " 'a',\n",
       " 'badece',\n",
       " 'dccc',\n",
       " 'dabbbbcceeacbbebdcb',\n",
       " 'dcdbcdccebeecbebbcabcec',\n",
       " 'dbbccdadaacdc',\n",
       " 'ceebacdeaeca',\n",
       " 'd',\n",
       " 'ab',\n",
       " 'ebcecce',\n",
       " 'ecacadcaa',\n",
       " 'ed',\n",
       " 'eaacebaccedeccbde',\n",
       " 'ecbbbecaeebbdc',\n",
       " 'caeccddc',\n",
       " 'b',\n",
       " 'cdbae',\n",
       " 'd',\n",
       " 'ae',\n",
       " 'a',\n",
       " 'dabbae',\n",
       " 'bcea',\n",
       " 'e',\n",
       " 'dbbb',\n",
       " 'bbabaddaaca',\n",
       " 'dd',\n",
       " 'cbedddd',\n",
       " 'cca',\n",
       " 'abbdddcabcea',\n",
       " 'bb',\n",
       " 'dbe',\n",
       " 'beaebbbbccaed',\n",
       " 'c',\n",
       " 'eadbabdbadc',\n",
       " 'ab',\n",
       " 'edae',\n",
       " 'aadedcddba',\n",
       " 'e',\n",
       " 'dcabbeb',\n",
       " 'dbadec',\n",
       " 'e',\n",
       " 'bbac',\n",
       " 'e',\n",
       " 'daadee',\n",
       " 'ca',\n",
       " 'ebdbcedebec',\n",
       " 'eabbeeaddddcbec',\n",
       " 'dabcbbebe',\n",
       " 'bc',\n",
       " 'dc',\n",
       " 'cdca',\n",
       " 'd',\n",
       " 'dbaeddbeddeaae',\n",
       " 'eedcce',\n",
       " 'acb',\n",
       " 'edbcbddbacbdcceeaeeeea',\n",
       " 'eae',\n",
       " 'edecdaabad',\n",
       " 'dcce',\n",
       " 'edb',\n",
       " 'eacabaccbddcdc',\n",
       " 'cceebd',\n",
       " 'dbaaeeeaeeeb',\n",
       " 'dcbd',\n",
       " 'cebdeed',\n",
       " 'bdebb',\n",
       " 'c',\n",
       " 'eccdaadeaebbb',\n",
       " 'dbdaeae',\n",
       " 'eebdbb',\n",
       " 'a',\n",
       " 'ce',\n",
       " 'dbaddcb',\n",
       " 'beccadbbb',\n",
       " 'eecababaded',\n",
       " 'ebc',\n",
       " 'c',\n",
       " 'ebc',\n",
       " 'bbeec',\n",
       " 'ccedbacbac',\n",
       " 'e',\n",
       " 'eb',\n",
       " 'debbbeb',\n",
       " 'beedb',\n",
       " 'ed',\n",
       " 'ceedbaaaeabcedee',\n",
       " 'bbd',\n",
       " 'adbeaeabb',\n",
       " 'bb',\n",
       " 'dcbebecbdbceaabdabbedbbcdd',\n",
       " 'bcdadcad',\n",
       " 'ed',\n",
       " 'ae',\n",
       " 'ceebdcc',\n",
       " 'db',\n",
       " 'aa',\n",
       " 'bc',\n",
       " 'cbbdeededaeecbab',\n",
       " 'a',\n",
       " 'b',\n",
       " 'aa',\n",
       " 'ecbddbbbe',\n",
       " 'bbcbdbddb',\n",
       " 'debe',\n",
       " 'ca',\n",
       " 'cacac',\n",
       " 'dacc',\n",
       " 'ca',\n",
       " 'caad',\n",
       " 'bb',\n",
       " 'eead',\n",
       " 'edadebb',\n",
       " 'c',\n",
       " 'bd',\n",
       " 'da',\n",
       " 'cdaaaeb',\n",
       " 'dcb',\n",
       " 'cbccaaaa',\n",
       " 'eaaea',\n",
       " 'addccdcbace',\n",
       " 'cace',\n",
       " 'dbeca',\n",
       " 'dd',\n",
       " 'addc',\n",
       " 'da',\n",
       " 'aa',\n",
       " 'ddaebaaa',\n",
       " 'ccc',\n",
       " 'd',\n",
       " 'bb',\n",
       " 'cdbecaadbe',\n",
       " 'bddd',\n",
       " 'cbee',\n",
       " 'eabbedebabbdabbeabdcaeac',\n",
       " 'aabbe',\n",
       " 'bcda',\n",
       " 'baeeeba',\n",
       " 'babdaaba',\n",
       " 'd',\n",
       " 'bacaccaadbaed',\n",
       " 'beb',\n",
       " 'abaabcba',\n",
       " 'cccbccebdbc',\n",
       " 'dbddacea',\n",
       " 'cbcaac',\n",
       " 'eedecd',\n",
       " 'c',\n",
       " 'aae',\n",
       " 'bbceaba',\n",
       " 'ee',\n",
       " 'ccce',\n",
       " 'ebaacdaacdabbc',\n",
       " 'eabd',\n",
       " ...]"
      ]
     },
     "execution_count": 64,
     "metadata": {},
     "output_type": "execute_result"
    }
   ],
   "source": [
    "tokens"
   ]
  },
  {
   "cell_type": "code",
   "execution_count": null,
   "metadata": {},
   "outputs": [
    {
     "data": {
      "text/plain": [
       "[<matplotlib.lines.Line2D at 0x7fb5955b3588>]"
      ]
     },
     "execution_count": 65,
     "metadata": {},
     "output_type": "execute_result"
    },
    {
     "name": "stdout",
     "output_type": "stream",
     "text": [
      "Error in callback <function install_repl_displayhook.<locals>.post_execute at 0x7fb5cf37fbf8> (for post_execute):\n"
     ]
    },
    {
     "ename": "KeyboardInterrupt",
     "evalue": "",
     "output_type": "error",
     "traceback": [
      "\u001b[0;31m---------------------------------------------------------------------------\u001b[0m",
      "\u001b[0;31mKeyboardInterrupt\u001b[0m                         Traceback (most recent call last)",
      "\u001b[0;32m~/opt/anaconda3/envs/sg2/lib/python3.7/site-packages/matplotlib/pyplot.py\u001b[0m in \u001b[0;36mpost_execute\u001b[0;34m()\u001b[0m\n\u001b[1;32m    147\u001b[0m             \u001b[0;32mdef\u001b[0m \u001b[0mpost_execute\u001b[0m\u001b[0;34m(\u001b[0m\u001b[0;34m)\u001b[0m\u001b[0;34m:\u001b[0m\u001b[0;34m\u001b[0m\u001b[0m\n\u001b[1;32m    148\u001b[0m                 \u001b[0;32mif\u001b[0m \u001b[0mmatplotlib\u001b[0m\u001b[0;34m.\u001b[0m\u001b[0mis_interactive\u001b[0m\u001b[0;34m(\u001b[0m\u001b[0;34m)\u001b[0m\u001b[0;34m:\u001b[0m\u001b[0;34m\u001b[0m\u001b[0m\n\u001b[0;32m--> 149\u001b[0;31m                     \u001b[0mdraw_all\u001b[0m\u001b[0;34m(\u001b[0m\u001b[0;34m)\u001b[0m\u001b[0;34m\u001b[0m\u001b[0m\n\u001b[0m\u001b[1;32m    150\u001b[0m \u001b[0;34m\u001b[0m\u001b[0m\n\u001b[1;32m    151\u001b[0m             \u001b[0;31m# IPython >= 2\u001b[0m\u001b[0;34m\u001b[0m\u001b[0;34m\u001b[0m\u001b[0m\n",
      "\u001b[0;32m~/opt/anaconda3/envs/sg2/lib/python3.7/site-packages/matplotlib/_pylab_helpers.py\u001b[0m in \u001b[0;36mdraw_all\u001b[0;34m(cls, force)\u001b[0m\n\u001b[1;32m    134\u001b[0m         \u001b[0;32mfor\u001b[0m \u001b[0mf_mgr\u001b[0m \u001b[0;32min\u001b[0m \u001b[0mcls\u001b[0m\u001b[0;34m.\u001b[0m\u001b[0mget_all_fig_managers\u001b[0m\u001b[0;34m(\u001b[0m\u001b[0;34m)\u001b[0m\u001b[0;34m:\u001b[0m\u001b[0;34m\u001b[0m\u001b[0m\n\u001b[1;32m    135\u001b[0m             \u001b[0;32mif\u001b[0m \u001b[0mforce\u001b[0m \u001b[0;32mor\u001b[0m \u001b[0mf_mgr\u001b[0m\u001b[0;34m.\u001b[0m\u001b[0mcanvas\u001b[0m\u001b[0;34m.\u001b[0m\u001b[0mfigure\u001b[0m\u001b[0;34m.\u001b[0m\u001b[0mstale\u001b[0m\u001b[0;34m:\u001b[0m\u001b[0;34m\u001b[0m\u001b[0m\n\u001b[0;32m--> 136\u001b[0;31m                 \u001b[0mf_mgr\u001b[0m\u001b[0;34m.\u001b[0m\u001b[0mcanvas\u001b[0m\u001b[0;34m.\u001b[0m\u001b[0mdraw_idle\u001b[0m\u001b[0;34m(\u001b[0m\u001b[0;34m)\u001b[0m\u001b[0;34m\u001b[0m\u001b[0m\n\u001b[0m\u001b[1;32m    137\u001b[0m \u001b[0;34m\u001b[0m\u001b[0m\n\u001b[1;32m    138\u001b[0m \u001b[0matexit\u001b[0m\u001b[0;34m.\u001b[0m\u001b[0mregister\u001b[0m\u001b[0;34m(\u001b[0m\u001b[0mGcf\u001b[0m\u001b[0;34m.\u001b[0m\u001b[0mdestroy_all\u001b[0m\u001b[0;34m)\u001b[0m\u001b[0;34m\u001b[0m\u001b[0m\n",
      "\u001b[0;32m~/opt/anaconda3/envs/sg2/lib/python3.7/site-packages/matplotlib/backend_bases.py\u001b[0m in \u001b[0;36mdraw_idle\u001b[0;34m(self, *args, **kwargs)\u001b[0m\n\u001b[1;32m   2053\u001b[0m         \u001b[0;32mif\u001b[0m \u001b[0;32mnot\u001b[0m \u001b[0mself\u001b[0m\u001b[0;34m.\u001b[0m\u001b[0m_is_idle_drawing\u001b[0m\u001b[0;34m:\u001b[0m\u001b[0;34m\u001b[0m\u001b[0m\n\u001b[1;32m   2054\u001b[0m             \u001b[0;32mwith\u001b[0m \u001b[0mself\u001b[0m\u001b[0;34m.\u001b[0m\u001b[0m_idle_draw_cntx\u001b[0m\u001b[0;34m(\u001b[0m\u001b[0;34m)\u001b[0m\u001b[0;34m:\u001b[0m\u001b[0;34m\u001b[0m\u001b[0m\n\u001b[0;32m-> 2055\u001b[0;31m                 \u001b[0mself\u001b[0m\u001b[0;34m.\u001b[0m\u001b[0mdraw\u001b[0m\u001b[0;34m(\u001b[0m\u001b[0;34m*\u001b[0m\u001b[0margs\u001b[0m\u001b[0;34m,\u001b[0m \u001b[0;34m**\u001b[0m\u001b[0mkwargs\u001b[0m\u001b[0;34m)\u001b[0m\u001b[0;34m\u001b[0m\u001b[0m\n\u001b[0m\u001b[1;32m   2056\u001b[0m \u001b[0;34m\u001b[0m\u001b[0m\n\u001b[1;32m   2057\u001b[0m     \u001b[0;32mdef\u001b[0m \u001b[0mdraw_cursor\u001b[0m\u001b[0;34m(\u001b[0m\u001b[0mself\u001b[0m\u001b[0;34m,\u001b[0m \u001b[0mevent\u001b[0m\u001b[0;34m)\u001b[0m\u001b[0;34m:\u001b[0m\u001b[0;34m\u001b[0m\u001b[0m\n",
      "\u001b[0;32m~/opt/anaconda3/envs/sg2/lib/python3.7/site-packages/matplotlib/backends/backend_agg.py\u001b[0m in \u001b[0;36mdraw\u001b[0;34m(self)\u001b[0m\n\u001b[1;32m    435\u001b[0m             \u001b[0;31m# if toolbar:\u001b[0m\u001b[0;34m\u001b[0m\u001b[0;34m\u001b[0m\u001b[0m\n\u001b[1;32m    436\u001b[0m             \u001b[0;31m#     toolbar.set_cursor(cursors.WAIT)\u001b[0m\u001b[0;34m\u001b[0m\u001b[0;34m\u001b[0m\u001b[0m\n\u001b[0;32m--> 437\u001b[0;31m             \u001b[0mself\u001b[0m\u001b[0;34m.\u001b[0m\u001b[0mfigure\u001b[0m\u001b[0;34m.\u001b[0m\u001b[0mdraw\u001b[0m\u001b[0;34m(\u001b[0m\u001b[0mself\u001b[0m\u001b[0;34m.\u001b[0m\u001b[0mrenderer\u001b[0m\u001b[0;34m)\u001b[0m\u001b[0;34m\u001b[0m\u001b[0m\n\u001b[0m\u001b[1;32m    438\u001b[0m             \u001b[0;31m# A GUI class may be need to update a window using this draw, so\u001b[0m\u001b[0;34m\u001b[0m\u001b[0;34m\u001b[0m\u001b[0m\n\u001b[1;32m    439\u001b[0m             \u001b[0;31m# don't forget to call the superclass.\u001b[0m\u001b[0;34m\u001b[0m\u001b[0;34m\u001b[0m\u001b[0m\n",
      "\u001b[0;32m~/opt/anaconda3/envs/sg2/lib/python3.7/site-packages/matplotlib/artist.py\u001b[0m in \u001b[0;36mdraw_wrapper\u001b[0;34m(artist, renderer, *args, **kwargs)\u001b[0m\n\u001b[1;32m     53\u001b[0m                 \u001b[0mrenderer\u001b[0m\u001b[0;34m.\u001b[0m\u001b[0mstart_filter\u001b[0m\u001b[0;34m(\u001b[0m\u001b[0;34m)\u001b[0m\u001b[0;34m\u001b[0m\u001b[0m\n\u001b[1;32m     54\u001b[0m \u001b[0;34m\u001b[0m\u001b[0m\n\u001b[0;32m---> 55\u001b[0;31m             \u001b[0;32mreturn\u001b[0m \u001b[0mdraw\u001b[0m\u001b[0;34m(\u001b[0m\u001b[0martist\u001b[0m\u001b[0;34m,\u001b[0m \u001b[0mrenderer\u001b[0m\u001b[0;34m,\u001b[0m \u001b[0;34m*\u001b[0m\u001b[0margs\u001b[0m\u001b[0;34m,\u001b[0m \u001b[0;34m**\u001b[0m\u001b[0mkwargs\u001b[0m\u001b[0;34m)\u001b[0m\u001b[0;34m\u001b[0m\u001b[0m\n\u001b[0m\u001b[1;32m     56\u001b[0m         \u001b[0;32mfinally\u001b[0m\u001b[0;34m:\u001b[0m\u001b[0;34m\u001b[0m\u001b[0m\n\u001b[1;32m     57\u001b[0m             \u001b[0;32mif\u001b[0m \u001b[0martist\u001b[0m\u001b[0;34m.\u001b[0m\u001b[0mget_agg_filter\u001b[0m\u001b[0;34m(\u001b[0m\u001b[0;34m)\u001b[0m \u001b[0;32mis\u001b[0m \u001b[0;32mnot\u001b[0m \u001b[0;32mNone\u001b[0m\u001b[0;34m:\u001b[0m\u001b[0;34m\u001b[0m\u001b[0m\n",
      "\u001b[0;32m~/opt/anaconda3/envs/sg2/lib/python3.7/site-packages/matplotlib/figure.py\u001b[0m in \u001b[0;36mdraw\u001b[0;34m(self, renderer)\u001b[0m\n\u001b[1;32m   1491\u001b[0m \u001b[0;34m\u001b[0m\u001b[0m\n\u001b[1;32m   1492\u001b[0m             mimage._draw_list_compositing_images(\n\u001b[0;32m-> 1493\u001b[0;31m                 renderer, self, artists, self.suppressComposite)\n\u001b[0m\u001b[1;32m   1494\u001b[0m \u001b[0;34m\u001b[0m\u001b[0m\n\u001b[1;32m   1495\u001b[0m             \u001b[0mrenderer\u001b[0m\u001b[0;34m.\u001b[0m\u001b[0mclose_group\u001b[0m\u001b[0;34m(\u001b[0m\u001b[0;34m'figure'\u001b[0m\u001b[0;34m)\u001b[0m\u001b[0;34m\u001b[0m\u001b[0m\n",
      "\u001b[0;32m~/opt/anaconda3/envs/sg2/lib/python3.7/site-packages/matplotlib/image.py\u001b[0m in \u001b[0;36m_draw_list_compositing_images\u001b[0;34m(renderer, parent, artists, suppress_composite)\u001b[0m\n\u001b[1;32m    139\u001b[0m     \u001b[0;32mif\u001b[0m \u001b[0mnot_composite\u001b[0m \u001b[0;32mor\u001b[0m \u001b[0;32mnot\u001b[0m \u001b[0mhas_images\u001b[0m\u001b[0;34m:\u001b[0m\u001b[0;34m\u001b[0m\u001b[0m\n\u001b[1;32m    140\u001b[0m         \u001b[0;32mfor\u001b[0m \u001b[0ma\u001b[0m \u001b[0;32min\u001b[0m \u001b[0martists\u001b[0m\u001b[0;34m:\u001b[0m\u001b[0;34m\u001b[0m\u001b[0m\n\u001b[0;32m--> 141\u001b[0;31m             \u001b[0ma\u001b[0m\u001b[0;34m.\u001b[0m\u001b[0mdraw\u001b[0m\u001b[0;34m(\u001b[0m\u001b[0mrenderer\u001b[0m\u001b[0;34m)\u001b[0m\u001b[0;34m\u001b[0m\u001b[0m\n\u001b[0m\u001b[1;32m    142\u001b[0m     \u001b[0;32melse\u001b[0m\u001b[0;34m:\u001b[0m\u001b[0;34m\u001b[0m\u001b[0m\n\u001b[1;32m    143\u001b[0m         \u001b[0;31m# Composite any adjacent images together\u001b[0m\u001b[0;34m\u001b[0m\u001b[0;34m\u001b[0m\u001b[0m\n",
      "\u001b[0;32m~/opt/anaconda3/envs/sg2/lib/python3.7/site-packages/matplotlib/artist.py\u001b[0m in \u001b[0;36mdraw_wrapper\u001b[0;34m(artist, renderer, *args, **kwargs)\u001b[0m\n\u001b[1;32m     53\u001b[0m                 \u001b[0mrenderer\u001b[0m\u001b[0;34m.\u001b[0m\u001b[0mstart_filter\u001b[0m\u001b[0;34m(\u001b[0m\u001b[0;34m)\u001b[0m\u001b[0;34m\u001b[0m\u001b[0m\n\u001b[1;32m     54\u001b[0m \u001b[0;34m\u001b[0m\u001b[0m\n\u001b[0;32m---> 55\u001b[0;31m             \u001b[0;32mreturn\u001b[0m \u001b[0mdraw\u001b[0m\u001b[0;34m(\u001b[0m\u001b[0martist\u001b[0m\u001b[0;34m,\u001b[0m \u001b[0mrenderer\u001b[0m\u001b[0;34m,\u001b[0m \u001b[0;34m*\u001b[0m\u001b[0margs\u001b[0m\u001b[0;34m,\u001b[0m \u001b[0;34m**\u001b[0m\u001b[0mkwargs\u001b[0m\u001b[0;34m)\u001b[0m\u001b[0;34m\u001b[0m\u001b[0m\n\u001b[0m\u001b[1;32m     56\u001b[0m         \u001b[0;32mfinally\u001b[0m\u001b[0;34m:\u001b[0m\u001b[0;34m\u001b[0m\u001b[0m\n\u001b[1;32m     57\u001b[0m             \u001b[0;32mif\u001b[0m \u001b[0martist\u001b[0m\u001b[0;34m.\u001b[0m\u001b[0mget_agg_filter\u001b[0m\u001b[0;34m(\u001b[0m\u001b[0;34m)\u001b[0m \u001b[0;32mis\u001b[0m \u001b[0;32mnot\u001b[0m \u001b[0;32mNone\u001b[0m\u001b[0;34m:\u001b[0m\u001b[0;34m\u001b[0m\u001b[0m\n",
      "\u001b[0;32m~/opt/anaconda3/envs/sg2/lib/python3.7/site-packages/matplotlib/axes/_base.py\u001b[0m in \u001b[0;36mdraw\u001b[0;34m(self, renderer, inframe)\u001b[0m\n\u001b[1;32m   2633\u001b[0m             \u001b[0mrenderer\u001b[0m\u001b[0;34m.\u001b[0m\u001b[0mstop_rasterizing\u001b[0m\u001b[0;34m(\u001b[0m\u001b[0;34m)\u001b[0m\u001b[0;34m\u001b[0m\u001b[0m\n\u001b[1;32m   2634\u001b[0m \u001b[0;34m\u001b[0m\u001b[0m\n\u001b[0;32m-> 2635\u001b[0;31m         \u001b[0mmimage\u001b[0m\u001b[0;34m.\u001b[0m\u001b[0m_draw_list_compositing_images\u001b[0m\u001b[0;34m(\u001b[0m\u001b[0mrenderer\u001b[0m\u001b[0;34m,\u001b[0m \u001b[0mself\u001b[0m\u001b[0;34m,\u001b[0m \u001b[0martists\u001b[0m\u001b[0;34m)\u001b[0m\u001b[0;34m\u001b[0m\u001b[0m\n\u001b[0m\u001b[1;32m   2636\u001b[0m \u001b[0;34m\u001b[0m\u001b[0m\n\u001b[1;32m   2637\u001b[0m         \u001b[0mrenderer\u001b[0m\u001b[0;34m.\u001b[0m\u001b[0mclose_group\u001b[0m\u001b[0;34m(\u001b[0m\u001b[0;34m'axes'\u001b[0m\u001b[0;34m)\u001b[0m\u001b[0;34m\u001b[0m\u001b[0m\n",
      "\u001b[0;32m~/opt/anaconda3/envs/sg2/lib/python3.7/site-packages/matplotlib/image.py\u001b[0m in \u001b[0;36m_draw_list_compositing_images\u001b[0;34m(renderer, parent, artists, suppress_composite)\u001b[0m\n\u001b[1;32m    139\u001b[0m     \u001b[0;32mif\u001b[0m \u001b[0mnot_composite\u001b[0m \u001b[0;32mor\u001b[0m \u001b[0;32mnot\u001b[0m \u001b[0mhas_images\u001b[0m\u001b[0;34m:\u001b[0m\u001b[0;34m\u001b[0m\u001b[0m\n\u001b[1;32m    140\u001b[0m         \u001b[0;32mfor\u001b[0m \u001b[0ma\u001b[0m \u001b[0;32min\u001b[0m \u001b[0martists\u001b[0m\u001b[0;34m:\u001b[0m\u001b[0;34m\u001b[0m\u001b[0m\n\u001b[0;32m--> 141\u001b[0;31m             \u001b[0ma\u001b[0m\u001b[0;34m.\u001b[0m\u001b[0mdraw\u001b[0m\u001b[0;34m(\u001b[0m\u001b[0mrenderer\u001b[0m\u001b[0;34m)\u001b[0m\u001b[0;34m\u001b[0m\u001b[0m\n\u001b[0m\u001b[1;32m    142\u001b[0m     \u001b[0;32melse\u001b[0m\u001b[0;34m:\u001b[0m\u001b[0;34m\u001b[0m\u001b[0m\n\u001b[1;32m    143\u001b[0m         \u001b[0;31m# Composite any adjacent images together\u001b[0m\u001b[0;34m\u001b[0m\u001b[0;34m\u001b[0m\u001b[0m\n",
      "\u001b[0;32m~/opt/anaconda3/envs/sg2/lib/python3.7/site-packages/matplotlib/artist.py\u001b[0m in \u001b[0;36mdraw_wrapper\u001b[0;34m(artist, renderer, *args, **kwargs)\u001b[0m\n\u001b[1;32m     53\u001b[0m                 \u001b[0mrenderer\u001b[0m\u001b[0;34m.\u001b[0m\u001b[0mstart_filter\u001b[0m\u001b[0;34m(\u001b[0m\u001b[0;34m)\u001b[0m\u001b[0;34m\u001b[0m\u001b[0m\n\u001b[1;32m     54\u001b[0m \u001b[0;34m\u001b[0m\u001b[0m\n\u001b[0;32m---> 55\u001b[0;31m             \u001b[0;32mreturn\u001b[0m \u001b[0mdraw\u001b[0m\u001b[0;34m(\u001b[0m\u001b[0martist\u001b[0m\u001b[0;34m,\u001b[0m \u001b[0mrenderer\u001b[0m\u001b[0;34m,\u001b[0m \u001b[0;34m*\u001b[0m\u001b[0margs\u001b[0m\u001b[0;34m,\u001b[0m \u001b[0;34m**\u001b[0m\u001b[0mkwargs\u001b[0m\u001b[0;34m)\u001b[0m\u001b[0;34m\u001b[0m\u001b[0m\n\u001b[0m\u001b[1;32m     56\u001b[0m         \u001b[0;32mfinally\u001b[0m\u001b[0;34m:\u001b[0m\u001b[0;34m\u001b[0m\u001b[0m\n\u001b[1;32m     57\u001b[0m             \u001b[0;32mif\u001b[0m \u001b[0martist\u001b[0m\u001b[0;34m.\u001b[0m\u001b[0mget_agg_filter\u001b[0m\u001b[0;34m(\u001b[0m\u001b[0;34m)\u001b[0m \u001b[0;32mis\u001b[0m \u001b[0;32mnot\u001b[0m \u001b[0;32mNone\u001b[0m\u001b[0;34m:\u001b[0m\u001b[0;34m\u001b[0m\u001b[0m\n",
      "\u001b[0;32m~/opt/anaconda3/envs/sg2/lib/python3.7/site-packages/matplotlib/axis.py\u001b[0m in \u001b[0;36mdraw\u001b[0;34m(self, renderer, *args, **kwargs)\u001b[0m\n\u001b[1;32m   1188\u001b[0m         \u001b[0mrenderer\u001b[0m\u001b[0;34m.\u001b[0m\u001b[0mopen_group\u001b[0m\u001b[0;34m(\u001b[0m\u001b[0m__name__\u001b[0m\u001b[0;34m)\u001b[0m\u001b[0;34m\u001b[0m\u001b[0m\n\u001b[1;32m   1189\u001b[0m \u001b[0;34m\u001b[0m\u001b[0m\n\u001b[0;32m-> 1190\u001b[0;31m         \u001b[0mticks_to_draw\u001b[0m \u001b[0;34m=\u001b[0m \u001b[0mself\u001b[0m\u001b[0;34m.\u001b[0m\u001b[0m_update_ticks\u001b[0m\u001b[0;34m(\u001b[0m\u001b[0mrenderer\u001b[0m\u001b[0;34m)\u001b[0m\u001b[0;34m\u001b[0m\u001b[0m\n\u001b[0m\u001b[1;32m   1191\u001b[0m         ticklabelBoxes, ticklabelBoxes2 = self._get_tick_bboxes(ticks_to_draw,\n\u001b[1;32m   1192\u001b[0m                                                                 renderer)\n",
      "\u001b[0;32m~/opt/anaconda3/envs/sg2/lib/python3.7/site-packages/matplotlib/axis.py\u001b[0m in \u001b[0;36m_update_ticks\u001b[0;34m(self, renderer)\u001b[0m\n\u001b[1;32m   1026\u001b[0m \u001b[0;34m\u001b[0m\u001b[0m\n\u001b[1;32m   1027\u001b[0m         \u001b[0minterval\u001b[0m \u001b[0;34m=\u001b[0m \u001b[0mself\u001b[0m\u001b[0;34m.\u001b[0m\u001b[0mget_view_interval\u001b[0m\u001b[0;34m(\u001b[0m\u001b[0;34m)\u001b[0m\u001b[0;34m\u001b[0m\u001b[0m\n\u001b[0;32m-> 1028\u001b[0;31m         \u001b[0mtick_tups\u001b[0m \u001b[0;34m=\u001b[0m \u001b[0mlist\u001b[0m\u001b[0;34m(\u001b[0m\u001b[0mself\u001b[0m\u001b[0;34m.\u001b[0m\u001b[0miter_ticks\u001b[0m\u001b[0;34m(\u001b[0m\u001b[0;34m)\u001b[0m\u001b[0;34m)\u001b[0m  \u001b[0;31m# iter_ticks calls the locator\u001b[0m\u001b[0;34m\u001b[0m\u001b[0m\n\u001b[0m\u001b[1;32m   1029\u001b[0m         \u001b[0;32mif\u001b[0m \u001b[0mself\u001b[0m\u001b[0;34m.\u001b[0m\u001b[0m_smart_bounds\u001b[0m \u001b[0;32mand\u001b[0m \u001b[0mtick_tups\u001b[0m\u001b[0;34m:\u001b[0m\u001b[0;34m\u001b[0m\u001b[0m\n\u001b[1;32m   1030\u001b[0m             \u001b[0;31m# handle inverted limits\u001b[0m\u001b[0;34m\u001b[0m\u001b[0;34m\u001b[0m\u001b[0m\n",
      "\u001b[0;32m~/opt/anaconda3/envs/sg2/lib/python3.7/site-packages/matplotlib/axis.py\u001b[0m in \u001b[0;36miter_ticks\u001b[0;34m(self)\u001b[0m\n\u001b[1;32m    973\u001b[0m         \u001b[0mself\u001b[0m\u001b[0;34m.\u001b[0m\u001b[0mmajor\u001b[0m\u001b[0;34m.\u001b[0m\u001b[0mformatter\u001b[0m\u001b[0;34m.\u001b[0m\u001b[0mset_locs\u001b[0m\u001b[0;34m(\u001b[0m\u001b[0mmajorLocs\u001b[0m\u001b[0;34m)\u001b[0m\u001b[0;34m\u001b[0m\u001b[0m\n\u001b[1;32m    974\u001b[0m         majorLabels = [self.major.formatter(val, i)\n\u001b[0;32m--> 975\u001b[0;31m                        for i, val in enumerate(majorLocs)]\n\u001b[0m\u001b[1;32m    976\u001b[0m \u001b[0;34m\u001b[0m\u001b[0m\n\u001b[1;32m    977\u001b[0m         \u001b[0mminorLocs\u001b[0m \u001b[0;34m=\u001b[0m \u001b[0mself\u001b[0m\u001b[0;34m.\u001b[0m\u001b[0mminor\u001b[0m\u001b[0;34m.\u001b[0m\u001b[0mlocator\u001b[0m\u001b[0;34m(\u001b[0m\u001b[0;34m)\u001b[0m\u001b[0;34m\u001b[0m\u001b[0m\n",
      "\u001b[0;32m~/opt/anaconda3/envs/sg2/lib/python3.7/site-packages/matplotlib/axis.py\u001b[0m in \u001b[0;36m<listcomp>\u001b[0;34m(.0)\u001b[0m\n\u001b[1;32m    973\u001b[0m         \u001b[0mself\u001b[0m\u001b[0;34m.\u001b[0m\u001b[0mmajor\u001b[0m\u001b[0;34m.\u001b[0m\u001b[0mformatter\u001b[0m\u001b[0;34m.\u001b[0m\u001b[0mset_locs\u001b[0m\u001b[0;34m(\u001b[0m\u001b[0mmajorLocs\u001b[0m\u001b[0;34m)\u001b[0m\u001b[0;34m\u001b[0m\u001b[0m\n\u001b[1;32m    974\u001b[0m         majorLabels = [self.major.formatter(val, i)\n\u001b[0;32m--> 975\u001b[0;31m                        for i, val in enumerate(majorLocs)]\n\u001b[0m\u001b[1;32m    976\u001b[0m \u001b[0;34m\u001b[0m\u001b[0m\n\u001b[1;32m    977\u001b[0m         \u001b[0mminorLocs\u001b[0m \u001b[0;34m=\u001b[0m \u001b[0mself\u001b[0m\u001b[0;34m.\u001b[0m\u001b[0mminor\u001b[0m\u001b[0;34m.\u001b[0m\u001b[0mlocator\u001b[0m\u001b[0;34m(\u001b[0m\u001b[0;34m)\u001b[0m\u001b[0;34m\u001b[0m\u001b[0m\n",
      "\u001b[0;32m~/opt/anaconda3/envs/sg2/lib/python3.7/site-packages/matplotlib/category.py\u001b[0m in \u001b[0;36m__call__\u001b[0;34m(self, x, pos)\u001b[0m\n\u001b[1;32m    152\u001b[0m             \u001b[0;32mreturn\u001b[0m \u001b[0;34m\"\"\u001b[0m\u001b[0;34m\u001b[0m\u001b[0m\n\u001b[1;32m    153\u001b[0m         r_mapping = {v: StrCategoryFormatter._text(k)\n\u001b[0;32m--> 154\u001b[0;31m                      for k, v in self._units.items()}\n\u001b[0m\u001b[1;32m    155\u001b[0m         \u001b[0;32mreturn\u001b[0m \u001b[0mr_mapping\u001b[0m\u001b[0;34m.\u001b[0m\u001b[0mget\u001b[0m\u001b[0;34m(\u001b[0m\u001b[0mint\u001b[0m\u001b[0;34m(\u001b[0m\u001b[0mnp\u001b[0m\u001b[0;34m.\u001b[0m\u001b[0mround\u001b[0m\u001b[0;34m(\u001b[0m\u001b[0mx\u001b[0m\u001b[0;34m)\u001b[0m\u001b[0;34m)\u001b[0m\u001b[0;34m,\u001b[0m \u001b[0;34m''\u001b[0m\u001b[0;34m)\u001b[0m\u001b[0;34m\u001b[0m\u001b[0m\n\u001b[1;32m    156\u001b[0m \u001b[0;34m\u001b[0m\u001b[0m\n",
      "\u001b[0;32m~/opt/anaconda3/envs/sg2/lib/python3.7/site-packages/matplotlib/category.py\u001b[0m in \u001b[0;36m<dictcomp>\u001b[0;34m(.0)\u001b[0m\n\u001b[1;32m    152\u001b[0m             \u001b[0;32mreturn\u001b[0m \u001b[0;34m\"\"\u001b[0m\u001b[0;34m\u001b[0m\u001b[0m\n\u001b[1;32m    153\u001b[0m         r_mapping = {v: StrCategoryFormatter._text(k)\n\u001b[0;32m--> 154\u001b[0;31m                      for k, v in self._units.items()}\n\u001b[0m\u001b[1;32m    155\u001b[0m         \u001b[0;32mreturn\u001b[0m \u001b[0mr_mapping\u001b[0m\u001b[0;34m.\u001b[0m\u001b[0mget\u001b[0m\u001b[0;34m(\u001b[0m\u001b[0mint\u001b[0m\u001b[0;34m(\u001b[0m\u001b[0mnp\u001b[0m\u001b[0;34m.\u001b[0m\u001b[0mround\u001b[0m\u001b[0;34m(\u001b[0m\u001b[0mx\u001b[0m\u001b[0;34m)\u001b[0m\u001b[0;34m)\u001b[0m\u001b[0;34m,\u001b[0m \u001b[0;34m''\u001b[0m\u001b[0;34m)\u001b[0m\u001b[0;34m\u001b[0m\u001b[0m\n\u001b[1;32m    156\u001b[0m \u001b[0;34m\u001b[0m\u001b[0m\n",
      "\u001b[0;32m~/opt/anaconda3/envs/sg2/lib/python3.7/site-packages/matplotlib/category.py\u001b[0m in \u001b[0;36m_text\u001b[0;34m(value)\u001b[0m\n\u001b[1;32m    159\u001b[0m         \"\"\"Converts text values into `utf-8` or `ascii` strings\n\u001b[1;32m    160\u001b[0m         \"\"\"\n\u001b[0;32m--> 161\u001b[0;31m         \u001b[0;32mif\u001b[0m \u001b[0mLooseVersion\u001b[0m\u001b[0;34m(\u001b[0m\u001b[0mnp\u001b[0m\u001b[0;34m.\u001b[0m\u001b[0m__version__\u001b[0m\u001b[0;34m)\u001b[0m \u001b[0;34m<\u001b[0m \u001b[0mLooseVersion\u001b[0m\u001b[0;34m(\u001b[0m\u001b[0;34m'1.7.0'\u001b[0m\u001b[0;34m)\u001b[0m\u001b[0;34m:\u001b[0m\u001b[0;34m\u001b[0m\u001b[0m\n\u001b[0m\u001b[1;32m    162\u001b[0m             \u001b[0;32mif\u001b[0m \u001b[0;34m(\u001b[0m\u001b[0misinstance\u001b[0m\u001b[0;34m(\u001b[0m\u001b[0mvalue\u001b[0m\u001b[0;34m,\u001b[0m \u001b[0;34m(\u001b[0m\u001b[0msix\u001b[0m\u001b[0;34m.\u001b[0m\u001b[0mtext_type\u001b[0m\u001b[0;34m,\u001b[0m \u001b[0mnp\u001b[0m\u001b[0;34m.\u001b[0m\u001b[0municode\u001b[0m\u001b[0;34m)\u001b[0m\u001b[0;34m)\u001b[0m\u001b[0;34m)\u001b[0m\u001b[0;34m:\u001b[0m\u001b[0;34m\u001b[0m\u001b[0m\n\u001b[1;32m    163\u001b[0m                 \u001b[0mvalue\u001b[0m \u001b[0;34m=\u001b[0m \u001b[0mvalue\u001b[0m\u001b[0;34m.\u001b[0m\u001b[0mencode\u001b[0m\u001b[0;34m(\u001b[0m\u001b[0;34m'utf-8'\u001b[0m\u001b[0;34m,\u001b[0m \u001b[0;34m'ignore'\u001b[0m\u001b[0;34m)\u001b[0m\u001b[0;34m.\u001b[0m\u001b[0mdecode\u001b[0m\u001b[0;34m(\u001b[0m\u001b[0;34m'utf-8'\u001b[0m\u001b[0;34m)\u001b[0m\u001b[0;34m\u001b[0m\u001b[0m\n",
      "\u001b[0;32m~/opt/anaconda3/envs/sg2/lib/python3.7/distutils/version.py\u001b[0m in \u001b[0;36m__init__\u001b[0;34m(self, vstring)\u001b[0m\n\u001b[1;32m    302\u001b[0m     \u001b[0;32mdef\u001b[0m \u001b[0m__init__\u001b[0m \u001b[0;34m(\u001b[0m\u001b[0mself\u001b[0m\u001b[0;34m,\u001b[0m \u001b[0mvstring\u001b[0m\u001b[0;34m=\u001b[0m\u001b[0;32mNone\u001b[0m\u001b[0;34m)\u001b[0m\u001b[0;34m:\u001b[0m\u001b[0;34m\u001b[0m\u001b[0m\n\u001b[1;32m    303\u001b[0m         \u001b[0;32mif\u001b[0m \u001b[0mvstring\u001b[0m\u001b[0;34m:\u001b[0m\u001b[0;34m\u001b[0m\u001b[0m\n\u001b[0;32m--> 304\u001b[0;31m             \u001b[0mself\u001b[0m\u001b[0;34m.\u001b[0m\u001b[0mparse\u001b[0m\u001b[0;34m(\u001b[0m\u001b[0mvstring\u001b[0m\u001b[0;34m)\u001b[0m\u001b[0;34m\u001b[0m\u001b[0m\n\u001b[0m\u001b[1;32m    305\u001b[0m \u001b[0;34m\u001b[0m\u001b[0m\n\u001b[1;32m    306\u001b[0m \u001b[0;34m\u001b[0m\u001b[0m\n",
      "\u001b[0;32m~/opt/anaconda3/envs/sg2/lib/python3.7/distutils/version.py\u001b[0m in \u001b[0;36mparse\u001b[0;34m(self, vstring)\u001b[0m\n\u001b[1;32m    310\u001b[0m         \u001b[0;31m# use by __str__\u001b[0m\u001b[0;34m\u001b[0m\u001b[0;34m\u001b[0m\u001b[0m\n\u001b[1;32m    311\u001b[0m         \u001b[0mself\u001b[0m\u001b[0;34m.\u001b[0m\u001b[0mvstring\u001b[0m \u001b[0;34m=\u001b[0m \u001b[0mvstring\u001b[0m\u001b[0;34m\u001b[0m\u001b[0m\n\u001b[0;32m--> 312\u001b[0;31m         components = [x for x in self.component_re.split(vstring)\n\u001b[0m\u001b[1;32m    313\u001b[0m                               if x and x != '.']\n\u001b[1;32m    314\u001b[0m         \u001b[0;32mfor\u001b[0m \u001b[0mi\u001b[0m\u001b[0;34m,\u001b[0m \u001b[0mobj\u001b[0m \u001b[0;32min\u001b[0m \u001b[0menumerate\u001b[0m\u001b[0;34m(\u001b[0m\u001b[0mcomponents\u001b[0m\u001b[0;34m)\u001b[0m\u001b[0;34m:\u001b[0m\u001b[0;34m\u001b[0m\u001b[0m\n",
      "\u001b[0;31mKeyboardInterrupt\u001b[0m: "
     ]
    }
   ],
   "source": [
    "plt.loglog(tokens)\n",
    "plt.title(\"Zipf's Law\")\n",
    "plt.xlabel(\"log(rank)\")\n",
    "plt.ylabel(\"log(frequency)\")"
   ]
  },
  {
   "cell_type": "code",
   "execution_count": null,
   "metadata": {},
   "outputs": [],
   "source": []
  }
 ],
 "metadata": {
  "kernelspec": {
   "display_name": "Python 3 (ipykernel)",
   "language": "python",
   "name": "python3"
  },
  "language_info": {
   "codemirror_mode": {
    "name": "ipython",
    "version": 3
   },
   "file_extension": ".py",
   "mimetype": "text/x-python",
   "name": "python",
   "nbconvert_exporter": "python",
   "pygments_lexer": "ipython3",
   "version": "3.7.0"
  }
 },
 "nbformat": 4,
 "nbformat_minor": 4
}
