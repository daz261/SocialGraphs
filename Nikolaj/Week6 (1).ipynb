{
 "cells": [
  {
   "cell_type": "markdown",
   "metadata": {},
   "source": [
    "# Overview\n",
    "\n",
    "We're now switching focus away from Network Science (for a little bit), beginning to think about _Natural Language Processing_ instead. In other words, today will be all about teaching your computer to \"understand\" text. This ties in nicely with our work on the Zelda BotW network, since it is built on the Zelda Wiki which contains pieces of text. We've looked at the network so far - now, let's see if we can include the text. Today is about \n",
    "\n",
    "* Installing the _natural language toolkit_ (NLTK) package and learning the basics of how it works (Chapter 1)\n",
    "* Figuring out how to make NLTK to work with other types of text (Chapter 2).\n",
    "\n",
    "> _Reading_\n",
    "> The reading for today is Natural Language Processing with Python (NLPP) Chapter 1 and 2. [It's free online](http://www.nltk.org/book/). "
   ]
  },
  {
   "cell_type": "markdown",
   "metadata": {},
   "source": [
    "# Part 1: A little lecture\n",
    "\n",
    "> **_Video Lecture_**. Today is all about ***working*** with NLTK, so not much lecturing - you can get my perspective and a little pep-talk"
   ]
  },
  {
   "cell_type": "code",
   "execution_count": 1,
   "metadata": {},
   "outputs": [
    {
     "data": {
      "image/jpeg": "[encoded data removed]",
      "text/html": [
       "\n",
       "        <iframe\n",
       "            width=\"800\"\n",
       "            height=\"450\"\n",
       "            src=\"https://www.youtube.com/embed/Ph0EHmFT3n4\"\n",
       "            frameborder=\"0\"\n",
       "            allowfullscreen\n",
       "        ></iframe>\n",
       "        "
      ],
      "text/plain": [
       "<IPython.lib.display.YouTubeVideo at 0x20c0d24ae88>"
      ]
     },
     "execution_count": 1,
     "metadata": {},
     "output_type": "execute_result"
    }
   ],
   "source": [
    "from IPython.display import YouTubeVideo\n",
    "YouTubeVideo(\"Ph0EHmFT3n4\",width=800, height=450)"
   ]
  },
  {
   "cell_type": "markdown",
   "metadata": {},
   "source": [
    "# Part 2: Installing and the basics"
   ]
  },
  {
   "cell_type": "markdown",
   "metadata": {},
   "source": [
    "## 2.1 NLTK Install tips \n",
    "\n",
    "Check to see if `nltk` is installed on your system by typing `import nltk` in a `notebook`. If it's not already installed, install it as part of _Anaconda_ by typing \n",
    "\n",
    "     conda install nltk \n",
    "\n",
    "at the command prompt. If you don't have them, you can download the various corpora using a command-line version of the downloader that runs in Python notebooks (as mentioned in Ch. 1 Sec. 1.2 of the book): \n",
    "\n",
    "In the Jupyter notebook, run the code \n",
    "\n",
    " `import nltk`\n",
    " \n",
    " `nltk.download()`\n",
    "\n",
    "Now you can hit `d` to download, then type \"book\" to fetch the collection needed today's `nltk` session. Now that everything is up and running, let's get to the actual exercises.\n",
    "\n",
    "**Note**: If, instead of opening the pop-up, your Kernel dies (mine did 😱), you can direclty download the collection by typing `nltk.dwonload(\"book\")` instead."
   ]
  },
  {
   "cell_type": "code",
   "execution_count": 2,
   "metadata": {
    "scrolled": true
   },
   "outputs": [
    {
     "name": "stderr",
     "output_type": "stream",
     "text": [
      "[nltk_data] Downloading collection 'book'\n",
      "[nltk_data]    | \n",
      "[nltk_data]    | Downloading package abc to\n",
      "[nltk_data]    |     C:\\Users\\Nikolaj\\AppData\\Roaming\\nltk_data...\n",
      "[nltk_data]    |   Unzipping corpora\\abc.zip.\n",
      "[nltk_data]    | Downloading package brown to\n",
      "[nltk_data]    |     C:\\Users\\Nikolaj\\AppData\\Roaming\\nltk_data...\n",
      "[nltk_data]    |   Unzipping corpora\\brown.zip.\n",
      "[nltk_data]    | Downloading package chat80 to\n",
      "[nltk_data]    |     C:\\Users\\Nikolaj\\AppData\\Roaming\\nltk_data...\n",
      "[nltk_data]    |   Unzipping corpora\\chat80.zip.\n",
      "[nltk_data]    | Downloading package cmudict to\n",
      "[nltk_data]    |     C:\\Users\\Nikolaj\\AppData\\Roaming\\nltk_data...\n",
      "[nltk_data]    |   Unzipping corpora\\cmudict.zip.\n",
      "[nltk_data]    | Downloading package conll2000 to\n",
      "[nltk_data]    |     C:\\Users\\Nikolaj\\AppData\\Roaming\\nltk_data...\n",
      "[nltk_data]    |   Unzipping corpora\\conll2000.zip.\n",
      "[nltk_data]    | Downloading package conll2002 to\n",
      "[nltk_data]    |     C:\\Users\\Nikolaj\\AppData\\Roaming\\nltk_data...\n",
      "[nltk_data]    |   Unzipping corpora\\conll2002.zip.\n",
      "[nltk_data]    | Downloading package dependency_treebank to\n",
      "[nltk_data]    |     C:\\Users\\Nikolaj\\AppData\\Roaming\\nltk_data...\n",
      "[nltk_data]    |   Unzipping corpora\\dependency_treebank.zip.\n",
      "[nltk_data]    | Downloading package genesis to\n",
      "[nltk_data]    |     C:\\Users\\Nikolaj\\AppData\\Roaming\\nltk_data...\n",
      "[nltk_data]    |   Unzipping corpora\\genesis.zip.\n",
      "[nltk_data]    | Downloading package gutenberg to\n",
      "[nltk_data]    |     C:\\Users\\Nikolaj\\AppData\\Roaming\\nltk_data...\n",
      "[nltk_data]    |   Unzipping corpora\\gutenberg.zip.\n",
      "[nltk_data]    | Downloading package ieer to\n",
      "[nltk_data]    |     C:\\Users\\Nikolaj\\AppData\\Roaming\\nltk_data...\n",
      "[nltk_data]    |   Unzipping corpora\\ieer.zip.\n",
      "[nltk_data]    | Downloading package inaugural to\n",
      "[nltk_data]    |     C:\\Users\\Nikolaj\\AppData\\Roaming\\nltk_data...\n",
      "[nltk_data]    |   Unzipping corpora\\inaugural.zip.\n",
      "[nltk_data]    | Downloading package movie_reviews to\n",
      "[nltk_data]    |     C:\\Users\\Nikolaj\\AppData\\Roaming\\nltk_data...\n",
      "[nltk_data]    |   Unzipping corpora\\movie_reviews.zip.\n",
      "[nltk_data]    | Downloading package nps_chat to\n",
      "[nltk_data]    |     C:\\Users\\Nikolaj\\AppData\\Roaming\\nltk_data...\n",
      "[nltk_data]    |   Unzipping corpora\\nps_chat.zip.\n",
      "[nltk_data]    | Downloading package names to\n",
      "[nltk_data]    |     C:\\Users\\Nikolaj\\AppData\\Roaming\\nltk_data...\n",
      "[nltk_data]    |   Unzipping corpora\\names.zip.\n",
      "[nltk_data]    | Downloading package ppattach to\n",
      "[nltk_data]    |     C:\\Users\\Nikolaj\\AppData\\Roaming\\nltk_data...\n",
      "[nltk_data]    |   Unzipping corpora\\ppattach.zip.\n",
      "[nltk_data]    | Downloading package reuters to\n",
      "[nltk_data]    |     C:\\Users\\Nikolaj\\AppData\\Roaming\\nltk_data...\n",
      "[nltk_data]    | Downloading package senseval to\n",
      "[nltk_data]    |     C:\\Users\\Nikolaj\\AppData\\Roaming\\nltk_data...\n",
      "[nltk_data]    |   Unzipping corpora\\senseval.zip.\n",
      "[nltk_data]    | Downloading package state_union to\n",
      "[nltk_data]    |     C:\\Users\\Nikolaj\\AppData\\Roaming\\nltk_data...\n",
      "[nltk_data]    |   Unzipping corpora\\state_union.zip.\n",
      "[nltk_data]    | Downloading package stopwords to\n",
      "[nltk_data]    |     C:\\Users\\Nikolaj\\AppData\\Roaming\\nltk_data...\n",
      "[nltk_data]    |   Unzipping corpora\\stopwords.zip.\n",
      "[nltk_data]    | Downloading package swadesh to\n",
      "[nltk_data]    |     C:\\Users\\Nikolaj\\AppData\\Roaming\\nltk_data...\n",
      "[nltk_data]    |   Unzipping corpora\\swadesh.zip.\n",
      "[nltk_data]    | Downloading package timit to\n",
      "[nltk_data]    |     C:\\Users\\Nikolaj\\AppData\\Roaming\\nltk_data...\n",
      "[nltk_data]    |   Unzipping corpora\\timit.zip.\n",
      "[nltk_data]    | Downloading package treebank to\n",
      "[nltk_data]    |     C:\\Users\\Nikolaj\\AppData\\Roaming\\nltk_data...\n",
      "[nltk_data]    |   Unzipping corpora\\treebank.zip.\n",
      "[nltk_data]    | Downloading package toolbox to\n",
      "[nltk_data]    |     C:\\Users\\Nikolaj\\AppData\\Roaming\\nltk_data...\n",
      "[nltk_data]    |   Unzipping corpora\\toolbox.zip.\n",
      "[nltk_data]    | Downloading package udhr to\n",
      "[nltk_data]    |     C:\\Users\\Nikolaj\\AppData\\Roaming\\nltk_data...\n",
      "[nltk_data]    |   Unzipping corpora\\udhr.zip.\n",
      "[nltk_data]    | Downloading package udhr2 to\n",
      "[nltk_data]    |     C:\\Users\\Nikolaj\\AppData\\Roaming\\nltk_data...\n",
      "[nltk_data]    |   Unzipping corpora\\udhr2.zip.\n",
      "[nltk_data]    | Downloading package unicode_samples to\n",
      "[nltk_data]    |     C:\\Users\\Nikolaj\\AppData\\Roaming\\nltk_data...\n",
      "[nltk_data]    |   Unzipping corpora\\unicode_samples.zip.\n",
      "[nltk_data]    | Downloading package webtext to\n",
      "[nltk_data]    |     C:\\Users\\Nikolaj\\AppData\\Roaming\\nltk_data...\n",
      "[nltk_data]    |   Unzipping corpora\\webtext.zip.\n",
      "[nltk_data]    | Downloading package wordnet to\n",
      "[nltk_data]    |     C:\\Users\\Nikolaj\\AppData\\Roaming\\nltk_data...\n",
      "[nltk_data]    |   Unzipping corpora\\wordnet.zip.\n",
      "[nltk_data]    | Downloading package wordnet_ic to\n",
      "[nltk_data]    |     C:\\Users\\Nikolaj\\AppData\\Roaming\\nltk_data...\n",
      "[nltk_data]    |   Unzipping corpora\\wordnet_ic.zip.\n",
      "[nltk_data]    | Downloading package words to\n",
      "[nltk_data]    |     C:\\Users\\Nikolaj\\AppData\\Roaming\\nltk_data...\n",
      "[nltk_data]    |   Unzipping corpora\\words.zip.\n",
      "[nltk_data]    | Downloading package maxent_treebank_pos_tagger to\n",
      "[nltk_data]    |     C:\\Users\\Nikolaj\\AppData\\Roaming\\nltk_data...\n",
      "[nltk_data]    |   Unzipping taggers\\maxent_treebank_pos_tagger.zip.\n",
      "[nltk_data]    | Downloading package maxent_ne_chunker to\n",
      "[nltk_data]    |     C:\\Users\\Nikolaj\\AppData\\Roaming\\nltk_data...\n",
      "[nltk_data]    |   Unzipping chunkers\\maxent_ne_chunker.zip.\n",
      "[nltk_data]    | Downloading package universal_tagset to\n",
      "[nltk_data]    |     C:\\Users\\Nikolaj\\AppData\\Roaming\\nltk_data...\n",
      "[nltk_data]    |   Unzipping taggers\\universal_tagset.zip.\n",
      "[nltk_data]    | Downloading package punkt to\n",
      "[nltk_data]    |     C:\\Users\\Nikolaj\\AppData\\Roaming\\nltk_data...\n",
      "[nltk_data]    |   Unzipping tokenizers\\punkt.zip.\n",
      "[nltk_data]    | Downloading package book_grammars to\n",
      "[nltk_data]    |     C:\\Users\\Nikolaj\\AppData\\Roaming\\nltk_data...\n",
      "[nltk_data]    |   Unzipping grammars\\book_grammars.zip.\n",
      "[nltk_data]    | Downloading package city_database to\n",
      "[nltk_data]    |     C:\\Users\\Nikolaj\\AppData\\Roaming\\nltk_data...\n",
      "[nltk_data]    |   Unzipping corpora\\city_database.zip.\n",
      "[nltk_data]    | Downloading package tagsets to\n",
      "[nltk_data]    |     C:\\Users\\Nikolaj\\AppData\\Roaming\\nltk_data...\n",
      "[nltk_data]    |   Unzipping help\\tagsets.zip.\n",
      "[nltk_data]    | Downloading package panlex_swadesh to\n",
      "[nltk_data]    |     C:\\Users\\Nikolaj\\AppData\\Roaming\\nltk_data...\n",
      "[nltk_data]    | Downloading package averaged_perceptron_tagger to\n",
      "[nltk_data]    |     C:\\Users\\Nikolaj\\AppData\\Roaming\\nltk_data...\n",
      "[nltk_data]    |   Unzipping taggers\\averaged_perceptron_tagger.zip.\n",
      "[nltk_data]    | \n",
      "[nltk_data]  Done downloading collection book\n"
     ]
    },
    {
     "data": {
      "text/plain": [
       "True"
      ]
     },
     "execution_count": 2,
     "metadata": {},
     "output_type": "execute_result"
    }
   ],
   "source": [
    "import nltk\n",
    "nltk.download(\"book\")"
   ]
  },
  {
   "cell_type": "markdown",
   "metadata": {},
   "source": [
    "## 2.2 Introduction to NLTK"
   ]
  },
  {
   "cell_type": "markdown",
   "metadata": {},
   "source": [
    "1. Now that you have nltk installed, work through Chapter 1, Sections 1 to 4. The book is set up as a kind of tutorial with lots of examples for you to work through. I recommend you read the text with an open Jupyter Notebook and type out the examples that you see. ***It becomes much more fun if you add a few variations and see what happens***. We tweaked some of these examples in the following exercises and they might very well be due as assignments, so those ones should definitely be in a `notebook`."
   ]
  },
  {
   "cell_type": "code",
   "execution_count": 16,
   "metadata": {},
   "outputs": [
    {
     "name": "stdout",
     "output_type": "stream",
     "text": [
      "<Text: Moby Dick by Herman Melville 1851>\n",
      "<Text: Sense and Sensibility by Jane Austen 1811>\n",
      "<Text: The Book of Genesis>\n",
      "<Text: Inaugural Address Corpus>\n",
      "<Text: Chat Corpus>\n"
     ]
    }
   ],
   "source": [
    "from nltk.book import *\n",
    "print(text1)\n",
    "print(text2)\n",
    "print(text3)\n",
    "print(text4)\n",
    "print(text5)"
   ]
  },
  {
   "cell_type": "code",
   "execution_count": 23,
   "metadata": {},
   "outputs": [
    {
     "name": "stdout",
     "output_type": "stream",
     "text": [
      "Displaying 15 of 15 matches:\n",
      "there ya go U7 do n't golf clap me . fuck you U121 :@ whats everyone up to ? P\n",
      "ww you guys type too much . shut the fuck up . girl jerks ?? . ACTION gives U6\n",
      "ives U68 a nice massage . u shut the fuck up PART no i dont want daughters !! \n",
      "y .. Guess what PART i hate you U121 fuck your ugly JOIN if i had a daughter s\n",
      " go ahead pm me baby U109 .. get the fuck outta my PM ! in case you girls did \n",
      " U40 lol dude stop saying that wanna fuck U104 too many names cant think lol w\n",
      "nno ok la la la nah leave me alone ! fuck a virgin .. hmmm lol U110 youre craz\n",
      "l at least he 'll remember his first fuck lol U110 . ACTION sits in her corner\n",
      "or blade being alone JOIN U104 wanna fuck a virgin ! hug U42 . ACTION watches \n",
      "rs old and still a virgin male wanna fuck ! seen a girl with a nice bust I 've\n",
      " my bot U31 ? lol hahaha hgey doesnt fuck U69 ... mwahhs U69 what happened las\n",
      "d and still a virgin male do u wanna fuck U91 i am being nice AHHAH U21 lmao i\n",
      " burns you cant dis a tryer will you fuck me if i cry ? no im just bored u who\n",
      "ou a more current one :-o brb hb ! A fuck would suffice haha PART hi U45 PART \n",
      "114 you must dance with --> U43 !! * fuck the system hel over the comon man ju\n"
     ]
    }
   ],
   "source": [
    "#text1.concordance(\"monstrous\")\n",
    "#text2.concordance(\"affection\")\n",
    "#text3.concordance(\"kill\")\n",
    "text5.concordance(\"fuck\")"
   ]
  },
  {
   "cell_type": "code",
   "execution_count": 25,
   "metadata": {},
   "outputs": [
    {
     "name": "stdout",
     "output_type": "stream",
     "text": [
      "true contemptible christian abundant few part mean careful puzzled\n",
      "mystifying passing curious loving wise doleful gamesome singular\n",
      "delightfully perilous fearless\n"
     ]
    }
   ],
   "source": [
    "text1.similar(\"monstrous\")"
   ]
  },
  {
   "cell_type": "code",
   "execution_count": 43,
   "metadata": {},
   "outputs": [
    {
     "name": "stdout",
     "output_type": "stream",
     "text": [
      "am_glad a_pretty a_lucky is_pretty be_glad\n",
      "the_and the_but the_the of_and the_that the_it the_when of_between\n",
      "the_of of_but the_on the_ahab no_for the_in\n"
     ]
    }
   ],
   "source": [
    "text2.common_contexts([\"monstrous\",\"very\"])\n",
    "text1.common_contexts([\"water\",\"time\"])\n"
   ]
  },
  {
   "cell_type": "code",
   "execution_count": 74,
   "metadata": {},
   "outputs": [
    {
     "data": {
      "image/png": "[encoded data removed]",
      "text/plain": [
       "<Figure size 432x288 with 1 Axes>"
      ]
     },
     "metadata": {
      "needs_background": "light"
     },
     "output_type": "display_data"
    },
    {
     "data": {
      "image/png": "[encoded data removed]",
      "text/plain": [
       "<Figure size 432x288 with 1 Axes>"
      ]
     },
     "metadata": {
      "needs_background": "light"
     },
     "output_type": "display_data"
    }
   ],
   "source": [
    "text4.dispersion_plot([\"citizens\",\"democracy\",\"freedom\",\"duties\",\"America\",\"liberty\",\"constitution\"])\n",
    "text5.dispersion_plot([\"fuck\",\"bitch\",\"dildo\",\"asshole\",\"the\",\"booty\",\"everyone\",\"lol\"])"
   ]
  },
  {
   "cell_type": "code",
   "execution_count": 59,
   "metadata": {},
   "outputs": [
    {
     "name": "stderr",
     "output_type": "stream",
     "text": [
      "Building ngram index...\n"
     ]
    },
    {
     "name": "stdout",
     "output_type": "stream",
     "text": [
      "laid by her , and said unto Cain , Where art thou , and said , Go to ,\n",
      "I will not do it for ten ' s sons ; we dreamed each man according to\n",
      "their generatio the firstborn said unto Laban , Because I said , Nay ,\n",
      "but Sarah shall her name be . , duke Elah , duke Shobal , and Akan .\n",
      "and looked upon my affliction . Bashemath Ishmael ' s blood , but Isra\n",
      "for as a prince hast thou found of all the cattle in the valley , and\n",
      "the wo The\n"
     ]
    },
    {
     "data": {
      "text/plain": [
       "\"laid by her , and said unto Cain , Where art thou , and said , Go to ,\\nI will not do it for ten ' s sons ; we dreamed each man according to\\ntheir generatio the firstborn said unto Laban , Because I said , Nay ,\\nbut Sarah shall her name be . , duke Elah , duke Shobal , and Akan .\\nand looked upon my affliction . Bashemath Ishmael ' s blood , but Isra\\nfor as a prince hast thou found of all the cattle in the valley , and\\nthe wo The\""
      ]
     },
     "execution_count": 59,
     "metadata": {},
     "output_type": "execute_result"
    }
   ],
   "source": [
    "text3.generate()"
   ]
  },
  {
   "cell_type": "code",
   "execution_count": 66,
   "metadata": {},
   "outputs": [
    {
     "name": "stdout",
     "output_type": "stream",
     "text": [
      "44764\n",
      "['!', \"'\", '(', ')', ',', ',)', '.', '.)', ':', ';', ';)', '?', '?)', 'A', 'Abel', 'Abelmizraim', 'Abidah', 'Abide', 'Abimael', 'Abimelech', 'Abr', 'Abrah', 'Abraham', 'Abram', 'Accad', 'Achbor', 'Adah', 'Adam', 'Adbeel', 'Admah', 'Adullamite', 'After', 'Aholibamah', 'Ahuzzath', 'Ajah', 'Akan', 'All', 'Allonbachuth', 'Almighty', 'Almodad', 'Also', 'Alvah', 'Alvan', 'Am', 'Amal', 'Amalek', 'Amalekites', 'Ammon', 'Amorite', 'Amorites', 'Amraphel', 'An', 'Anah', 'Anamim', 'And', 'Aner', 'Angel', 'Appoint', 'Aram', 'Aran', 'Ararat', 'Arbah', 'Ard', 'Are', 'Areli', 'Arioch', 'Arise', 'Arkite', 'Arodi', 'Arphaxad', 'Art', 'Arvadite', 'As', 'Asenath', 'Ashbel', 'Asher', 'Ashkenaz', 'Ashteroth', 'Ask', 'Asshur', 'Asshurim', 'Assyr', 'Assyria', 'At', 'Atad', 'Avith', 'Baalhanan', 'Babel', 'Bashemath', 'Be', 'Because', 'Becher', 'Bedad', 'Beeri', 'Beerlahairoi', 'Beersheba', 'Behold', 'Bela', 'Belah', 'Benam', 'Benjamin', 'Beno', 'Beor', 'Bera', 'Bered', 'Beriah', 'Bethel', 'Bethlehem', 'Bethuel', 'Beware', 'Bilhah', 'Bilhan', 'Binding', 'Birsha', 'Bless', 'Blessed', 'Both', 'Bow', 'Bozrah', 'Bring', 'But', 'Buz', 'By', 'Cain', 'Cainan', 'Calah', 'Calneh', 'Can', 'Cana', 'Canaan', 'Canaanite', 'Canaanites', 'Canaanitish', 'Caphtorim', 'Carmi', 'Casluhim', 'Cast', 'Cause', 'Chaldees', 'Chedorlaomer', 'Cheran', 'Cherubims', 'Chesed', 'Chezib', 'Come', 'Cursed', 'Cush', 'Damascus', 'Dan', 'Day', 'Deborah', 'Dedan', 'Deliver', 'Diklah', 'Din', 'Dinah', 'Dinhabah', 'Discern', 'Dishan', 'Dishon', 'Do', 'Dodanim', 'Dothan', 'Drink', 'Duke', 'Dumah', 'Earth', 'Ebal', 'Eber', 'Edar', 'Eden', 'Edom', 'Edomites', 'Egy', 'Egypt', 'Egyptia', 'Egyptian', 'Egyptians', 'Ehi', 'Elah', 'Elam', 'Elbethel', 'Eldaah', 'EleloheIsrael', 'Eliezer', 'Eliphaz', 'Elishah', 'Ellasar', 'Elon', 'Elparan', 'Emins', 'En', 'Enmishpat', 'Eno', 'Enoch', 'Enos', 'Ephah', 'Epher', 'Ephra', 'Ephraim', 'Ephrath', 'Ephron', 'Er', 'Erech', 'Eri', 'Es', 'Esau', 'Escape', 'Esek', 'Eshban', 'Eshcol', 'Ethiopia', 'Euphrat', 'Euphrates', 'Eve', 'Even', 'Every', 'Except', 'Ezbon', 'Ezer', 'Fear', 'Feed', 'Fifteen', 'Fill', 'For', 'Forasmuch', 'Forgive', 'From', 'Fulfil', 'G', 'Gad', 'Gaham', 'Galeed', 'Gatam', 'Gather', 'Gaza', 'Gentiles', 'Gera', 'Gerar', 'Gershon', 'Get', 'Gether', 'Gihon', 'Gilead', 'Girgashites', 'Girgasite', 'Give', 'Go', 'God', 'Gomer', 'Gomorrah', 'Goshen', 'Guni', 'Hadad', 'Hadar', 'Hadoram', 'Hagar', 'Haggi', 'Hai', 'Ham', 'Hamathite', 'Hamor', 'Hamul', 'Hanoch', 'Happy', 'Haran', 'Hast', 'Haste', 'Have', 'Havilah', 'Hazarmaveth', 'Hazezontamar', 'Hazo', 'He', 'Hear', 'Heaven', 'Heber', 'Hebrew', 'Hebrews', 'Hebron', 'Hemam', 'Hemdan', 'Here', 'Hereby', 'Heth', 'Hezron', 'Hiddekel', 'Hinder', 'Hirah', 'His', 'Hitti', 'Hittite', 'Hittites', 'Hivite', 'Hobah', 'Hori', 'Horite', 'Horites', 'How', 'Hul', 'Huppim', 'Husham', 'Hushim', 'Huz', 'I', 'If', 'In', 'Irad', 'Iram', 'Is', 'Isa', 'Isaac', 'Iscah', 'Ishbak', 'Ishmael', 'Ishmeelites', 'Ishuah', 'Isra', 'Israel', 'Issachar', 'Isui', 'It', 'Ithran', 'Jaalam', 'Jabal', 'Jabbok', 'Jac', 'Jachin', 'Jacob', 'Jahleel', 'Jahzeel', 'Jamin', 'Japhe', 'Japheth', 'Jared', 'Javan', 'Jebusite', 'Jebusites', 'Jegarsahadutha', 'Jehovahjireh', 'Jemuel', 'Jerah', 'Jetheth', 'Jetur', 'Jeush', 'Jezer', 'Jidlaph', 'Jimnah', 'Job', 'Jobab', 'Jokshan', 'Joktan', 'Jordan', 'Joseph', 'Jubal', 'Judah', 'Judge', 'Judith', 'Kadesh', 'Kadmonites', 'Karnaim', 'Kedar', 'Kedemah', 'Kemuel', 'Kenaz', 'Kenites', 'Kenizzites', 'Keturah', 'Kiriathaim', 'Kirjatharba', 'Kittim', 'Know', 'Kohath', 'Kor', 'Korah', 'LO', 'LORD', 'Laban', 'Lahairoi', 'Lamech', 'Lasha', 'Lay', 'Leah', 'Lehabim', 'Lest', 'Let', 'Letushim', 'Leummim', 'Levi', 'Lie', 'Lift', 'Lo', 'Look', 'Lot', 'Lotan', 'Lud', 'Ludim', 'Luz', 'Maachah', 'Machir', 'Machpelah', 'Madai', 'Magdiel', 'Magog', 'Mahalaleel', 'Mahalath', 'Mahanaim', 'Make', 'Malchiel', 'Male', 'Mam', 'Mamre', 'Man', 'Manahath', 'Manass', 'Manasseh', 'Mash', 'Masrekah', 'Massa', 'Matred', 'Me', 'Medan', 'Mehetabel', 'Mehujael', 'Melchizedek', 'Merari', 'Mesha', 'Meshech', 'Mesopotamia', 'Methusa', 'Methusael', 'Methuselah', 'Mezahab', 'Mibsam', 'Mibzar', 'Midian', 'Midianites', 'Milcah', 'Mishma', 'Mizpah', 'Mizraim', 'Mizz', 'Moab', 'Moabites', 'Moreh', 'Moreover', 'Moriah', 'Muppim', 'My', 'Naamah', 'Naaman', 'Nahath', 'Nahor', 'Naphish', 'Naphtali', 'Naphtuhim', 'Nay', 'Nebajoth', 'Neither', 'Night', 'Nimrod', 'Nineveh', 'Noah', 'Nod', 'Not', 'Now', 'O', 'Obal', 'Of', 'Oh', 'Ohad', 'Omar', 'On', 'Onam', 'Onan', 'Only', 'Ophir', 'Our', 'Out', 'Padan', 'Padanaram', 'Paran', 'Pass', 'Pathrusim', 'Pau', 'Peace', 'Peleg', 'Peniel', 'Penuel', 'Peradventure', 'Perizzit', 'Perizzite', 'Perizzites', 'Phallu', 'Phara', 'Pharaoh', 'Pharez', 'Phichol', 'Philistim', 'Philistines', 'Phut', 'Phuvah', 'Pildash', 'Pinon', 'Pison', 'Potiphar', 'Potipherah', 'Put', 'Raamah', 'Rachel', 'Rameses', 'Rebek', 'Rebekah', 'Rehoboth', 'Remain', 'Rephaims', 'Resen', 'Return', 'Reu', 'Reub', 'Reuben', 'Reuel', 'Reumah', 'Riphath', 'Rosh', 'Sabtah', 'Sabtech', 'Said', 'Salah', 'Salem', 'Samlah', 'Sarah', 'Sarai', 'Saul', 'Save', 'Say', 'Se', 'Seba', 'See', 'Seeing', 'Seir', 'Sell', 'Send', 'Sephar', 'Serah', 'Sered', 'Serug', 'Set', 'Seth', 'Shalem', 'Shall', 'Shalt', 'Shammah', 'Shaul', 'Shaveh', 'She', 'Sheba', 'Shebah', 'Shechem', 'Shed', 'Shel', 'Shelah', 'Sheleph', 'Shem', 'Shemeber', 'Shepho', 'Shillem', 'Shiloh', 'Shimron', 'Shinab', 'Shinar', 'Shobal', 'Should', 'Shuah', 'Shuni', 'Shur', 'Sichem', 'Siddim', 'Sidon', 'Simeon', 'Sinite', 'Sitnah', 'Slay', 'So', 'Sod', 'Sodom', 'Sojourn', 'Some', 'Spake', 'Speak', 'Spirit', 'Stand', 'Succoth', 'Surely', 'Swear', 'Syrian', 'Take', 'Tamar', 'Tarshish', 'Tebah', 'Tell', 'Tema', 'Teman', 'Temani', 'Terah', 'Thahash', 'That', 'The', 'Then', 'There', 'Therefore', 'These', 'They', 'Thirty', 'This', 'Thorns', 'Thou', 'Thus', 'Thy', 'Tidal', 'Timna', 'Timnah', 'Timnath', 'Tiras', 'To', 'Togarmah', 'Tola', 'Tubal', 'Tubalcain', 'Twelve', 'Two', 'Unstable', 'Until', 'Unto', 'Up', 'Upon', 'Ur', 'Uz', 'Uzal', 'We', 'What', 'When', 'Whence', 'Where', 'Whereas', 'Wherefore', 'Which', 'While', 'Who', 'Whose', 'Whoso', 'Why', 'Wilt', 'With', 'Woman', 'Ye', 'Yea', 'Yet', 'Zaavan', 'Zaphnathpaaneah', 'Zar', 'Zarah', 'Zeboiim', 'Zeboim', 'Zebul', 'Zebulun', 'Zemarite', 'Zepho', 'Zerah', 'Zibeon', 'Zidon', 'Zillah', 'Zilpah', 'Zimran', 'Ziphion', 'Zo', 'Zoar', 'Zohar', 'Zuzims', 'a', 'abated', 'abide', 'able', 'abode', 'abomination', 'about', 'above', 'abroad', 'absent', 'abundantly', 'accept', 'accepted', 'according', 'acknowledged', 'activity', 'add', 'adder', 'afar', 'afflict', 'affliction', 'afraid', 'after', 'afterward', 'afterwards', 'aga', 'again', 'against', 'age', 'aileth', 'air', 'al', 'alive', 'all', 'almon', 'alo', 'alone', 'aloud', 'also', 'altar', 'altogether', 'always', 'am', 'among', 'amongst', 'an', 'and', 'angel', 'angels', 'anger', 'angry', 'anguish', 'anointedst', 'anoth', 'another', 'answer', 'answered', 'any', 'anything', 'appe', 'appear', 'appeared', 'appease', 'appoint', 'appointed', 'aprons', 'archer', 'archers', 'are', 'arise', 'ark', 'armed', 'arms', 'army', 'arose', 'arrayed', 'art', 'artificer', 'as', 'ascending', 'ash', 'ashamed', 'ask', 'asked', 'asketh', 'ass', 'assembly', 'asses', 'assigned', 'asswaged', 'at', 'attained', 'audience', 'avenged', 'aw', 'awaked', 'away', 'awoke', 'back', 'backward', 'bad', 'bade', 'badest', 'badne', 'bak', 'bake', 'bakemeats', 'baker', 'bakers', 'balm', 'bands', 'bank', 'bare', 'barr', 'barren', 'basket', 'baskets', 'battle', 'bdellium', 'be', 'bear', 'beari', 'bearing', 'beast', 'beasts', 'beautiful', 'became', 'because', 'become', 'bed', 'been', 'befall', 'befell', 'before', 'began', 'begat', 'beget', 'begettest', 'begin', 'beginning', 'begotten', 'beguiled', 'beheld', 'behind', 'behold', 'being', 'believed', 'belly', 'belong', 'beneath', 'bereaved', 'beside', 'besides', 'besought', 'best', 'betimes', 'better', 'between', 'betwixt', 'beyond', 'binding', 'bird', 'birds', 'birthday', 'birthright', 'biteth', 'bitter', 'blame', 'blameless', 'blasted', 'bless', 'blessed', 'blesseth', 'blessi', 'blessing', 'blessings', 'blindness', 'blood', 'blossoms', 'bodies', 'boldly', 'bondman', 'bondmen', 'bondwoman', 'bone', 'bones', 'book', 'booths', 'border', 'borders', 'born', 'bosom', 'both', 'bottle', 'bou', 'boug', 'bough', 'bought', 'bound', 'bow', 'bowed', 'bowels', 'bowing', 'boys', 'bracelets', 'branches', 'brass', 'bre', 'breach', 'bread', 'breadth', 'break', 'breaketh', 'breaking', 'breasts', 'breath', 'breathed', 'breed', 'brethren', 'brick', 'brimstone', 'bring', 'brink', 'broken', 'brook', 'broth', 'brother', 'brought', 'brown', 'bruise', 'budded', 'build', 'builded', 'built', 'bulls', 'bundle', 'bundles', 'burdens', 'buried', 'burn', 'burning', 'burnt', 'bury', 'buryingplace', 'business', 'but', 'butler', 'butlers', 'butlership', 'butter', 'buy', 'by', 'cakes', 'calf', 'call', 'called', 'came', 'camel', 'camels', 'camest', 'can', 'cannot', 'canst', 'captain', 'captive', 'captives', 'carcases', 'carried', 'carry', 'cast', 'castles', 'catt', 'cattle', 'caught', 'cause', 'caused', 'cave', 'cease', 'ceased', 'certain', 'certainly', 'chain', 'chamber', 'change', 'changed', 'changes', 'charge', 'charged', 'chariot', 'chariots', 'chesnut', 'chi', 'chief', 'child', 'childless', 'childr', 'children', 'chode', 'choice', 'chose', 'circumcis', 'circumcise', 'circumcised', 'citi', 'cities', 'city', 'clave', 'clean', 'clear', 'cleave', 'clo', 'closed', 'clothed', 'clothes', 'cloud', 'clusters', 'co', 'coat', 'coats', 'coffin', 'cold', 'colours', 'colt', 'colts', 'come', 'comest', 'cometh', 'comfort', 'comforted', 'comi', 'coming', 'command', 'commanded', 'commanding', 'commandment', 'commandments', 'commended', 'committed', 'commune', 'communed', 'communing', 'company', 'compassed', 'compasseth', 'conceal', 'conceive', 'conceived', 'conception', 'concerning', 'concubi', 'concubine', 'concubines', 'confederate', 'confound', 'consent', 'conspired', 'consume', 'consumed', 'content', 'continually', 'continued', 'cool', 'corn', 'corrupt', 'corrupted', 'couch', 'couched', 'couching', 'could', 'counted', 'countenance', 'countries', 'country', 'covenant', 'covered', 'covering', 'created', 'creature', 'creepeth', 'creeping', 'cried', 'crieth', 'crown', 'cru', 'cruelty', 'cry', 'cubit', 'cubits', 'cunning', 'cup', 'current', 'curse', 'cursed', 'curseth', 'custom', 'cut', 'd', 'da', 'dainties', 'dale', 'damsel', 'damsels', 'dark', 'darkne', 'darkness', 'daughers', 'daught', 'daughte', 'daughter', 'daughters', 'day', 'days', 'dea', 'dead', 'deal', 'dealt', 'dearth', 'death', 'deceitfully', 'deceived', 'deceiver', 'declare', 'decreased', 'deed', 'deeds', 'deep', 'deferred', 'defiled', 'defiledst', 'delight', 'deliver', 'deliverance', 'delivered', 'denied', 'depart', 'departed', 'departing', 'deprived', 'descending', 'desire', 'desired', 'desolate', 'despised', 'destitute', 'destroy', 'destroyed', 'devour', 'devoured', 'dew', 'did', 'didst', 'die', 'died', 'digged', 'dignity', 'dim', 'dine', 'dipped', 'direct', 'discern', 'discerned', 'discreet', 'displease', 'displeased', 'distress', 'distressed', 'divide', 'divided', 'divine', 'divineth', 'do', 'doe', 'doer', 'doest', 'doeth', 'doing', 'dominion', 'done', 'door', 'dost', 'doth', 'double', 'doubled', 'doubt', 'dove', 'down', 'dowry', 'drank', 'draw', 'dread', 'dreadful', 'dream', 'dreamed', 'dreamer', 'dreams', 'dress', 'dressed', 'drew', 'dried', 'drink', 'drinketh', 'drinking', 'driven', 'drought', 'drove', 'droves', 'drunken', 'dry', 'duke', 'dukes', 'dunge', 'dungeon', 'dust', 'dwe', 'dwell', 'dwelled', 'dwelling', 'dwelt', 'e', 'ea', 'each', 'ear', 'earing', 'early', 'earring', 'earrings', 'ears', 'earth', 'east', 'eastward', 'eat', 'eaten', 'eatest', 'edge', 'eight', 'eighteen', 'eighty', 'either', 'elder', 'elders', 'eldest', 'eleven', 'else', 'embalm', 'embalmed', 'embraced', 'emptied', 'empty', 'end', 'ended', 'endued', 'endure', 'enemies', 'enlarge', 'enmity', 'enough', 'enquire', 'enter', 'entered', 'entreated', 'envied', 'erected', 'errand', 'escape', 'escaped', 'espied', 'establish', 'established', 'ev', 'even', 'evening', 'eventide', 'ever', 'everlasting', 'every', 'evil', 'ewe', 'ewes', 'exceeding', 'exceedingly', 'excel', 'excellency', 'except', 'exchange', 'experience', 'ey', 'eyed', 'eyes', 'fa', 'face', 'faces', 'fai', 'fail', 'failed', 'faileth', 'fainted', 'fair', 'fall', 'fallen', 'falsely', 'fame', 'families', 'famine', 'famished', 'far', 'fashion', 'fast', 'fat', 'fatfleshed', 'fath', 'fathe', 'father', 'fathers', 'fatness', 'faults', 'favour', 'favoured', 'fear', 'feared', 'fearest', 'feast', 'fed', 'feeble', 'feebler', 'feed', 'feeding', 'feel', 'feet', 'fell', 'fellow', 'felt', 'fema', 'female', 'fetch', 'fetched', 'fetcht', 'few', 'fie', 'field', 'fierce', 'fifteen', 'fifth', 'fifty', 'fig', 'fill', 'filled', 'find', 'findest', 'findeth', 'finding', 'fine', 'finish', 'finished', 'fir', 'fire', 'firmame', 'firmament', 'first', 'firstborn', 'firstlings', 'fish', 'fishes', 'five', 'flaming', 'fle', 'fled', 'fleddest', 'flee', 'flesh', 'flo', 'floc', 'flock', 'flocks', 'flood', 'floor', 'fly', 'fo', 'foal', 'foals', 'folk', 'follow', 'followed', 'following', 'folly', 'food', 'foolishly', 'foot', 'for', 'forbid', 'force', 'ford', 'foremost', 'foreskin', 'forgat', 'forget', 'forgive', 'forgotten', 'form', 'formed', 'former', 'forth', 'forty', 'forward', 'fou', 'found', 'fountain', 'fountains', 'four', 'fourscore', 'fourteen', 'fourteenth', 'fourth', 'fowl', 'fowls', 'freely', 'friend', 'friends', 'fro', 'from', 'frost', 'fruit', 'fruitful', 'fruits', 'fugitive', 'fulfilled', 'full', 'furnace', 'furniture', 'fury', 'gard', 'garden', 'garmen', 'garment', 'garments', 'gat', 'gate', 'gather', 'gathered', 'gathering', 'gave', 'gavest', 'generatio', 'generation', 'generations', 'get', 'getting', 'ghost', 'giants', 'gift', 'gifts', 'give', 'given', 'giveth', 'giving', 'glory', 'go', 'goa', 'goat', 'goats', 'gods', 'goest', 'goeth', 'going', 'gold', 'golden', 'gone', 'good', 'goodly', 'goods', 'gopher', 'got', 'gotten', 'governor', 'gr', 'grace', 'gracious', 'graciously', 'grap', 'grapes', 'grass', 'grave', 'gray', 'gre', 'great', 'greater', 'greatly', 'green', 'grew', 'grief', 'grieved', 'grievous', 'grisl', 'grisled', 'gro', 'ground', 'grove', 'grow', 'grown', 'guard', 'guiding', 'guiltiness', 'guilty', 'gutters', 'h', 'ha', 'habitations', 'had', 'hadst', 'hairs', 'hairy', 'half', 'halted', 'han', 'hand', 'handfuls', 'handle', 'handmaid', 'handmaidens', 'handmaids', 'hands', 'hang', 'hanged', 'hard', 'hardly', 'harlot', 'harm', 'harp', 'harvest', 'hast', 'haste', 'hasted', 'hastened', 'hastily', 'hate', 'hated', 'hath', 'have', 'haven', 'having', 'hazel', 'he', 'head', 'heads', 'healed', 'health', 'heap', 'hear', 'heard', 'hearken', 'hearkened', 'heart', 'hearth', 'hearts', 'heat', 'heav', 'heaven', 'heavens', 'heed', 'heel', 'heels', 'heifer', 'height', 'heir', 'held', 'help', 'hence', 'henceforth', 'her', 'herb', 'herd', 'herdmen', 'herds', 'here', 'herein', 'herself', 'hid', 'hide', 'high', 'hil', 'hills', 'him', 'himself', 'hind', 'hindermost', 'hire', 'hired', 'his', 'hith', 'hither', 'hold', 'hollow', 'home', 'honey', 'honour', 'honourable', 'hor', 'horror', 'horse', 'horsemen', 'horses', 'host', 'hotly', 'hou', 'hous', 'house', 'household', 'households', 'how', 'hundred', 'hundredfo', 'hundredth', 'hunt', 'hunter', 'hunting', 'hurt', 'husba', 'husband', 'husbandman', 'if', 'ill', 'image', 'images', 'imagination', 'imagined', 'in', 'increase', 'increased', 'indeed', 'inhabitants', 'inhabited', 'inherit', 'inheritance', 'iniquity', 'inn', 'innocency', 'instead', 'instructor', 'instruments', 'integrity', 'interpret', 'interpretation', 'interpretations', 'interpreted', 'interpreter', 'into', 'intreat', 'intreated', 'ir', 'is', 'isles', 'issue', 'it', 'itself', 'jewels', 'joined', 'joint', 'journey', 'journeyed', 'journeys', 'jud', 'judge', 'judged', 'judgment', 'just', 'justice', 'keep', 'keeper', 'kept', 'ki', 'kid', 'kids', 'kill', 'killed', 'kind', 'kindled', 'kindly', 'kindness', 'kindred', 'kinds', 'kine', 'king', 'kingdom', 'kings', 'kiss', 'kissed', 'kn', 'knead', 'kneel', 'knees', 'knew', 'knife', 'know', 'knowest', 'knoweth', 'knowing', 'knowledge', 'known', 'la', 'labour', 'lack', 'lad', 'ladder', 'lade', 'laded', 'laden', 'lads', 'laid', 'lamb', 'lambs', 'lamentati', 'lamp', 'lan', 'land', 'lands', 'language', 'large', 'last', 'laugh', 'laughed', 'law', 'lawgiver', 'laws', 'lay', 'lead', 'leaf', 'lean', 'leanfleshed', 'leap', 'leaped', 'learned', 'least', 'leave', 'leaves', 'led', 'left', 'length', 'lentiles', 'lesser', 'lest', 'let', 'li', 'lie', 'lien', 'liest', 'lieth', 'life', 'lift', 'lifted', 'light', 'lighted', 'lightly', 'lights', 'like', 'likene', 'likeness', 'linen', 'lingered', 'lion', 'little', 'live', 'lived', 'lives', 'liveth', 'living', 'lo', 'lodge', 'lodged', 'loins', 'long', 'longedst', 'longeth', 'look', 'looked', 'loose', 'lord', 'lords', 'loss', 'loud', 'love', 'loved', 'lovest', 'loveth', 'lower', 'lying', 'm', 'ma', 'made', 'magicians', 'magnified', 'maid', 'maiden', 'maidservants', 'make', 'male', 'males', 'man', 'mandrakes', 'manner', 'many', 'mark', 'marriages', 'married', 'marry', 'marvelled', 'mast', 'master', 'matter', 'may', 'mayest', 'me', 'mead', 'meadow', 'meal', 'mean', 'meanest', 'meant', 'measures', 'meat', 'meditate', 'meet', 'meeteth', 'men', 'menservants', 'mention', 'merchant', 'merchantmen', 'mercies', 'merciful', 'mercy', 'merry', 'mess', 'messenger', 'messengers', 'messes', 'met', 'mi', 'midst', 'midwife', 'might', 'mightier', 'mighty', 'milch', 'milk', 'millions', 'mind', 'mine', 'mirth', 'mischief', 'mist', 'mistress', 'mock', 'mocked', 'mocking', 'money', 'month', 'months', 'moon', 'more', 'moreover', 'morever', 'morning', 'morrow', 'morsel', 'morter', 'most', 'mother', 'mou', 'mount', 'mountain', 'mountains', 'mourn', 'mourned', 'mourning', 'mouth', 'mouths', 'moved', 'moveth', 'moving', 'much', 'mules', 'multiplied', 'multiply', 'multiplying', 'multitude', 'must', 'my', 'myrrh', 'myself', 'n', 'na', 'naked', 'nakedness', 'name', 'named', 'names', 'nati', 'natio', 'nation', 'nations', 'nativity', 'ne', 'near', 'neck', 'needeth', 'needs', 'neither', 'never', 'next', 'nig', 'nigh', 'night', 'nights', 'nine', 'nineteen', 'ninety', 'no', 'none', 'noon', 'nor', 'north', 'northward', 'nostrils', 'not', 'nothing', 'nought', 'nourish', 'nourished', 'now', 'number', 'numbered', 'numbering', 'nurse', 'nuts', 'o', 'oa', 'oak', 'oath', 'obeisance', 'obey', 'obeyed', 'observed', 'obtain', 'occasion', 'occupation', 'of', 'off', 'offended', 'offer', 'offered', 'offeri', 'offering', 'offerings', 'office', 'officer', 'officers', 'oil', 'old', 'olive', 'on', 'one', 'ones', 'only', 'onyx', 'open', 'opened', 'openly', 'or', 'order', 'organ', 'oth', 'other', 'ou', 'ought', 'our', 'ours', 'ourselves', 'out', 'over', 'overcome', 'overdrive', 'overseer', 'oversig', 'overspread', 'overtake', 'overthrew', 'overthrow', 'overtook', 'own', 'oxen', 'parcel', 'part', 'parted', 'parts', 'pass', 'passed', 'past', 'pasture', 'path', 'pea', 'peace', 'peaceable', 'peaceably', 'peop', 'people', 'peradventure', 'perceived', 'perfect', 'perform', 'perish', 'perpetual', 'person', 'persons', 'physicians', 'piece', 'pieces', 'pigeon', 'pilgrimage', 'pillar', 'pilled', 'pillows', 'pit', 'pitch', 'pitched', 'pitcher', 'pla', 'place', 'placed', 'places', 'plagued', 'plagues', 'plain', 'plains', 'plant', 'planted', 'played', 'pleasant', 'pleased', 'pleaseth', 'pleasure', 'pledge', 'plenteous', 'plenteousness', 'plenty', 'pluckt', 'point', 'poor', 'poplar', 'portion', 'possess', 'possessi', 'possession', 'possessions', 'possessor', 'posterity', 'pottage', 'poured', 'poverty', 'pow', 'power', 'praise', 'pray', 'prayed', 'precious', 'prepared', 'presence', 'present', 'presented', 'preserve', 'preserved', 'pressed', 'prevail', 'prevailed', 'prey', 'priest', 'priests', 'prince', 'princes', 'pris', 'prison', 'prisoners', 'proceedeth', 'process', 'profit', 'progenitors', 'prophet', 'prosper', 'prospered', 'prosperous', 'protest', 'proved', 'provender', 'provide', 'provision', 'pulled', 'punishment', 'purchase', 'purchased', 'purposing', 'pursue', 'pursued', 'put', 'putting', 'quart', 'quickly', 'quite', 'quiver', 'raiment', 'rain', 'rained', 'raise', 'ram', 'rams', 'ran', 'rank', 'raven', 'ravin', 'reach', 'reached', 'ready', 'reason', 'rebelled', 'rebuked', 'receive', 'received', 'red', 'redeemed', 'refrain', 'refrained', 'refused', 'regard', 'reign', 'reigned', 'remained', 'remaineth', 'remember', 'remembered', 'remove', 'removed', 'removing', 'renown', 'rent', 'repented', 'repenteth', 'replenish', 'report', 'reproa', 'reproach', 'reproved', 'require', 'required', 'requite', 'reserved', 'respect', 'rest', 'rested', 'restore', 'restored', 'restrained', 'return', 'returned', 'reviv', 'reward', 'rewarded', 'ri', 'rib', 'ribs', 'rich', 'riches', 'rid', 'ride', 'rider', 'right', 'righteous', 'righteousness', 'rightly', 'ring', 'ringstraked', 'ripe', 'rise', 'risen', 'riv', 'river', 'rode', 'rods', 'roll', 'rolled', 'roof', 'room', 'rooms', 'rose', 'roughly', 'round', 'rouse', 'royal', 'rul', 'rule', 'ruled', 'ruler', 'rulers', 'run', 's', 'sa', 'sac', 'sack', 'sackcloth', 'sacks', 'sacrifice', 'sacrifices', 'sad', 'saddled', 'sadly', 'said', 'saidst', 'saith', 'sake', 'sakes', 'salt', 'salvation', 'same', 'sanctified', 'sand', 'sat', 'save', 'saved', 'saving', 'savour', 'savoury', 'saw', 'sawest', 'say', 'saying', 'scarce', 'scarlet', 'scatter', 'scattered', 'sceptre', 'sea', 'searched', 'seas', 'season', 'seasons', 'second', 'secret', 'secretly', 'see', 'seed', 'seedtime', 'seeing', 'seek', 'seekest', 'seem', 'seemed', 'seen', 'seest', 'seeth', 'selfsame', 'selfwill', 'sell', 'send', 'sent', 'separate', 'separated', 'sepulchre', 'sepulchres', 'serpent', 'serva', 'servan', 'servant', 'servants', 'serve', 'served', 'service', 'set', 'seven', 'sevenfold', 'sevens', 'seventeen', 'seventeenth', 'seventh', 'seventy', 'sewed', 'sh', 'shadow', 'shall', 'shalt', 'shamed', 'shaved', 'she', 'sheaf', 'shear', 'sheaves', 'shed', 'sheddeth', 'sheep', 'sheepshearers', 'shekel', 'shekels', 'shepherd', 'shepherds', 'shew', 'shewed', 'sheweth', 'shield', 'ships', 'shoelatchet', 'shore', 'shortly', 'shot', 'should', 'shoulder', 'shoulders', 'shouldest', 'shrank', 'shrubs', 'shut', 'si', 'side', 'sight', 'signet', 'signs', 'silv', 'silver', 'sin', 'since', 'sinew', 'sinners', 'sinning', 'sir', 'sist', 'sister', 'sit', 'six', 'sixteen', 'sixth', 'sixty', 'skins', 'slain', 'slaughter', 'slay', 'slayeth', 'sle', 'sleep', 'slept', 'slew', 'slime', 'slimepits', 'small', 'smell', 'smelled', 'smite', 'smoke', 'smoking', 'smooth', 'smote', 'so', 'sod', 'softly', 'sojourn', 'sojourned', 'sojourner', 'sold', 'sole', 'solemnly', 'some', 'son', 'songs', 'sons', 'soon', 'sore', 'sorely', 'sorrow', 'sort', 'sou', 'sought', 'soul', 'souls', 'south', 'southward', 'sow', 'sowed', 'space', 'spake', 'spare', 'spe', 'speak', 'speaketh', 'speaking', 'speckl', 'speckled', 'spee', 'speech', 'speed', 'speedily', 'spent', 'spi', 'spicery', 'spices', 'spies', 'spilled', 'spirit', 'spoil', 'spoiled', 'spoken', 'sporting', 'spotted', 'spread', 'springing', 'sprung', 'staff', 'stalk', 'stand', 'standest', 'stars', 'state', 'statutes', 'stay', 'stayed', 'ste', 'stead', 'steal', 'steward', 'still', 'stink', 'sto', 'stole', 'stolen', 'stone', 'stones', 'stood', 'stooped', 'stopped', 'store', 'storehouses', 'stories', 'straitly', 'strakes', 'strange', 'stranger', 'strangers', 'straw', 'street', 'strength', 'strengthened', 'stretched', 'stricken', 'strife', 'stript', 'strive', 'strong', 'stronger', 'strove', 'struggled', 'stuff', 'subdue', 'submit', 'substance', 'subtil', 'subtilty', 'such', 'suck', 'suffered', 'summer', 'sun', 'supplanted', 'sure', 'surely', 'surety', 'sustained', 'sware', 'swear', 'sweat', 'sweet', 'sword', 'sworn', 'tabret', 'tak', 'take', 'taken', 'talked', 'talking', 'tar', 'tarried', 'tarry', 'teeth', 'tell', 'tempt', 'ten', 'tender', 'tenor', 'tent', 'tenth', 'tents', 'terror', 'th', 'than', 'that', 'the', 'thee', 'their', 'them', 'themselv', 'themselves', 'then', 'thence', 'there', 'thereby', 'therefore', 'therein', 'thereof', 'thereon', 'these', 'they', 'thi', 'thicket', 'thigh', 'thin', 'thine', 'thing', 'things', 'think', 'third', 'thirteen', 'thirteenth', 'thirty', 'this', 'thistles', 'thither', 'thoroughly', 'those', 'thou', 'though', 'thought', 'thoughts', 'thousand', 'thousands', 'thread', 'three', 'threescore', 'threshingfloor', 'throne', 'through', 'throughout', 'thus', 'thy', 'thyself', 'tidings', 'till', 'tiller', 'tillest', 'tim', 'time', 'times', 'tithes', 'to', 'togeth', 'together', 'toil', 'token', 'told', 'tongue', 'tongues', 'too', 'took', 'top', 'tops', 'torn', 'touch', 'touched', 'toucheth', 'touching', 'toward', 'tower', 'towns', 'tr', 'trade', 'traffick', 'trained', 'travail', 'travailed', 'treasure', 'tree', 'trees', 'trembled', 'trespass', 'tribes', 'tribute', 'troop', 'troubled', 'trough', 'troughs', 'tru', 'true', 'truly', 'truth', 'turn', 'turned', 'turtledove', 'twel', 'twelve', 'twentieth', 'twenty', 'twice', 'twins', 'two', 'unawares', 'uncircumcised', 'uncovered', 'under', 'understand', 'understood', 'ungirded', 'unit', 'unleavened', 'until', 'unto', 'up', 'upon', 'uppermost', 'upright', 'upward', 'urged', 'us', 'utmost', 'vagabond', 'vail', 'vale', 'valley', 'vengeance', 'venison', 'verified', 'verily', 'very', 'vessels', 'vestures', 'victuals', 'vine', 'vineyard', 'violence', 'violently', 'virgin', 'vision', 'visions', 'visit', 'visited', 'voi', 'voice', 'void', 'vow', 'vowed', 'vowedst', 'w', 'wa', 'wages', 'wagons', 'waited', 'walk', 'walked', 'walketh', 'walking', 'wall', 'wander', 'wandered', 'wandering', 'war', 'ward', 'was', 'wash', 'washed', 'wast', 'wat', 'watch', 'water', 'watered', 'watering', 'waters', 'waxed', 'waxen', 'way', 'ways', 'we', 'wealth', 'weaned', 'weapons', 'wearied', 'weary', 'week', 'weep', 'weig', 'weighed', 'weight', 'welfare', 'well', 'wells', 'went', 'wentest', 'wept', 'were', 'west', 'westwa', 'whales', 'what', 'whatsoever', 'wheat', 'whelp', 'when', 'whence', 'whensoever', 'where', 'whereby', 'wherefore', 'wherein', 'whereof', 'whereon', 'wherewith', 'whether', 'which', 'while', 'white', 'whither', 'who', 'whole', 'whom', 'whomsoever', 'whoredom', 'whose', 'whosoever', 'why', 'wi', 'wick', 'wicked', 'wickedly', 'wickedness', 'widow', 'widowhood', 'wife', 'wild', 'wilderness', 'will', 'willing', 'wilt', 'wind', 'window', 'windows', 'wine', 'winged', 'winter', 'wise', 'wit', 'with', 'withered', 'withheld', 'withhold', 'within', 'without', 'witness', 'wittingly', 'wiv', 'wives', 'wo', 'wolf', 'woman', 'womb', 'wombs', 'women', 'womenservan', 'womenservants', 'wondering', 'wood', 'wor', 'word', 'words', 'work', 'worse', 'worship', 'worshipped', 'worth', 'worthy', 'wot', 'wotteth', 'would', 'wouldest', 'wounding', 'wrapped', 'wrath', 'wrestled', 'wrestlings', 'wrong', 'wroth', 'wrought', 'y', 'ye', 'yea', 'year', 'yearn', 'years', 'yesternight', 'yet', 'yield', 'yielded', 'yielding', 'yoke', 'yonder', 'you', 'young', 'younge', 'younger', 'youngest', 'your', 'yourselves', 'youth']\n",
      "2789\n"
     ]
    }
   ],
   "source": [
    "print(len(text3))\n",
    "print(sorted(set(text3)))\n",
    "print(len(set(text3)))"
   ]
  },
  {
   "cell_type": "code",
   "execution_count": 70,
   "metadata": {},
   "outputs": [
    {
     "name": "stdout",
     "output_type": "stream",
     "text": [
      "0.06230453042623537\n"
     ]
    }
   ],
   "source": [
    "print(len(set(text3))/len(text3))"
   ]
  },
  {
   "cell_type": "code",
   "execution_count": 71,
   "metadata": {},
   "outputs": [
    {
     "data": {
      "text/plain": [
       "5"
      ]
     },
     "execution_count": 71,
     "metadata": {},
     "output_type": "execute_result"
    }
   ],
   "source": [
    "text3.count(\"smote\")"
   ]
  },
  {
   "cell_type": "code",
   "execution_count": 73,
   "metadata": {},
   "outputs": [
    {
     "data": {
      "text/plain": [
       "0.01457973123627309"
      ]
     },
     "execution_count": 73,
     "metadata": {},
     "output_type": "execute_result"
    }
   ],
   "source": [
    "text4.count(\"a\") / len(text4)"
   ]
  },
  {
   "cell_type": "code",
   "execution_count": 76,
   "metadata": {},
   "outputs": [
    {
     "name": "stdout",
     "output_type": "stream",
     "text": [
      "704\n",
      "0.015640968673628082\n"
     ]
    }
   ],
   "source": [
    "print(text5.count(\"lol\"))\n",
    "print(text5.count(\"lol\") / len(text5))"
   ]
  },
  {
   "cell_type": "markdown",
   "metadata": {},
   "source": [
    "2. Now that you have gone through Chapter 1, let's try some of the nltk functionalities on our own Text!\n",
    "\n",
    "> Setup. We want to start from a clean version of the ZeldaWiki pages of the characters. A version with as little wiki-markup as possible. We needed it earlier to get the links, gender, etc., but now we want a readable version. To do this we need to create 10 new regex patterns and parse the pages ... \n",
    ">\n",
    "> No! Don't worry! We can get a fairly nice version directly from the ZeldaWiki API. Follow the instructions below:\n",
    ">\n",
    "> * read the [csv file](https://github.com/SocialComplexityLab/socialgraphs2021/blob/main/files/ZeldaBotW_nodes_w_attributes_enriched.csv) of the characters with pandas `pd.read_csv()` and assign it to `df_characters`;\n",
    "> * use the same code you have used to query the API before (remember the baseurl is `https://zelda.fandom.com/api.php?`), but change the parameter `content` in `content=\"prop=extracts&exlimit=1&explaintext\"`;\n",
    "> * loop through the `Name` column of df_characters and for each name make a request to the API\n",
    ">     * **Note1** replace white spaces with `_` and use `urllib.parse.quote_plus(NAME_OF_CHARACTER_HERE)` to build your title;\n",
    ">     * **Note2** take care of `Cherry` (remember the title of her page is different).\n",
    "> * after using `json` to load the text, remember to get the value (the clean text we are looking for) from the right key \n",
    ">     * **Note3** the key you are looking for is now `extract` not `*`\n",
    ">\n",
    "> Use this method to retrive a nice copy of all BotW characters's text. Save each character's text in a txt file and collect them all in a new folder!"
   ]
  },
  {
   "cell_type": "code",
   "execution_count": 94,
   "metadata": {},
   "outputs": [],
   "source": [
    "def createstuff(title):\n",
    "    baseurl = \"https://zelda.fandom.com/api.php?\"\n",
    "    action = \"action=query\"\n",
    "    title_a = \"titles=\"+urllib.parse.quote_plus(title)\n",
    "    content = \"prop=extracts&exlimit=1&explaintext\"\n",
    "    dataformat =\"format=json\"\n",
    "\n",
    "    query_a = \"{}{}&{}&{}&{}\".format(baseurl, action, content, title_a, dataformat)\n",
    "    wikiresponse = urllib.request.urlopen(query_a)\n",
    "    wikidata = wikiresponse.read()\n",
    "    wikitext_a = wikidata.decode('utf-8')\n",
    "    json_a = json.loads(wikitext_a)\n",
    "    \n",
    "    page0 = list(json_a['query']['pages'].keys())[0]\n",
    "    a_text = a_text = json_a['query']['pages'][page0]['extract']\n",
    "    return a_text"
   ]
  },
  {
   "cell_type": "code",
   "execution_count": 99,
   "metadata": {},
   "outputs": [
    {
     "data": {
      "application/vnd.jupyter.widget-view+json": {
       "model_id": "a5d5fcb77fb645068e33eabc79ceba68",
       "version_major": 2,
       "version_minor": 0
      },
      "text/plain": [
       "  0%|          | 0/656 [00:00<?, ?it/s]"
      ]
     },
     "metadata": {},
     "output_type": "display_data"
    }
   ],
   "source": [
    "# Read the dataframe\n",
    "import pandas as pd\n",
    "path_acsv = 'C:/Users/Nikolaj/OneDrive - Danmarks Tekniske Universitet/DTU/Kandidat/3. semester/Social Graphs and Interactions/socialgraphs2021/files/ZeldaBotW_nodes_w_attributes_enriched.csv'\n",
    "df_characters = pd.read_csv(path_acsv)\n",
    "\n",
    "# Saving the character pages in txt file #\n",
    "import urllib.request\n",
    "from tqdm.notebook import tqdm\n",
    "import json\n",
    "import os\n",
    "script_dir = os.getcwd()\n",
    "folder_dir = \"clean_texts\\\\\" \n",
    "path = os.path.join(script_dir, folder_dir)\n",
    "\n",
    "characters = list(df_characters['Name'])\n",
    "characters = [char.replace(\" \",\"_\") for char in characters]\n",
    "#print(characters)\n",
    "for char in tqdm(characters):\n",
    "    try:\n",
    "        if char == \"Cherry\":\n",
    "            temp = createstuff(\"Ancient_Oven\")\n",
    "        else:\n",
    "            temp = createstuff(char)\n",
    "        with open(path+char+\".txt\",'w') as x:\n",
    "            json.dump(temp,x)\n",
    "    except:\n",
    "        print(char)"
   ]
  },
  {
   "cell_type": "markdown",
   "metadata": {},
   "source": [
    "> Finally, we can create our own corpus (see Ch. 2 Sec. 1.9 for more details):\n",
    ">    * create a list of file names `file_list` and order them with the same order in `df_characters`, e.g., Baddek.txt first, Bamboo.txt second etc.\n",
    ">    * use the function `PlaintextCorpusReader` from `nltk.corpus` to create the ZeldaWiki corpus.\n",
    ">    * use the function `nltk.Text()` as follows `nltk.Text(YOUR_CORPUS_HERE.words())`.\n",
    ">\n",
    "> Now you can use this nltk Text object as any other you've seen in the examples of Chapter 1!!"
   ]
  },
  {
   "cell_type": "code",
   "execution_count": 171,
   "metadata": {},
   "outputs": [],
   "source": [
    "file_list = [char+\".txt\" for char in characters]\n",
    "my_corpus = nltk.corpus.PlaintextCorpusReader(path,file_list)\n",
    "text = nltk.Text(my_corpus.words())"
   ]
  },
  {
   "cell_type": "markdown",
   "metadata": {},
   "source": [
    "### 2.3 Exercises: NLPP Chapter 1 \n",
    "(the stuff that might be due in an upcoming assignment)\n",
    "\n",
    "The following exercises are from Chapter 1 but we are going to use them to study the ZeldaWiki Text."
   ]
  },
  {
   "cell_type": "markdown",
   "metadata": {},
   "source": [
    "> *Exercise 1*: Exploratory analysis\n",
    ">\n",
    "> * Try out the `concordance` method, using the ZeldaWiki text and a word of your own choosing."
   ]
  },
  {
   "cell_type": "code",
   "execution_count": 172,
   "metadata": {},
   "outputs": [
    {
     "name": "stdout",
     "output_type": "stream",
     "text": [
      "Displaying 25 of 73 matches:\n",
      "m , but becomes wildly excitable in battle . He possessed the ability known as\n",
      "lps guide him through the resulting battle .\\ nAfter Link defeats Fireblight G\n",
      "h Rudania ' s attack .\\ nDuring the battle against Calamity Ganon in Hyrule Ca\n",
      " during the third part of the final battle with Ganondorf . Wolf Link is able \n",
      "ilcloth to him .\\ n \\ n \\ n === The Battle Against Demise ===\\ n \\ t \\ t \\ t \\\n",
      "ss ' s Chosen Hero ===\\ nDuring the battle , Hylia had suffered injuries and k\n",
      "e to fight the good fight .\\ nTheir battle with Ganon I ' ve committed to song\n",
      "sten and you ' ll know ,\\ nOf their battle with Ganon 10 , 000 years ago .\\ nT\n",
      "the fray .\\ nTo guide the beasts in battle , warriors were needed ,\\ nSo four \n",
      "es , Link finds his uncle ready for battle , telling Link to remain in bed . A\n",
      "e seal . Link then faces Agahnim in battle and defeats him , but fails to kill\n",
      " center of the Dark World . After a battle resulting in Ganon ' s demise , Lin\n",
      "Ganondorf into the Dark Realm . The battle now over , Zelda uses the Ocarina o\n",
      "chase , and after a long and heated battle against the three incarnations of M\n",
      "r Links defeat Vaati after a fierce battle , sealing him inside the Four Sword\n",
      "haracter . He is about to engage in battle , but Gulley comes into Link ' s ro\n",
      "nk that no matter how difficult the battle is , or how severe his wounds , she\n",
      "kness as he flew off .\\ nThe Spirit Battle for the Zelda ( Breath of the Wild \n",
      "ncess Zelda appear . In this Spirit Battle , Revali is represented by Falco .\\\n",
      "incess Zelda from Mirage Castle ' s Battle \\ t \\ t \\ t \\ nZelda is depicted as\n",
      "le .\\ nby the way , In Game Book \\\" Battle of Mirage Castle \\\", it is nighttim\n",
      "ocking the exits . During the final battle between Link and Ganon , Princess Z\n",
      "ill is again portrayed in the final battle of Twilight Princess , where the pr\n",
      " horse , and once more in the final battle against Malladus in Spirit Tracks .\n",
      "ds or Byrne .\\ nIn the Game Book \\\" Battle of Mirage Castle \\\", it has the sam\n"
     ]
    }
   ],
   "source": [
    "text.concordance(\"battle\")"
   ]
  },
  {
   "cell_type": "markdown",
   "metadata": {},
   "source": [
    "> * Also try out the `similar` and `common_contexts` methods, again with any word/s you like."
   ]
  },
  {
   "cell_type": "code",
   "execution_count": 173,
   "metadata": {},
   "outputs": [
    {
     "name": "stdout",
     "output_type": "stream",
     "text": [
      "conversation wild hylian stable hyrule area ceremony past horse sword\n",
      "day man quest gerudo first air hero game eye calamity\n",
      "\n",
      "the_and the_link\n"
     ]
    }
   ],
   "source": [
    "text.similar(\"battle\")\n",
    "print()\n",
    "text.common_contexts([\"battle\",\"table\"])"
   ]
  },
  {
   "cell_type": "markdown",
   "metadata": {},
   "source": [
    "> * Create the ZeldaWiki version of a dispersion plot:\n",
    ">    1. try with the words `['attack','help']`. What do you observe? (**hint:** we ordered characters as they appear in df_characters)\n",
    ">    2. find the top 6 races of allies by counting how many characters of each race there are in `df_characters`. Save the list of races and use it to create a new dispersion plot. What do you observe? (**hint:** look at how allies were originally ordered in the [Zelda Wiki](https://zelda.fandom.com/wiki/Characters_in_Breath_of_the_Wild))\n",
    ">    3. try your own version of the dispersion plot (use any set of words you like but remember to explain what you observe)."
   ]
  },
  {
   "cell_type": "code",
   "execution_count": 175,
   "metadata": {},
   "outputs": [
    {
     "data": {
      "image/png": "[encoded data removed]",
      "text/plain": [
       "<Figure size 432x288 with 1 Axes>"
      ]
     },
     "metadata": {
      "needs_background": "light"
     },
     "output_type": "display_data"
    }
   ],
   "source": [
    "text.dispersion_plot([\"attack\",\"help\"])"
   ]
  },
  {
   "cell_type": "markdown",
   "metadata": {},
   "source": [
    "**We observe that the word 'help' shows up more in the beginning and middle and 'attack' more in the end. This is do to the order of the characters, allies in the start, and enemies and bosses in the end**"
   ]
  },
  {
   "cell_type": "code",
   "execution_count": 218,
   "metadata": {},
   "outputs": [
    {
     "name": "stdout",
     "output_type": "stream",
     "text": [
      "{'Ancient Orb': 1, 'Bokoblin': 7, 'Chuchu': 4, 'Dog': 1, 'Dragon': 3, 'Gerudo': 78, 'Goron': 36, 'Great Fairy': 4, 'Guardian': 9, 'Hinox': 4, 'Horse': 6, 'Human': 1, 'Hylian': 215, 'Keese': 4, 'Korok': 13, 'Lizalfos': 10, 'Lynel': 5, 'Moblin': 7, 'Molduga': 2, 'Octorok': 6, 'Rito': 27, 'Sand Seal': 1, 'Sheikah': 142, 'Talus': 11, 'Unknown': 23, 'Wizzrobe': 6, 'Zora': 30}\n",
      "\n",
      " [('Hylian', 215), ('Sheikah', 142), ('Gerudo', 78), ('Goron', 36), ('Zora', 30), ('Rito', 27)]\n"
     ]
    },
    {
     "data": {
      "image/png": "[encoded data removed]",
      "text/plain": [
       "<Figure size 432x288 with 1 Axes>"
      ]
     },
     "metadata": {
      "needs_background": "light"
     },
     "output_type": "display_data"
    }
   ],
   "source": [
    "import numpy as np\n",
    "race_dict = {race:len(df_characters[df_characters.Race == race]) for race in np.unique(df_characters['Race'])}\n",
    "print(race_dict)\n",
    "# top 6 races in decending order\n",
    "top_6 = sorted(race_dict.items(),key=lambda x: x[1],reverse=True)[:6]\n",
    "print(\"\\n\",top_6)\n",
    "top_6_names = [x[0] for x in top_6]\n",
    "\n",
    "text.dispersion_plot(top_6_names)"
   ]
  },
  {
   "cell_type": "markdown",
   "metadata": {},
   "source": [
    "**We observe that the races tend to be mentioned in the text in clusters. This has to do with the fact that the zelda wiki orders the characters by region. As the races belong to the different regions (I'm assuming) this means all the characters with one race will be clustered together, hence the results shown in the dispersion plot.**"
   ]
  },
  {
   "cell_type": "code",
   "execution_count": 231,
   "metadata": {},
   "outputs": [
    {
     "data": {
      "image/png": "[encoded data removed]",
      "text/plain": [
       "<Figure size 432x288 with 1 Axes>"
      ]
     },
     "metadata": {
      "needs_background": "light"
     },
     "output_type": "display_data"
    }
   ],
   "source": [
    "text.dispersion_plot([\"Greater Hyrule Kingdom\",\"Akkala\",\"Central Hyrule\",\"Edlin\",\"Faron\",\"Gerudo\",\"Hebra\",\"Lanayru\",\"Necluda\"])"
   ]
  },
  {
   "cell_type": "markdown",
   "metadata": {},
   "source": [
    "**It can be observed that there is a loose tendency to have the regions in the game mentioned in the order that they appear, i.e. the order that they're in in the zelda wiki. So 'Akkala' has a cluster of mentions before 'Gerudo' does, which is before 'Hebra', which is before 'Lanayru' and so on.**"
   ]
  },
  {
   "cell_type": "markdown",
   "metadata": {},
   "source": [
    "> * What is a bigram? How does it relate to `collocations`. Explain in your own words.\n",
    ">    1. Compute the collocations on the ZeldaWiki Text."
   ]
  },
  {
   "cell_type": "markdown",
   "metadata": {},
   "source": [
    "**A Bigram is a sequence of 2 elements in a string or token. Usually letters, syllables or words. For example, 'th' is a bigram, but so is ['the','best']. Collocations is a tool that finds the pairs of words that occur frequently in the corpus.**"
   ]
  },
  {
   "cell_type": "code",
   "execution_count": 246,
   "metadata": {},
   "outputs": [
    {
     "data": {
      "text/plain": [
       "[('...*', 'Excuse'),\n",
       " ('25', '%,'),\n",
       " ('30th', 'Anniversary'),\n",
       " ('?!\\\\\"', 'Creeped'),\n",
       " ('Afromsia', 'Coast'),\n",
       " ('Alter', 'Egos'),\n",
       " ('Army', 'raids'),\n",
       " ('Association', 'enforces'),\n",
       " ('Astral', 'Observatory'),\n",
       " ('BOOSH', '!!!\\\\\".'),\n",
       " ('Boat', 'Oar'),\n",
       " ('CRAAAAACK', '!!!\\\\\"'),\n",
       " ('California', 'Highway'),\n",
       " ('Cane', 'Sugar'),\n",
       " ('Cape', 'Cresia'),\n",
       " ('Chillfin', 'Trout'),\n",
       " ('Complimentary', 'ID'),\n",
       " ('Courser', 'Bee'),\n",
       " ('Craig', 'Wessel'),\n",
       " ('Critical', 'Hits'),\n",
       " ('Crossbow', 'Training'),\n",
       " ('Curious', 'Quiver'),\n",
       " ('Daphnes', 'Nohansen'),\n",
       " ('Dee', 'Ess'),\n",
       " ('Deliciously', 'Grilled'),\n",
       " ('Down', 'Thrust'),\n",
       " ('Eiji', 'Aonuma'),\n",
       " ('Elizabeth', 'Maxwell'),\n",
       " ('Empty', 'Bottles'),\n",
       " ('Energetic', 'Rhino')]"
      ]
     },
     "execution_count": 246,
     "metadata": {},
     "output_type": "execute_result"
    }
   ],
   "source": [
    "Collocations= nltk.BigramCollocationFinder.from_words(text)\n",
    "\n",
    "bigram = nltk.collocations.BigramAssocMeasures()\n",
    "Collocations.nbest(bigram.pmi,30)"
   ]
  },
  {
   "cell_type": "markdown",
   "metadata": {},
   "source": [
    "> * Review the discussion of conditionals in Sec. 4. Find all words in the ZeldaWiki Text starting with the letter *b*. Show the first 5 in alphabetical order."
   ]
  },
  {
   "cell_type": "code",
   "execution_count": 299,
   "metadata": {},
   "outputs": [
    {
     "data": {
      "text/plain": [
       "['baby', 'back', 'backfires', 'backflips', 'background']"
      ]
     },
     "execution_count": 299,
     "metadata": {},
     "output_type": "execute_result"
    }
   ],
   "source": [
    "b_words = []\n",
    "for word in set(text):\n",
    "    if word[0] == \"b\":\n",
    "        b_words.append(word)\n",
    "# First 5 b-words in alphabetical order\n",
    "sorted(b_words)[:5]"
   ]
  },
  {
   "cell_type": "markdown",
   "metadata": {},
   "source": [
    "> * Use `.index()` to find the index of the word *Cherry*. You'll need to insert this word as an argument between the parentheses. By a process of trial and error, find the slice for the complete sentence that contains this word."
   ]
  },
  {
   "cell_type": "code",
   "execution_count": 296,
   "metadata": {},
   "outputs": [
    {
     "name": "stdout",
     "output_type": "stream",
     "text": [
      "52368\n",
      "['The', 'Ancient', 'Oven', ',', 'also', 'known', 'as', 'Cherry', ',', 'is', 'a', 'character', 'in', 'Breath', 'of', 'the', 'Wild', '.\\\\']\n"
     ]
    }
   ],
   "source": [
    "print(text.index(\"Cherry\"))\n",
    "cherry_sentance = text[52368-7:52368+11]\n",
    "print(cherry_sentance)"
   ]
  },
  {
   "cell_type": "markdown",
   "metadata": {},
   "source": [
    "> * Review the discussion of looping with conditions in Sec 4. Use a combination of `for` and `if` statements to loop over the words of the ZeldaWiki Text and print the 5 longest uppercase words, one per line."
   ]
  },
  {
   "cell_type": "code",
   "execution_count": 303,
   "metadata": {},
   "outputs": [
    {
     "data": {
      "text/plain": [
       "['FamiliarNameMissing',\n",
       " 'Transformations',\n",
       " 'Characteristics',\n",
       " 'Disambiguation',\n",
       " 'Manifestation']"
      ]
     },
     "execution_count": 303,
     "metadata": {},
     "output_type": "execute_result"
    }
   ],
   "source": [
    "UP_words = []\n",
    "for word in set(text):\n",
    "    if word[0].isupper():\n",
    "        UP_words.append(word)\n",
    "# print the 5 longest uppercase words\n",
    "sorted(UP_words,key=len,reverse=True)[:5]"
   ]
  },
  {
   "cell_type": "markdown",
   "metadata": {},
   "source": [
    "> *Exercise 2*: Basic stats\n",
    ">\n",
    "> * How many tokens are there in the ZeldaWiki Text? How many distinct tokens are there?"
   ]
  },
  {
   "cell_type": "code",
   "execution_count": 305,
   "metadata": {},
   "outputs": [
    {
     "name": "stdout",
     "output_type": "stream",
     "text": [
      "Number of tokens: 232147\n",
      "Number of distinct tokens: 11618\n"
     ]
    }
   ],
   "source": [
    "print(f'Number of tokens: {len(text)}')\n",
    "print(f'Number of distinct tokens: {len(set(text))}')"
   ]
  },
  {
   "cell_type": "markdown",
   "metadata": {},
   "source": [
    "> * Explain in your own words what aspect of language _lexical diversity_ describes. \n",
    ">     1. Compute the lexical diversity of the ZeldaWiki Text;\n",
    ">     2. Compute the lexical diversity related to allies and enemies (bosses inlcuded). Comment your results."
   ]
  },
  {
   "cell_type": "code",
   "execution_count": 334,
   "metadata": {},
   "outputs": [
    {
     "name": "stdout",
     "output_type": "stream",
     "text": [
      "Lexical diversity of zelda wiki text: 0.05004587610436491\n",
      "Lexical diversity of zelda wiki text: 0.05004587610436491\n",
      "\n",
      "Lexical diversity of zelda wiki text (allies and enemies): 0.04258939378928007\n",
      "Lexical diversity of zelda wiki text (allies and enemies): 0.002825795724260921\n"
     ]
    }
   ],
   "source": [
    "# lexical diversity is the ratio between the number of unique tokens in a text and the total number of tokens in a text.\n",
    "# It says something about how diverse the language being used is.\n",
    "\n",
    "#!pip install lexical_diversity\n",
    "from lexical_diversity import lex_div as ld\n",
    "print(f'Lexical diversity of zelda wiki text: {ld.ttr(text)}')\n",
    "\n",
    "print(f'Lexical diversity of zelda wiki text: {len(set(text))/len(text)}')\n",
    "\n",
    "character_mentions = 0\n",
    "for name in characters:\n",
    "    character_mentions += text.count(str(name))\n",
    "print()\n",
    "print(f'Lexical diversity of zelda wiki text (allies and enemies): {character_mentions/len(text)}') #not sure if this\n",
    "print(f'Lexical diversity of zelda wiki text (allies and enemies): {len(characters)/len(text)}') # or this (probs this)"
   ]
  },
  {
   "cell_type": "markdown",
   "metadata": {},
   "source": [
    "**So the lexical diversity in the text is about 5%. For the names of the allies and enemies, the lexical diversity is about 0.3%.**"
   ]
  },
  {
   "cell_type": "markdown",
   "metadata": {},
   "source": [
    "> * Create frequency distributions for the ZeldaWiki Text, including the cumulative frequency plot for the 75 most common tokens. "
   ]
  },
  {
   "cell_type": "code",
   "execution_count": 374,
   "metadata": {},
   "outputs": [
    {
     "data": {
      "image/png": "[encoded data removed]",
      "text/plain": [
       "<Figure size 432x288 with 1 Axes>"
      ]
     },
     "metadata": {
      "needs_background": "light"
     },
     "output_type": "display_data"
    }
   ],
   "source": [
    "import matplotlib.pyplot as plt\n",
    "text_freq = FreqDist(text)\n",
    "text_freq75 = sorted(text_freq.items(),key=lambda x: x[1],reverse=True)[:75]\n",
    "x_freq75 = [x for _,x in text_freq75]\n",
    "\n",
    "dbins = np.append(np.linspace(np.min(x_freq75),np.max(x_freq75),75), [np.inf])\n",
    "plt.hist(x_freq75, bins = dbins, histtype='step', cumulative=True)\n",
    "plt.xlabel(\"number of tokens\"), plt.ylabel(\"cumulative percentage\") #not sure about ylabel\n",
    "plt.show()"
   ]
  },
  {
   "cell_type": "markdown",
   "metadata": {},
   "source": [
    "> * Find all the four-letter tokens in the ZeldaWiki Text. With the help of a frequency distribution (FreqDist), show these tokens in decreasing order of frequency."
   ]
  },
  {
   "cell_type": "code",
   "execution_count": 346,
   "metadata": {},
   "outputs": [
    {
     "name": "stdout",
     "output_type": "stream",
     "text": [
      "[('Link', 4252), ('that', 2654), ('will', 1563), ('with', 1252), ('Wild', 788), ('from', 750), ('they', 714), ('also', 526), ('them', 508), ('asks', 395), ('Monk', 389), ('When', 383), ('then', 383), ('===\\\\', 381), ('when', 360), ('this', 358), ('have', 340), ('Town', 297), ('into', 291), ('They', 288), ('Also', 284), ('says', 279), ('only', 248), ('time', 245), ('been', 220), ('more', 206), ('away', 202), ('back', 197), ('what', 193), ('help', 181), ('name', 180), ('This', 180), ('like', 176), ('well', 171), ('does', 170), ('find', 168), ('Zora', 166), ('tell', 159), ('hero', 157), ('must', 149), ('such', 145), ('Impa', 143), ('take', 126), ('give', 122), ('once', 122), ('over', 121), ('Time', 121), ('down', 119), ('body', 118), ('Blue', 116), ('some', 112), ('nThe', 111), ('Side', 111), ('King', 110), ('seen', 108), ('able', 104), ('much', 101), ('near', 101), ('Riju', 101), ('than', 100), ('make', 99), ('Rito', 99), ('Sand', 99), ('come', 98), ('game', 98), ('even', 97), ('many', 96), ('used', 94), ('were', 92), ('Fire', 91), ('drop', 89), ('Wind', 87), ('With', 85), ('each', 84), ('Yiga', 82), ('both', 80), ('City', 80), ('Once', 79), ('most', 78), ('head', 77), ('home', 77), ('just', 76), ('Four', 76), ('long', 74), ('role', 73), ('Seal', 73), ('same', 71), ('Kara', 71), ('rest', 70), ('stop', 69), ('know', 68), ('Tree', 67), ('left', 66), ('Ruta', 65), ('sell', 63), ('fire', 62), ('goes', 61), ('very', 60), ('stay', 58), ('Paya', 58), ('work', 57), ('good', 57), ('four', 57), ('made', 57), ('area', 56), ('Clan', 56), ('part', 55), ('land', 55), ('life', 54), ('Mask', 54), ('Deku', 54), ('love', 53), ('form', 53), ('Helm', 53), ('Hero', 53), ('meet', 50), ('upon', 50), ('past', 50), ('Shop', 49), ('keep', 49), ('Bomb', 48), ('true', 48), ('girl', 48), ('lost', 47), ('blue', 47), ('talk', 46), ('next', 46), ('Upon', 45), ('save', 45), ('gets', 45), ('seal', 45), ('Like', 44), ('look', 43), ('Dark', 43), ('side', 42), ('Main', 42), ('told', 40), ('Song', 40), ('uses', 40), ('open', 40), ('nIce', 40), ('soon', 39), ('Rock', 39), ('Lake', 39), ('East', 39), ('type', 38), ('shop', 38), ('full', 37), ('play', 36), ('Past', 36), ('high', 35), ('best', 35), ('Gear', 35), ('Mine', 35), ('show', 35), ('wife', 34), ('said', 34), ('hear', 34), ('Koko', 34), ('need', 33), ('last', 33), ('====', 33), ('cold', 33), ('spot', 32), ('face', 32), ('five', 32), ('turn', 32), ('Pond', 31), ('care', 31), ('Ages', 31), ('Tech', 31), ('fall', 31), ('road', 30), ('\\\\\".\\\\', 30), ('ever', 30), ('dark', 30), ('stun', 30), ('fact', 29), ('free', 29), ('hand', 29), ('went', 29), ('move', 28), ('wind', 28), ('Yuga', 28), ('rain', 27), ('rock', 27), ('room', 27), ('Tali', 27), ('runs', 26), ('sent', 26), ('evil', 26), ('boss', 26), ('eyes', 26), ('wild', 25), ('call', 25), ('West', 25), ('ends', 25), ('tree', 25), ('done', 25), ('live', 25), ('Muzu', 24), ('Meat', 24), ('Guts', 24), ('Teba', 24), ('Cado', 24), ('Pack', 23), ('item', 23), ('Food', 23), ('.\\\\\"\\\\', 23), ('song', 23), ('safe', 23), ('Mode', 23), ('king', 22), ('Moon', 22), ('wear', 22), ('Rare', 22), ('Club', 22), ('heat', 21), ('Gems', 21), ('Maag', 21), ('pair', 20), ('atop', 20), ('idea', 20), ('base', 20), ('Bros', 20), ('came', 20), ('onto', 20), ('sets', 20), ('weak', 20), ('Dina', 20), ('Pyra', 20), ('Mimo', 20), ('race', 19), ('jump', 19), ('town', 19), ('task', 19), ('deep', 19), ('hits', 19), ('else', 18), ('path', 18), ('deal', 18), ('here', 18), ('Gate', 18), ('late', 18), ('sure', 18), ('hide', 18), ('kind', 18), ('note', 18), ('lack', 18), ('took', 18), ('Saki', 18), ('sees', 17), ('east', 17), ('rare', 17), ('sits', 17), ('thus', 17), ('days', 17), ('feel', 17), ('Jora', 17), ('Isha', 17), ('Ripp', 17), ('Chus', 17), ('pass', 16), ('grow', 16), ('From', 16), ('main', 16), ('wait', 16), ('kill', 16), ('gave', 16), ('plan', 16), ('sing', 16), ('Zant', 16), ('hair', 16), ('Even', 16), ('book', 16), ('Rain', 16), ('Mary', 16), ('Cave', 15), ('nice', 15), ('word', 15), ('Sage', 15), ('Snow', 15), ('Kyra', 15), ('Babi', 15), ('Nali', 15), ('Nest', 15), ('hard', 14), ('ride', 14), ('gear', 14), ('calm', 14), ('BotW', 14), ('want', 14), ('knew', 14), ('read', 14), ('wish', 14), ('wall', 14), ('Game', 14), ('Suma', 14), ('mist', 14), ('mind', 13), ('gone', 13), ('join', 13), ('line', 13), ('Fish', 13), ('hold', 13), ('gift', 13), ('food', 13), ('fear', 13), ('hasn', 13), ('wake', 13), ('tend', 13), ('less', 13), ('soul', 13), ('Kass', 13), ('rise', 13), ('Boss', 13), ('pick', 13), ('lose', 13), ('Lady', 13), ('Risa', 13), ('Tula', 13), ('door', 12), ('half', 12), ('fish', 12), ('Lord', 12), ('seem', 12), ('hurt', 12), ('Lost', 12), ('army', 12), ('self', 12), ('warn', 12), ('lead', 12), ('ways', 12), ('afar', 12), ('held', 12), ('Zyle', 12), ('Jana', 12), ('sold', 12), ('meat', 12), ('sand', 12), ('Rima', 12), ('Emri', 12), ('Fort', 12), ('bats', 12), ('tips', 11), ('seek', 11), ('Test', 11), ('Gold', 11), ('foot', 11), ('cost', 11), ('shot', 11), ('Bone', 11), ('born', 11), ('blow', 11), ('hill', 11), ('send', 11), ('size', 11), ('arms', 11), ('adds', 11), ('beat', 11), ('Fugo', 11), ('Cree', 11), ('Boko', 11), ('easy', 10), ('walk', 10), ('buys', 10), ('wide', 10), ('Wood', 10), ('Fang', 10), ('Leaf', 10), ('Rune', 10), ('whom', 10), ('duty', 10), ('male', 10), ('Fury', 10), ('flee', 10), ('skin', 10), ('bids', 10), ('Chio', 10), ('busy', 10), ('Lorn', 10), ('Essa', 10), ('Bazz', 10), ('Tokk', 10), ('Torr', 9), ('lava', 9), ('luck', 9), ('owns', 9), ('Gust', 9), ('ship', 9), ('Dabi', 9), ('beds', 9), ('kept', 9), ('harm', 9), ('gate', 9), ('Some', 9), ('cave', 9), ('hope', 9), ('Nata', 9), ('loud', 9), ('none', 9), ('puts', 9), ('slay', 9), ('link', 9), ('Reef', 9), ('Bows', 9), ('real', 9), ('joke', 9), ('ones', 9), ('mini', 9), ('Drak', 9), ('Shae', 9), ('Kofi', 9), ('Agus', 9), ('Jinn', 9), ('Anly', 9), ('swim', 8), ('sign', 8), ('nFor', 8), ('plot', 8), ('Navi', 8), ('case', 8), ('fast', 8), ('wave', 8), ('worn', 8), ('test', 8), ('Each', 8), ('quot', 8), ('pays', 8), ('fade', 8), ('Nima', 8), ('Zumo', 8), ('Oven', 8), ('cook', 8), ('mood', 8), ('Kaso', 8), ('Neha', 8), ('yell', 8), ('rude', 8), ('hunt', 8), ('Tala', 8), ('Post', 8), ('Kayu', 8), ('Yoog', 8), ('Kooh', 8), ('Keek', 8), ('Yota', 8), ('Jeem', 8), ('Nebb', 8), ('Qeta', 8), ('Naeg', 8), ('bond', 7), ('ring', 7), ('core', 7), ('cute', 7), ('fine', 7), ('didn', 7), ('tame', 7), ('Horn', 7), ('Goat', 7), ('Ingo', 7), ('grab', 7), ('Axyl', 7), ('Harp', 7), ('Keep', 7), ('bird', 7), ('fell', 7), ('felt', 7), ('wolf', 7), ('tall', 7), ('goal', 7), ('rush', 7), ('Mael', 7), ('Hill', 7), ('step', 7), ('edge', 7), ('grew', 7), ('eats', 7), ('text', 7), ('Kema', 7), ('Raqa', 7), ('Kohm', 7), ('Mill', 7), ('snow', 7), ('Toza', 7), ('Opal', 7), ('plum', 7), ('Rods', 7), ('spit', 7), ('nSky', 7), ('aren', 6), ('Park', 6), ('trip', 6), ('west', 6), ('lies', 6), ('nSho', 6), ('Ship', 6), ('Milk', 6), ('feet', 6), ('fork', 6), ('Pass', 6), ('tour', 6), ('ruin', 6), ('Bird', 6), ('wins', 6), ('lets', 6), ('farm', 6), ('year', 6), ('hint', 6), ('prey', 6), ('moon', 6), ('Evil', 6), ('mask', 6), ('ease', 6), ('Onox', 6), ('Ezlo', 6), ('heal', 6), ('Cole', 6), ('rage', 6), ('meal', 6), ('Hook', 6), ('nKah', 6), ('glad', 6), ('Zuna', 6), ('Ring', 6), ('dish', 6), ('Star', 6), ('Saas', 6), ('Find', 6), ('mine', 6), ('Rice', 6), ('Kish', 6), ('Muhl', 6), ('legs', 6), ('dive', 6), ('Shai', 6), ('Tawa', 6), ('deer', 6), ('Hino', 6), ('Rola', 6), ('slow', 6), ('your', 5), ('nEna', 5), ('noon', 5), ('Both', 5), ('crew', 5), ('Sign', 5), ('flew', 5), ('soft', 5), ('cool', 5), ('pray', 5), ('nAnd', 5), ('rose', 5), ('fate', 5), ('horn', 5), ('wood', 5), ('Many', 5), ('mark', 5), ('cast', 5), ('city', 5), ('ages', 5), ('seat', 5), ('ears', 5), ('push', 5), ('nShe', 5), ('Most', 5), ('Just', 5), ('nSee', 5), ('ball', 5), ('nDah', 5), ('nOld', 5), ('Etsu', 5), ('site', 5), ('Warm', 5), ('Ruvo', 5), ('Myti', 5), ('Noya', 5), ('roll', 5), ('gang', 5), ('Kima', 5), ('pull', 5), ('Tray', 5), ('Daag', 5), ('Kuhn', 5), ('pain', 5), ('Maca', 5), ('lady', 5), ('Dila', 5), ('Race', 5), ('Cara', 5), ('twin', 5), ('pack', 5), ('Sasa', 5), ('Goma', 5), ('Kiah', 5), ('Mozo', 5), ('Qaza', 5), ('mate', 5), ('Lota', 5), ('Rona', 5), ('Tena', 5), ('club', 5), ('Bank', 5), ('Keye', 5), ('glow', 5), ('Muwo', 5), ('Ivee', 5), ('Cima', 5), ('Bats', 5), ('Whip', 5), ('leap', 5), ('lord', 4), ('Bait', 4), ('Item', 4), ('Here', 4), ('chat', 4), ('quit', 4), ('Deer', 4), ('exit', 4), ('gods', 4), ('Isle', 4), ('acts', 4), ('bear', 4), ('nBut', 4), ('hour', 4), ('nHer', 4), ('cell', 4), ('fled', 4), ('sail', 4), ('draw', 4), ('lone', 4), ('Must', 4), ('pink', 4), ('Iron', 4), ('kids', 4), ('keen', 4), ('rich', 4), ('Gale', 4), ('vows', 4), ('deny', 4), ('Gift', 4), ('Book', 4), ('tThe', 4), ('Mini', 4), ('died', 4), ('gaze', 4), ('clan', 4), ('mesa', 4), ('Mane', 4), ('Toma', 4), ('urge', 4), ('Ashe', 4), ('clue', 4), ('bite', 4), ('Russ', 4), ('Pyle', 4), ('huge', 4), ('Zoos', 4), ('Surf', 4), ('tent', 4), ('rent', 4), ('mess', 4), ('Heat', 4), ('nSha', 4), ('maze', 4), ('Ledo', 4), ('Tona', 4), ('Tuss', 4), ('Mart', 4), ('Urog', 4), ('nine', 4), ('Nack', 4), ('Raft', 4), ('nRed', 4), ('Blow', 4), ('burn', 4), ('fits', 3), ('nOne', 3), ('wasn', 3), ('bone', 3), ('surf', 3), ('Will', 3), ('Crew', 3), ('earn', 3), ('trap', 3), ('Bugs', 3), ('view', 3), ('lake', 3), ('hang', 3), ('Bear', 3), ('Dogs', 3), ('dear', 3), ('Claw', 3), ('whip', 3), ('dies', 3), ('mane', 3), ('More', 3), ('Seed', 3), ('jaws', 3), ('Only', 3), ('Wall', 3), ('halt', 3), ('Mage', 3), ('Back', 3), ('Tuft', 3), ('Spin', 3), ('pool', 3), ('lots', 3), ('Wife', 3), ('Away', 3), ('Mils', 3), ('tarp', 3), ('poor', 3), ('pile', 3), ('aims', 3), ('beam', 3), ('sage', 3), ('Tail', 3), ('aids', 3), ('roof', 3), ('rule', 3), ('Room', 3), ('pure', 3), ('Nell', 3), ('Ever', 3), ('Stal', 3), ('Orbs', 3), ('Baij', 3), ('gold', 3), ('Root', 3), ('fool', 3), ('Oman', 3), ('Daim', 3), ('Kala', 3), ('chef', 3), ('Ruby', 3), ('news', 3), ('Shaz', 3), ('Keet', 3), ('Raym', 3), ('Octo', 3), ('buff', 3), ('laid', 3), ('Onya', 3), ('Zumi', 3), ('Ruug', 3), ('Kula', 3), ('leaf', 3), ('Pepp', 3), ('root', 3), ('camp', 3), ('paid', 3), ('orbs', 3), ('Naga', 3), ('page', 3), ('tale', 3), ('Koth', 3), ('gain', 3), ('lend', 3), ('Teli', 3), ('Tera', 3), ('nTho', 3), ('lift', 3), ('Soup', 3), ('Chef', 3), ('nNot', 3), ('sick', 3), ('risk', 3), ('post', 3), ('otta', 3), ('cure', 3), ('jerk', 3), ('Veil', 3), ('tone', 3), ('lied', 3), ('nHia', 3), ('Uwog', 3), ('Oyaa', 3), ('Naag', 3), ('pond', 3), ('Taag', 3), ('Okeo', 3), ('Loya', 3), ('Beak', 3), ('nSoh', 3), ('loss', 3), ('sake', 3), ('Rata', 3), ('miss', 3), ('eggs', 3), ('dock', 3), ('Then', 3), ('nAll', 3), ('Utoh', 3), ('belt', 3), ('aged', 3), ('mean', 3), ('Jump', 3), ('tier', 3), ('Pink', 3), ('scan', 3), ('hurl', 3), ('thaw', 3), ('iron', 3), ('nChu', 3), ('emit', 3), ('pits', 3), ('Peak', 3), ('aunt', 2), ('neck', 2), ('bugs', 2), ('rant', 2), ('hire', 2), ('nRik', 2), ('n100', 2), ('Unit', 2), ('10th', 2), ('Tatl', 2), ('milk', 2), ('Ilia', 2), ('Wolf', 2), ('team', 2), ('meek', 2), ('hate', 2), ('nNow', 2), ('holy', 2), ('monk', 2), ('Atop', 2), ('Long', 2), ('Ruto', 2), ('baby', 2), ('mage', 2), ('band', 2), ('dead', 2), ('Near', 2), ('trio', 2), ('Rail', 2), ('Wing', 2), ('That', 2), ('Orca', 2), ('clad', 2), ('eras', 2), ('nMei', 2), ('Bass', 2), ('fair', 2), ('Mina', 2), ('2017', 2), ('Garb', 2), ('15th', 2), ('snap', 2), ('lock', 2), ('SSBU', 2), ('lair', 2), ('robe', 2), ('gust', 2), ('gray', 2), ('Good', 2), ('Sets', 2), ('nAya', 2), ('Nobo', 2), ('info', 2), ('labs', 2), ('sole', 2), ('anti', 2), ('Seek', 2), ('nKeh', 2), ('Life', 2), ('nOwa', 2), ('rate', 2), ('muse', 2), ('Cake', 2), ('moat', 2), ('diet', 2), ('rear', 2), ('flap', 2), ('nToh', 2), ('sore', 2), ('What', 2), ('Molo', 2), ('lurk', 2), ('nQua', 2), ('nSah', 2), ('nTah', 2), ('bard', 2), ('Road', 2), ('desk', 2), ('nKeo', 2), ('hadn', 2), ('bold', 2), ('melt', 2), ('week', 2), ('Dako', 2), ('copy', 2), ('nJee', 2), ('nKay', 2), ('flow', 2), ('mush', 2), ('puns', 2), ('sale', 2), ('Salt', 2), ('fill', 2), ('star', 2), ('tiny', 2), ('Mesa', 2), ('fans', 2), ('chip', 2), ('nKuh', 2), ('Rush', 2), ('nNoe', 2), ('nRok', 2), ('nRin', 2), ('nGee', 2), ('nVoo', 2), ('nAkh', 2), ('sigh', 2), ('Daka', 2), ('begs', 2), ('Izra', 2), ('sour', 2), ('woke', 2), ('wise', 2), ('nDow', 2), ('suit', 2), ('nKam', 2), ('herd', 2), ('dyes', 2), ('nUma', 2), ('bets', 2), ('nYah', 2), ('Hila', 2), ('nRee', 2), ('odds', 2), ('dare', 2), ('Shee', 2), ('Coop', 2), ('Hide', 2), ('Mark', 2), ('hood', 2), ('2021', 2), ('fawn', 2), ('ward', 2), ('High', 2), ('kick', 2), ('lieu', 2), ('Buzz', 2), ('Gels', 2), ('Zols', 2), ('nBig', 2), ('Tarm', 2), ('stab', 2), ('akin', 2), ('toss', 2), ('bows', 2), ('hops', 2), ('Arms', 2), ('Cart', 2), ('ribs', 2), ('Zero', 2), ('quiz', 1), ('Darb', 1), ('howl', 1), ('nGut', 1), ('Hyoi', 1), ('mail', 1), ('dust', 1), ('Pico', 1), ('10am', 1), ('10pm', 1), ('boat', 1), ('doom', 1), ('Bard', 1), ('user', 1), ('quip', 1), ('vary', 1), ('nDin', 1), ('poop', 1), ('Term', 1), ('Eggs', 1), ('foal', 1), ('mare', 1), ('trot', 1), ('Poes', 1), ('Tael', 1), ('grip', 1), ('Fuse', 1), ('Call', 1), ('30th', 1), ('logo', 1), ('hats', 1), ('epos', 1), ('tune', 1), ('tHer', 1), ('isle', 1), ('pans', 1), ('Shad', 1), ('pose', 1), ('ness', 1), ('Karr', 1), ('poet', 1), ('vast', 1), ('nOft', 1), ('palm', 1), ('nTwo', 1), ('bore', 1), ('fray', 1), ('rout', 1), ('...\\\\', 1), ('Jaws', 1), ('lush', 1), ('Buck', 1), ('bind', 1), ('rune', 1), ('nthe', 1), ('bare', 1), ('00PM', 1), ('00AM', 1), ('12am', 1), ('Yoko', 1), ('Boom', 1), ('Deep', 1), ('plea', 1), ('Mido', 1), ('wars', 1), ('Fado', 1), ('boar', 1), ('host', 1), ('dawn', 1), ('Maku', 1), ('Ambi', 1), ('keys', 1), ('Rusl', 1), ('coup', 1), ('pact', 1), ('duel', 1), ('tear', 1), ('Niko', 1), ('sumo', 1), ('Mitt', 1), ('Kart', 1), ('Such', 1), ('Sera', 1), ('Rose', 1), ('Eiji', 1), ('sort', 1), ('haul', 1), ('solf', 1), ('Deya', 1), ('Hood', 1), ('nNat', 1), ('aura', 1), ('roam', 1), ('Koga', 1), ('envy', 1), ('gale', 1), ('soar', 1), ('pomp', 1), ('nHis', 1), ('bade', 1), ('feud', 1), ('Ronn', 1), ('Hits', 1), ('hilt', 1), ('Hand', 1), ('Ball', 1), ('SSBM', 1), ('SSBB', 1), ('HWDE', 1), ('TLoZ', 1), ('TAoL', 1), ('ALBW', 1), ('egos', 1), ('teen', 1), ('void', 1), ('Pina', 1), ('Nuts', 1), ('drew', 1), ('Door', 1), ('Wise', 1), ('vain', 1), ('veil', 1), ('lash', 1), ('Over', 1), ('Egos', 1), ('eons', 1), ('mode', 1), ('gris', 1), ('hild', 1), ('\\\\\").', 1), ('nRex', 1), ('grey', 1), ('brag', 1), ('pets', 1), ('feed', 1), ('dogs', 1), ('guys', 1), ('ugly', 1), ('Ruli', 1), ('dull', 1), ('nHoz', 1), ('fend', 1), ('Rudi', 1), ('Last', 1), ('heed', 1), ('Base', 1), ('chop', 1), ('peak', 1), ('Warp', 1), ('Mabe', 1), ('Bosh', 1), ('nDai', 1), ('cake', 1), ('bolt', 1), ('Kaam', 1), ('Rota', 1), ('woes', 1), ('Mogg', 1), ('digs', 1), ('flat', 1), ('Daqa', 1), ('Gero', 1), ('1951', 1), ('2014', 1), ('2011', 1), ('nMaw', 1), ('?!\\\\\"', 1), ('slur', 1), ('Duby', 1), ('True', 1), ('nFin', 1), ('vibe', 1), ('bath', 1), ('hung', 1), ('Zelo', 1), ('nAji', 1), ('slab', 1), ('Oaki', 1), ('nDaz', 1), ('Ogre', 1), ('Aldo', 1), ('wane', 1), ('code', 1), ('Heir', 1), ('grit', 1), ('Jini', 1), ('Camp', 1), ('runt', 1), ('Daqo', 1), ('foxy', 1), ('twig', 1), ('Hawa', 1), ('unto', 1), ('Next', 1), ('Rina', 1), ('boot', 1), ('ally', 1), ('till', 1), ('toys', 1), ('Tina', 1), ('math', 1), ('lays', 1), ('tank', 1), ('rode', 1), ('cuts', 1), ('vure', 1), ('Cane', 1), ('weep', 1), ('vaba', 1), ('Saut', 1), ('nOlu', 1), ('guts', 1), ('unit', 1), ('tail', 1), ('bits', 1), ('Palm', 1), ('poke', 1), ('nose', 1), ('nGuy', 1), ('wore', 1), ('Cold', 1), ('Moza', 1), ('ahem', 1), ('...*', 1), ('arts', 1), ('neat', 1), ('Maka', 1), ('Spot', 1), ('toll', 1), ('warm', 1), ('Face', 1), ('sung', 1), ('Ails', 1), ('Huck', 1), ('Jogo', 1), ('inch', 1), ('Misa', 1), ('Nekk', 1), ('Flap', 1), ('deaf', 1), ('Moor', 1), ('bank', 1), ('dams', 1), ('Lead', 1), ('clef', 1), ('Part', 1), ('curt', 1), ('Love', 1), ('heir', 1), ('fake', 1), ('Frog', 1), ('nAmi', 1), ('mock', 1), ('Kaya', 1), ('alot', 1), ('Sheh', 1), ('Text', 1), ('Cape', 1), ('Soka', 1), ('salt', 1), ('lame', 1), ('nAzu', 1), ('perk', 1), ('bide', 1), ('Cows', 1), ('soil', 1), ('Leop', 1), ('list', 1), ('wold', 1), ('shoo', 1), ('dyed', 1), ('nDoc', 1), ('huff', 1), ('bunk', 1), ('rash', 1), ('yard', 1), ('Boat', 1), ('cash', 1), ('Mubs', 1), ('Zuta', 1), ('wing', 1), ('gulf', 1), ('waft', 1), ('redo', 1), ('Hard', 1), ('zone', 1), ('nHow', 1), ('dude', 1), ('slip', 1), ('Giro', 1), ('gush', 1), ('boys', 1), ('Shay', 1), ('swap', 1), ('Toto', 1), ('sobs', 1), ('nAny', 1), ('okay', 1), ('dumb', 1), ('ties', 1), ('cape', 1), ('Free', 1), ('fond', 1), ('Cook', 1), ('Plum', 1), ('pity', 1), ('mile', 1), ('crop', 1), ('vest', 1), ('enBr', 1), ('|]],', 1), ('tied', 1), ('rope', 1), ('SSHD', 1), ('Jars', 1), ('blob', 1), ('Gods', 1), ('lure', 1), ('slim', 1), ('barn', 1), ('data', 1), ('sped', 1), ('kiss', 1), ('lips', 1), ('Worm', 1), ('nGel', 1), ('nZol', 1), ('Bash', 1), ('arcs', 1), ('Maze', 1), ('semi', 1), ('24th', 1), ('1080', 1), ('1296', 1), ('skid', 1), ('plus', 1), ('1620', 1), ('1500', 1), ('dual', 1), ('++.\\\\', 1), ('dome', 1), ('Lava', 1), ('Less', 1), ('Grim', 1), ('vice', 1), ('Well', 1), ('hook', 1), ('nBad', 1), ('Draw', 1), ('lion', 1), ('roar', 1), ('Cats', 1), ('Blin', 1), ('pigs', 1), ('Trap', 1), ('Wand', 1), ('1000', 1), ('bomb', 1), ('slam', 1), ('bury', 1), ('Zone', 1), ('sink', 1), ('raft', 1), ('thin', 1), ('Down', 1), ('Ache', 1), ('Nabi', 1), ('Cove', 1), ('loot', 1), (')\\\\\",', 1), ('fuse', 1), ('Lair', 1), ('reds', 1), ('nLil', 1), ('Uten', 1), ('00am', 1), ('Aris', 1), ('Fins', 1), ('mole', 1), ('dent', 1), ('spin', 1), ('Army', 1), ('17th', 1), ('Much', 1), ('tilt', 1), ('warp', 1), ('Soon', 1), ('Weak', 1), ('nape', 1)]\n"
     ]
    }
   ],
   "source": [
    "token_freq = FreqDist([x for x in text if len(x) == 4])\n",
    "print(sorted(token_freq.items(),key=lambda x: x[1],reverse=True))"
   ]
  },
  {
   "cell_type": "markdown",
   "metadata": {},
   "source": [
    "> * What does the following code do? `sum(len(w) for w in ZeldaWiki)` Can you use it to work out the average token length of the ZeldaWiki Text?"
   ]
  },
  {
   "cell_type": "code",
   "execution_count": 381,
   "metadata": {},
   "outputs": [
    {
     "name": "stdout",
     "output_type": "stream",
     "text": [
      "Average token length: sum(len(w) for w in text) / len(text) = 3.837620128625397\n"
     ]
    }
   ],
   "source": [
    "# It sums all the characters in the text, so \"a\" counts as 1, so does \".\" and so does \"/\".\n",
    "print(f'Average token length: sum(len(w) for w in text) / len(text) = {sum(len(w) for w in text) / len(text)}')"
   ]
  },
  {
   "cell_type": "markdown",
   "metadata": {},
   "source": [
    "> * Define a function:\n",
    ">     1. called `vocab_size(text)` that has a single parameter for the `text`, and which returns the vocabulary size of the text. Apply it to the ZeldaWiki Text;\n",
    ">     2. `percent(word, text)` that calculates how often a given `word` occurs in a `text`, and expresses the result as a percentage. Apply it to the ZeldaWiki Text to compute the percentage for *Link* (our beloved hero)"
   ]
  },
  {
   "cell_type": "code",
   "execution_count": 388,
   "metadata": {},
   "outputs": [
    {
     "name": "stdout",
     "output_type": "stream",
     "text": [
      "Vocabulary size of ZeldaWiki text: 11618\n",
      "Percentage occurence of the word Link in ZeldaWiki text: 1.8315980822496092 %\n"
     ]
    }
   ],
   "source": [
    "def vocab_size(text):\n",
    "    return len(set(text))\n",
    "print(f'Vocabulary size of ZeldaWiki text: {vocab_size(text)}')\n",
    "def percent(word,text):\n",
    "     return text.count(word) / len(text) * 100\n",
    "print(f'Percentage occurence of the word Link in ZeldaWiki text: {percent(\"Link\",text)} %')"
   ]
  },
  {
   "cell_type": "markdown",
   "metadata": {},
   "source": [
    "# Part 3: Working with NLTK and other types of text\n",
    "\n",
    "So far, we've worked with text from the Zelda Wiki. But that's not the only source of text in the universe. In fact, it's far from it . Chapter 2 in NLPP is all about getting access to nicely curated texts that you can find built into NLTK.\n",
    "> \n",
    "> Reading: NLPP Chapter 2, Sec. 1 - 4.\n",
    ">"
   ]
  },
  {
   "cell_type": "markdown",
   "metadata": {},
   "source": [
    "> *Exercises*: NLPP Chapter 2\\. (other stuff that might be due in an assignment)\n",
    "> \n",
    "> * Solve exercise 4, 8, 11, 15, 16, 17, 18 in NLPP, section 2.8\\. As always, I recommend you write up your solutions nicely in a `notebook`.\n",
    "> * Work through exercise 2.8.23 on Zipf's law. [Zipf's law](https://en.wikipedia.org/wiki/Zipf%27s_law) connects to a property of the Barabasi-Albert networks. Which one? Take a look at [this article](http://www.hpl.hp.com/research/idl/papers/ranking/adamicglottometrics.pdf) and write a paragraph or two describing other important instances of power-laws found on the internet.\n",
    ">"
   ]
  },
  {
   "cell_type": "code",
   "execution_count": null,
   "metadata": {},
   "outputs": [],
   "source": []
  }
 ],
 "metadata": {
  "kernelspec": {
   "display_name": "Python 3",
   "language": "python",
   "name": "python3"
  },
  "language_info": {
   "codemirror_mode": {
    "name": "ipython",
    "version": 3
   },
   "file_extension": ".py",
   "mimetype": "text/x-python",
   "name": "python",
   "nbconvert_exporter": "python",
   "pygments_lexer": "ipython3",
   "version": "3.7.10"
  }
 },
 "nbformat": 4,
 "nbformat_minor": 4
}
