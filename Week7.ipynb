{
 "cells": [
  {
   "cell_type": "markdown",
   "metadata": {},
   "source": [
    "# Overview\n",
    "\n",
    "This week's curriculum is a little bit of a mixed bag. We'll cover topics that are not super-related, but both are _very useful_ (and there is some connection between them). The overview is\n",
    "\n",
    "* Tricks for raw text (NLPP, Chapter 3) and finding the important words in a document (TF-IDF)\n",
    "* Community Detection\n",
    "\n",
    "In the first part, we will take a quick tour of NLPP's chapter 3, which is boring, but an amazing resource that you'll keep returning to. Then we'll talk about how we can use simple statistics & machine learning to get text to show us what it's all about. We will even do a little visualization. \n",
    "\n",
    "In the second part we will go back to network science, discussing community detection and trying it out on our very own dataset."
   ]
  },
  {
   "cell_type": "markdown",
   "metadata": {},
   "source": [
    "Video links\n",
    "* Sune's community detection algorithm, for overlapping communities (that we're learning about today) is helping create break-throughs in brain science: https://news.iu.edu/stories/2020/10/iub/releases/19-neuroscientists-build-new-human-brain-network-model.html"
   ]
  },
  {
   "cell_type": "markdown",
   "metadata": {},
   "source": [
    "# Processing real text (from out on the inter-webs)\n",
    "\n",
    "Ok. So Chapter 3 in NLPP is all about working with text from the real world. Getting text from the internet, cleaning it, tokenizing, modifying (e.g., stemming, converting to lower case, etc.) to get the text in shape to work with the NLTK tools you've already learned about - and many more. \n",
    "\n",
    "In the process we'll learn more about regular expressions, as well as unicode; something we've already been struggling with a little bit will now be explained in more detail. \n",
    "> \n",
    "> **Video lecture**: Short overview of chapter 3 + a few words about kinds of language processing that we don't address in this class. \n",
    "> "
   ]
  },
  {
   "cell_type": "code",
   "execution_count": 1,
   "metadata": {},
   "outputs": [
    {
     "data": {
      "image/jpeg": "[encoded data removed]",
      "text/html": [
       "\n",
       "        <iframe\n",
       "            width=\"800\"\n",
       "            height=\"450\"\n",
       "            src=\"https://www.youtube.com/embed/Rwakh-HXPJk\"\n",
       "            frameborder=\"0\"\n",
       "            allowfullscreen\n",
       "        ></iframe>\n",
       "        "
      ],
      "text/plain": [
       "<IPython.lib.display.YouTubeVideo at 0x7fa9c043a130>"
      ]
     },
     "execution_count": 1,
     "metadata": {},
     "output_type": "execute_result"
    }
   ],
   "source": [
    "from IPython.display import YouTubeVideo, HTML, display\n",
    "YouTubeVideo(\"Rwakh-HXPJk\", width=800, height=450)"
   ]
  },
  {
   "cell_type": "markdown",
   "metadata": {},
   "source": [
    "> *Reading*: NLPP Chapter 3.1, 3.2, 3.3, 3.4, 3.5, 3.6, 3.7, 3.9, and 3.10\\. It's not important that you go in depth with everything here - the key thing is that you *know that Chapter 3 of this book exists*, and that it's a great place to return to if you're ever in need of an explanation of regular expressions, unicode, or other topics that you forget as soon as you stop using them (and don't worry, I forget about those things too).\n",
    "> "
   ]
  },
  {
   "cell_type": "code",
   "execution_count": 140,
   "metadata": {},
   "outputs": [],
   "source": [
    "import pandas as pd\n",
    "from pathlib import Path\n",
    "import re\n",
    "import nltk\n",
    "import numpy as np\n",
    "from collections import Counter\n",
    "import networkx as nx\n",
    "import ast"
   ]
  },
  {
   "cell_type": "markdown",
   "metadata": {},
   "source": [
    "During Week 6, we have downloaded the ZeldaWiki pages via the API and let nltk preprocessing it (by using `PlaintextCorpusReader` and `words()`). However, you might have noticed (especially when computing the frequency distribution with `FreqDist`) that the text was far from being clean. \n",
    "\n",
    "Today, we are going to preprocess the ZeldaWiki pages first by using a few methods from Chapter 3! \n",
    "\n",
    "> *Exercise 1* Preprocessing the ZeldaWiki text. Follow the bullets below for each character in your [character list](https://github.com/SocialComplexityLab/socialgraphs2021/blob/main/files/ZeldaBotW_nodes_w_attributes_enriched.csv):\n",
    ">   * Read the file containing the character's page description."
   ]
  },
  {
   "cell_type": "code",
   "execution_count": 3,
   "metadata": {},
   "outputs": [],
   "source": [
    "df = pd.read_csv(\"https://raw.githubusercontent.com/SocialComplexityLab/socialgraphs2021/main/files/ZeldaBotW_nodes_w_attributes_enriched.csv\")"
   ]
  },
  {
   "cell_type": "markdown",
   "metadata": {},
   "source": [
    ">   * Filter out the headers of sections by using `re.sub(pattern,'',DESCRIPTION_HERE)` (**hint** headers are in the form `== header name ==` where the number of `=` might vary.\n",
    ">      *  **Note:** I found that there are many repetitions towards the end of pages in the sections \"Locations\", \"Nomenclature\", \"See Also\", and \"Gallery\". You can remove these sections from the description entirely (up to you)."
   ]
  },
  {
   "cell_type": "markdown",
   "metadata": {},
   "source": [
    ">   * Tokenize your text with `WordPunctTokenizer()`\n",
    ">   * Exclude characters names (since we're interested in the words, not the names)\n",
    ">      * **Note 1** some of our characters have names that are made by multiple words, e.g., \"Mo'a Keet\", thus you might want to exclude these before tokenizing\n",
    ">      * **Note 2** common enemy names can appear with Upper-, Lower-case, and plural forms, e.g., Bokoblin, bokoblin, bokoblins. It is up to you to decide whether you want to take care of these cases.\n",
    ">   * Exclude punctuation and stop words.\n",
    ">   * Set everything to lower case.\n",
    ">   * Lemmatize your words with `WordNetLemmatizer()`\n",
    ">   * Save your output for future use.\n",
    ">\n",
    "> **Note** *none of the above has to be perfect. It might not be easy to remove _all_ characters names. And there's some room for improvisation. In my own first run the results didn't look so nice, because some pages are very detailed and might contain lists of words as the one in the \"See Also\" section, whereas other pages are very short. For that reason, I added a few notes for you on how I decided to handle some of these cases. You could also choose to use the unique set of words from each page rather than each word in proportion to how it's actually used on that page for instance (there are pros and cons with both choices). Choices like that are up to you.*"
   ]
  },
  {
   "cell_type": "code",
   "execution_count": 32,
   "metadata": {},
   "outputs": [],
   "source": [
    "import string\n",
    "import json\n",
    "\n",
    "week6_contents_dir = Path(\"week6_contents\")\n",
    "week7_contents_dir = Path(\"week7_cleaned_contents\")\n",
    "\n",
    "week7_contents_dir.mkdir(exist_ok=True)\n",
    "\n",
    "tokenizer = nltk.WordPunctTokenizer()\n",
    "lemmatizer = nltk.WordNetLemmatizer()\n",
    "\n",
    "stopwords = set(nltk.corpus.stopwords.words())\n",
    "\n",
    "character_names = set(df[\"Name\"])\n",
    "character_names = character_names | {c + 's' for c in character_names}\n",
    "\n",
    "character_pattern = \"|\".join(character_names)\n",
    "\n",
    "for content_path in week6_contents_dir.glob(\"*.txt\"):    \n",
    "    with open(content_path) as file:\n",
    "        content_raw = file.read()\n",
    "\n",
    "    content1 = re.sub(r\"=+[\\w\\s]*?=+\", '', content_raw)\n",
    "    content2 = re.sub(character_pattern, '', content1, flags=re.IGNORECASE)\n",
    "    content2 = content2.lower()\n",
    "    tokens = tokenizer.tokenize(content2)\n",
    "    tokens = [t for t in tokens if t not in string.punctuation]\n",
    "    tokens = [t for t in tokens if t not in stopwords]\n",
    "\n",
    "    lemmas = [lemmatizer.lemmatize(t) for t in tokens]\n",
    "    \n",
    "    new_file_path = week7_contents_dir / f\"{content_path.stem}.json\"\n",
    "    with open(new_file_path, 'w') as file_w:\n",
    "        json.dump(lemmas, file_w)\n",
    "\n",
    "    "
   ]
  },
  {
   "cell_type": "markdown",
   "metadata": {},
   "source": [
    "> *Exercise 2* Frequency distribution. Now that we have preprocess the ZeldaWiki pages:\n",
    ">   * join them all together and convert them with `nltk.Text()`\n",
    ">   * use your code from Week 6, to create frequency distribution including the cumulative frequency plot for the 75 most common words. \n",
    ">   * How does your new distribution differ from the one you found in Week 6?"
   ]
  },
  {
   "cell_type": "code",
   "execution_count": 33,
   "metadata": {},
   "outputs": [],
   "source": [
    "all_tokens = []\n",
    "for json_file in week7_contents_dir.glob(\"*.json\"):\n",
    "    with open(json_file) as f:\n",
    "        token_list = json.load(f)\n",
    "    all_tokens += token_list   "
   ]
  },
  {
   "cell_type": "code",
   "execution_count": 34,
   "metadata": {},
   "outputs": [],
   "source": [
    "text = nltk.Text(tokens)"
   ]
  },
  {
   "cell_type": "code",
   "execution_count": 35,
   "metadata": {},
   "outputs": [
    {
     "data": {
      "image/png": "[encoded data removed]",
      "text/plain": [
       "<Figure size 1440x1080 with 1 Axes>"
      ]
     },
     "metadata": {
      "needs_background": "light"
     },
     "output_type": "display_data"
    },
    {
     "data": {
      "text/plain": [
       "<AxesSubplot:xlabel='Samples', ylabel='Cumulative Counts'>"
      ]
     },
     "execution_count": 35,
     "metadata": {},
     "output_type": "execute_result"
    }
   ],
   "source": [
    "from nltk import FreqDist\n",
    "import matplotlib.pyplot as plt\n",
    "plt.rcParams['figure.figsize'] = [20, 15]\n",
    "freq = FreqDist(text)\n",
    "freq.plot(75, cumulative=True)"
   ]
  },
  {
   "cell_type": "markdown",
   "metadata": {},
   "source": [
    "**Same shape, different words**"
   ]
  },
  {
   "cell_type": "markdown",
   "metadata": {},
   "source": [
    "# Words that characterize the characters\n",
    "\n",
    "In this section, we'll begin to play around with how far we can get with simple strategies for looking at text. \n",
    "\n",
    "The video is basically just me talking about a fun paper, which shows you how little is needed in order to reveal something highly interesting about humans that produce text. But it's important. Don't miss this one!"
   ]
  },
  {
   "cell_type": "markdown",
   "metadata": {},
   "source": [
    "> **Video lecture**: Simple methods reveal a lot. I talk a little bit about the paper: [Personality, Gender, and Age in the Language of Social Media: The Open-Vocabulary Approach](http://journals.plos.org/plosone/article?id=10.1371/journal.pone.0073791).  "
   ]
  },
  {
   "cell_type": "code",
   "execution_count": 16,
   "metadata": {},
   "outputs": [
    {
     "data": {
      "image/jpeg": "[encoded data removed]",
      "text/html": [
       "\n",
       "        <iframe\n",
       "            width=\"800\"\n",
       "            height=\"450\"\n",
       "            src=\"https://www.youtube.com/embed/wkYvdfkVmlI\"\n",
       "            frameborder=\"0\"\n",
       "            allowfullscreen\n",
       "        ></iframe>\n",
       "        "
      ],
      "text/plain": [
       "<IPython.lib.display.YouTubeVideo at 0x7fa961839580>"
      ]
     },
     "execution_count": 16,
     "metadata": {},
     "output_type": "execute_result"
    }
   ],
   "source": [
    "YouTubeVideo(\"wkYvdfkVmlI\",width=800, height=450)"
   ]
  },
  {
   "cell_type": "markdown",
   "metadata": {},
   "source": [
    "Now, we'll use the wordcloud visualization techniques from the paper/video to learn about the ZeldaWiki-pages we've downloaded. \n",
    "\n",
    "In the exercises below, we'll use a very simple weighting scheme called TF-IDF to find the important words for characters race."
   ]
  },
  {
   "cell_type": "markdown",
   "metadata": {},
   "source": [
    "### TF-IDF\n",
    "\n",
    "> *Exercise 3*: TF-IDF and the characters' race.\n",
    "> * Check out [the wikipedia page for TF-IDF](https://en.wikipedia.org/wiki/Tf%E2%80%93idf). Explain in your own words the point of TF-IDF. \n",
    ">   * What does TF stand for? \n",
    ">   * What does IDF stand for?"
   ]
  },
  {
   "cell_type": "markdown",
   "metadata": {},
   "source": [
    "TF - term frequency  \n",
    "IDF - inverse document frequency"
   ]
  },
  {
   "cell_type": "markdown",
   "metadata": {},
   "source": [
    "> * Since we want to find out which words are important for each *race*, we're going to create one document per race in BotW. Thus, combine the ZeldaWiki pages into one long list per race. \n",
    "> * Now, we're ready to calculate the TF for each word. Use the method of your choice to find the top 5 terms within each race. "
   ]
  },
  {
   "cell_type": "code",
   "execution_count": 120,
   "metadata": {},
   "outputs": [],
   "source": [
    "\n",
    "def prepare_counters(groupby_field: str):\n",
    "    field_to_top5words = dict()\n",
    "    field_to_counter = dict()\n",
    "    field_to_tf = dict()\n",
    "    for field, dataframe in df.groupby(groupby_field):\n",
    "        names = dataframe[\"Name\"]\n",
    "        field_counter = Counter()\n",
    "        for n in names:\n",
    "            json_file_path = week7_contents_dir / f\"{n}.json\"\n",
    "            with open(json_file_path) as f:\n",
    "                token_list = json.load(f)\n",
    "            c = Counter(token_list)\n",
    "            field_counter += c\n",
    "        top5words = sorted([(word, count) for word, count in field_counter.items()], key=lambda t: t[1])[-5:]\n",
    "        field_to_top5words[field] = top5words\n",
    "        field_to_counter[field] = field_counter\n",
    "        N = sum(v for v in field_counter.values())\n",
    "        field_to_tf[field] = {word: count/N for word, count in field_counter.items()}\n",
    "        \n",
    "        \n",
    "    return field_to_top5words, field_to_counter, field_to_tf\n",
    "race_to_top5words, race_to_counter, race_to_word_to_tf = prepare_counters(\"Race\")"
   ]
  },
  {
   "cell_type": "code",
   "execution_count": 121,
   "metadata": {},
   "outputs": [
    {
     "data": {
      "text/plain": [
       "[('Ancient Orb',\n",
       "  [('disappear', 1),\n",
       "   ('ancient', 2),\n",
       "   ('orb', 2),\n",
       "   ('access', 2),\n",
       "   ('shrine', 4)]),\n",
       " ('Bokoblin',\n",
       "  [('enemy', 19), ('attack', 20), ('may', 23), ('red', 23), ('weapon', 25)]),\n",
       " ('Chuchu',\n",
       "  [('red', 24), ('yellow', 33), ('blue', 38), ('chu', 41), ('jelly', 44)]),\n",
       " ('Dog',\n",
       "  [('chest', 2), ('retriever', 3), ('stable', 3), ('since', 3), ('beast', 4)]),\n",
       " ('Dragon',\n",
       "  [('spring', 5), ('drop', 6), ('shard', 6), ('scale', 6), ('dragon', 11)]),\n",
       " ('Gerudo',\n",
       "  [('speaks', 119),\n",
       "   ('tell', 135),\n",
       "   ('say', 147),\n",
       "   ('town', 188),\n",
       "   ('gerudo', 400)]),\n",
       " ('Goron',\n",
       "  [('brother', 39),\n",
       "   ('rudania', 40),\n",
       "   ('vah', 45),\n",
       "   ('city', 66),\n",
       "   ('goron', 130)]),\n",
       " ('Great Fairy',\n",
       "  [('fountain', 6),\n",
       "   ('upgrade', 6),\n",
       "   ('armor', 6),\n",
       "   ('fairy', 13),\n",
       "   ('great', 14)]),\n",
       " ('Guardian',\n",
       "  [('ancient', 13),\n",
       "   ('shrine', 13),\n",
       "   ('scout', 14),\n",
       "   ('laser', 24),\n",
       "   ('guardian', 32)]),\n",
       " ('Hinox',\n",
       "  [('throw', 14), ('attack', 16), ('eye', 17), ('bomb', 34), ('x', 65)])]"
      ]
     },
     "execution_count": 121,
     "metadata": {},
     "output_type": "execute_result"
    }
   ],
   "source": [
    "list(race_to_top5words.items())[:10]"
   ]
  },
  {
   "cell_type": "markdown",
   "metadata": {},
   "source": [
    ">   * Describe similarities and differences between races."
   ]
  },
  {
   "cell_type": "markdown",
   "metadata": {},
   "source": [
    "Some races share the words (i.e. attack is common accross 7 races, appear in 5)"
   ]
  },
  {
   "cell_type": "markdown",
   "metadata": {},
   "source": [
    ">   * Even though some terms might be descriptive, why are TFs not necessarily a good description of the races?"
   ]
  },
  {
   "cell_type": "markdown",
   "metadata": {},
   "source": [
    "TFs not necessarily a good description of the races, because it has no way of telling if the word is common for all races or not."
   ]
  },
  {
   "cell_type": "markdown",
   "metadata": {},
   "source": [
    "> * Next, we calculate IDF for every word. \n",
    ">   * What base logarithm did you use? Is that important?"
   ]
  },
  {
   "cell_type": "code",
   "execution_count": 122,
   "metadata": {},
   "outputs": [],
   "source": [
    "def count_word2idf(field_to_counter):\n",
    "    D = len(field_to_counter)\n",
    "    all_words = {w for counter in field_to_counter.values() for w in counter.keys()}\n",
    "    word_to_idf = {}\n",
    "\n",
    "    for word in all_words:\n",
    "        document_occurences = sum(1 for counter in race_to_counter.values() if word in counter)\n",
    "        word_to_idf[word] = np.log(D / document_occurences)\n",
    "    return word_to_idf\n",
    "word_to_idf = count_word2idf(race_to_counter)"
   ]
  },
  {
   "cell_type": "markdown",
   "metadata": {},
   "source": [
    "> * We're ready to calculate TF-IDF. Do that for each race. \n",
    ">   * List the 5 top words for each race.\n",
    ">   * Are these 5 words more descriptive of the race? If yes, what is it about IDF that makes the words more informative?\n",
    "> * Normally, TF-IDF is used for single documents. What does TF-IDF tell us about the content of a single document in a collection."
   ]
  },
  {
   "cell_type": "code",
   "execution_count": 126,
   "metadata": {},
   "outputs": [],
   "source": [
    "def compute_tfidf_per_field(field_to_word_to_tf, word_to_idf):\n",
    "    field_to_word_to_tfidf = {}\n",
    "\n",
    "    for field, word_to_tf in field_to_word_to_tf.items():\n",
    "        words_to_tfidf = {word: tf * word_to_idf.get(word) for word, tf in word_to_tf.items()}\n",
    " #           {word: tf[field].get(word, 0) * word_to_idf.get(word, 0) \n",
    "#                       for word, tf in field_to_tf.items()}\n",
    "        field_to_word_to_tfidf[field] = words_to_tfidf\n",
    "        \n",
    "    return field_to_word_to_tfidf\n",
    "race_to_word_to_tfidf = compute_tfidf_per_field(race_to_word_to_tf, word_to_idf)"
   ]
  },
  {
   "cell_type": "code",
   "execution_count": 127,
   "metadata": {},
   "outputs": [
    {
     "name": "stdout",
     "output_type": "stream",
     "text": [
      "Ancient Orb\n",
      "[('affectioe', 0.07886938440740557), ('puffer', 0.07886938440740557), ('slidew', 0.07886938440740557), ('access', 0.09115620586522874), ('orb', 0.10220599718607448)]\n",
      "\n",
      "\n",
      "Bokoblin\n",
      "[('skull', 0.010108548401588585), ('red', 0.010461169900933948), ('horn', 0.010651365679607712), ('detached', 0.011412177513865406), ('boko', 0.02510679053050389)]\n",
      "\n",
      "\n",
      "Chuchu\n",
      "[('blob', 0.016628843925349794), ('yellow', 0.020252798033657052), ('chus', 0.028269034673094648), ('chu', 0.06817826009393416), ('jelly', 0.0731669132715391)]\n",
      "\n",
      "\n",
      "Dog\n",
      "[('wetland', 0.041779927688229836), ('puppy', 0.0457755120278379), ('barking', 0.0457755120278379), ('recoiled', 0.0457755120278379), ('retriever', 0.0915510240556758)]\n",
      "\n",
      "\n",
      "Dragon\n",
      "[('claw', 0.030861933028984784), ('rong', 0.04114924403864638), ('scale', 0.04528559300121198), ('dragon', 0.05869246595430504), ('shard', 0.06172386605796957)]\n",
      "\n",
      "\n",
      "Gerudo\n",
      "[('say', 0.012508046451366996), ('speaks', 0.01371657761722872), ('seal', 0.014701857645073538), ('gerudo', 0.015368714417062992), ('town', 0.01599668525753058)]\n",
      "\n",
      "\n",
      "Goron\n",
      "[('vah', 0.012597612679104498), ('rudania', 0.01901238955547045), ('brother', 0.020989897883453526), ('city', 0.027978891822783004), ('goron', 0.055109938438815)]\n",
      "\n",
      "\n",
      "Great Fairy\n",
      "[('upgrade', 0.020768103337677167), ('offering', 0.022535636690627893), ('bud', 0.02535259127695638), ('fairy', 0.02703100720721096), ('fountain', 0.03380345503594184)]\n",
      "\n",
      "\n",
      "Guardian\n",
      "[('stasis', 0.021203614739070877), ('rapid', 0.03180542210860631), ('scout', 0.037106325793374036), ('guardian', 0.04695373990154859), ('laser', 0.06361084421721262)]\n",
      "\n",
      "\n",
      "Hinox\n",
      "[('bomb', 0.010531561249562713), ('eye', 0.010531561249562713), ('taran', 0.01762479607488946), ('kin', 0.01762479607488946), ('x', 0.0948206744213052)]\n",
      "\n",
      "\n",
      "Horse\n",
      "[('ingo', 0.025492660842022435), ('lon', 0.028759002049109212), ('harry', 0.037386702663841975), ('mary', 0.037386702663841975), ('horse', 0.042858757936038966)]\n",
      "\n",
      "\n",
      "Human\n",
      "[('discount', 0.021373779935177233), ('bug', 0.027005859252341204), ('beetle', 0.03219721473864812), ('ship', 0.037133056471969156), ('membership', 0.042747559870354467)]\n",
      "\n",
      "\n",
      "Hylian\n",
      "[('character', 0.0061078398530477656), ('triforce', 0.006485176199953992), ('hateno', 0.006926259219025381), ('stable', 0.010949399012595139), ('horse', 0.015292192068575383)]\n",
      "\n",
      "\n",
      "Keese\n",
      "[('flight', 0.013123727265137967), ('flame', 0.014875318029537992), ('mist', 0.017360909519362203), ('inhabit', 0.019541741655019183), ('bat', 0.02748810673899016)]\n",
      "\n",
      "\n",
      "Korok\n",
      "[('seed', 0.020486942446025357), ('maraca', 0.026889111960408277), ('stash', 0.026889111960408277), ('forest', 0.03558276709673962), ('korok', 0.09466221378312216)]\n",
      "\n",
      "\n",
      "Lizalfos\n",
      "[('breathe', 0.009883631716877407), ('variety', 0.010058245802635781), ('enemy', 0.011126388502549552), ('talon', 0.013178175622503209), ('tail', 0.015231163511658473)]\n",
      "\n",
      "\n",
      "Lynel\n",
      "[('stare', 0.013790112410059953), ('hoof', 0.013790112410059953), ('crusher', 0.013790112410059955), ('mighty', 0.019404172059908492), ('savage', 0.032176928956806565)]\n",
      "\n",
      "\n",
      "Moblin\n",
      "[('forsaken', 0.009138783149942684), ('maggie', 0.009791553374938589), ('bulldog', 0.015666485399901744), ('spear', 0.017073161605817396), ('pig', 0.01855750221350719)]\n",
      "\n",
      "\n",
      "Molduga\n",
      "[('slay', 0.01253828218267828), ('rusty', 0.019350852679883894), ('prey', 0.02129601306562571), ('molgera', 0.024504363316017314), ('sand', 0.04473092629817915)]\n",
      "\n",
      "\n",
      "Octorok\n",
      "[('octoroks', 0.018996177902042242), ('rock', 0.022116192621611873), ('water', 0.02316934465121244), ('[[|}}', 0.0237452223775528), ('octorok', 0.04274140027959505)]\n",
      "\n",
      "\n",
      "Rito\n",
      "[('warbler', 0.015774586148712487), ('nest', 0.015774586148712487), ('village', 0.021032781531616654), ('medoh', 0.021325458733553078), ('rito', 0.043047835445315354)]\n",
      "\n",
      "\n",
      "Sand Seal\n",
      "[('wildberries', 0.04819795713785895), ('sand', 0.055706570250973114), ('translated', 0.0610340160371172), ('disabling', 0.0610340160371172), ('seal', 0.06245922050260107)]\n",
      "\n",
      "\n",
      "Sheikah\n",
      "[('fulfilled', 0.015972900432387922), ('ostracism', 0.01739905225670827), ('shrine', 0.029479406455276563), ('sheikah', 0.03609929515683651), ('monk', 0.0570136014007037)]\n",
      "\n",
      "\n",
      "Talus\n",
      "[('luminous', 0.015942377127977688), ('titan', 0.018772530095401432), ('deposit', 0.024458900675356804), ('ore', 0.024799253310187515), ('talus', 0.041044271477323306)]\n",
      "\n",
      "\n",
      "Unknown\n",
      "[('monk', 0.012272124067380711), ('designed', 0.012272124067380711), ('eponymous', 0.01553307863155425), ('deku', 0.018408186101071065), ('tree', 0.019332614354450824)]\n",
      "\n",
      "\n",
      "Wizzrobe\n",
      "[('evaporate', 0.023926220442862644), ('vanishing', 0.028341448480338115), ('wizzrobes', 0.035889330664293964), ('rod', 0.03821612260411586), ('invisible', 0.04187088577500963)]\n",
      "\n",
      "\n",
      "Zora\n",
      "[('vah', 0.015018636870175846), ('ley', 0.02012578487528087), ('ruta', 0.027951363871329758), ('domain', 0.037202485556050414), ('zora', 0.0750273451283062)]\n",
      "\n",
      "\n"
     ]
    }
   ],
   "source": [
    "for race, word_to_tfidf in race_to_word_to_tfidf.items():\n",
    "    tfidf_top5 = sorted([(word, tfidf) for word, tfidf in word_to_tfidf.items()], key=lambda t: t[1])[-5:]\n",
    "    print(race)\n",
    "    print(tfidf_top5)\n",
    "    print(\"\\n\")"
   ]
  },
  {
   "cell_type": "markdown",
   "metadata": {},
   "source": [
    "### WordClouds\n",
    "\n",
    "Setup. First you must set up your system. The most difficult thing about creating the wordcloud is installing the `WordCloud` module. It's available on GitHub, check out the page [**here**](https://github.com/amueller/word_cloud). \n",
    "\n",
    "If you're lucky, you can simply install using conda (and all dependencies, etc will be automatically fixed): \n",
    "\n",
    "    conda install -c conda-forge wordcloud\n",
    " \n",
    "If you can't get that to work you can refer here https://anaconda.org/conda-forge/wordcloud. \n",
    "Also, maybe the comments below are helpful: \n",
    " * The module depends on the Python library PIL. Use `conda` to install that before you do anything else.\n",
    " * On my system, the module needed the `gcc` compiler installed. If you're not already a programmer, you may have to install that. On Mac you get it by installing the [_command line tools_](http://osxdaily.com/2014/02/12/install-command-line-tools-mac-os-x/). On linux, it's probably already installed. And on Windows I'm not sure, but we'll figure it out during the exercises. \n",
    " * Once that's all set up, you can use `pip` to install the `WordCloud` library, as [detailed on the GitHub page](https://github.com/amueller/word_cloud). But don't forget to use Anaconda's `pip`. \n",
    " * There are examples of how to use the module online, see [here](http://sebastianraschka.com/Articles/2014_twitter_wordcloud.html) and [here](https://bioinfoexpert.com/2015/05/26/generating-word-clouds-in-python/). If you're interested, you can read about how the package was put together [here](http://peekaboo-vision.blogspot.dk/2012/11/a-wordcloud-in-python.html). \n",
    "\n",
    "> *Exercise 4* Plot the wordclouds\n",
    "> * Get your lists ready for the word-cloud software\n",
    ">    - The package needs a single string to work on. The way that I converted my lists to a string was to simply combine all words together in one long string (separated by spaces), repeating each word according to its TC-IDF, which is the Term Count (TF not normalized by len of document) and IDF you previously computed (rounded up to the nearest integer value). \n",
    ">    - The `wordcloud` package looks for collocations in real texts, which is a problem when you make the list as above. The recommended fix is to simply set `collocations = False` as an option when you run the package.\n",
    "> * Now, create a word-cloud for each race. Feel free to make it as fancy or non-fancy as you like. Comment on the results. \n",
    ">\n",
    "> Here, below you can find the wordclouds I have obtained for the races \"Great Fairy\" and \"Dragon\".\n",
    "\n",
    "![Text](https://github.com/SocialComplexityLab/socialgraphs2021/blob/main/files/WrdCld-example.png?raw=True)"
   ]
  },
  {
   "cell_type": "markdown",
   "metadata": {},
   "source": [
    "> *Exercise 5* \n",
    ">\n",
    "> Now that you have code both for computing tf-idf and plotting wordclouds, you can try it out with the other metadata we have, i.e. role and gender.\n",
    ">    * According to TF-IFD: what are the 5 top words for each role? and for each gender?\n",
    ">    * Plot their wordclouds!\n",
    ">"
   ]
  },
  {
   "cell_type": "code",
   "execution_count": 129,
   "metadata": {},
   "outputs": [
    {
     "name": "stdout",
     "output_type": "stream",
     "text": [
      "Ally\n",
      "[('constructed', 0.00041720460380602944), ('timeline', 0.0004521682339264988), ('voe', 0.00046955931984674873), ('fulfilled', 0.0009739008115339974), ('ostracism', 0.0010608562411352472)]\n",
      "\n",
      "\n",
      "Boss\n",
      "[('sooga', 0.0010291450010942481), ('taran', 0.001801003751914934), ('kin', 0.001801003751914934), ('kohga', 0.001801003751914934), ('talus', 0.001804177296031645)]\n",
      "\n",
      "\n",
      "Enemy\n",
      "[('blob', 0.0009822193014466785), ('boko', 0.0010804412315913463), ('chus', 0.0016697728124593532), ('chu', 0.004027099135931382), ('jelly', 0.004321764926365385)]\n",
      "\n",
      "\n"
     ]
    }
   ],
   "source": [
    "_, _, role_to_counter = prepare_counters(\"Role\")\n",
    "word_to_idf = count_word2idf(role_to_counter)\n",
    "role_to_tfidf = compute_tfidf_per_field(role_to_counter, word_to_idf)\n",
    "\n",
    "for field, tfidf in role_to_tfidf.items():\n",
    "    tfidf_top5 = sorted([(word, tfidf_value) for word, tfidf_value in tfidf.items()], key=lambda t: t[1])[-5:]\n",
    "    print(field)\n",
    "    print(tfidf_top5)\n",
    "    print(\"\\n\")\n"
   ]
  },
  {
   "cell_type": "code",
   "execution_count": 130,
   "metadata": {},
   "outputs": [
    {
     "name": "stdout",
     "output_type": "stream",
     "text": [
      "Female\n",
      "[('nest', 0.0005806005119269157), ('ley', 0.0007741340159025542), ('barrack', 0.0008902541182879373), ('timeline', 0.0010063742206733203), ('voe', 0.001045080921468448)]\n",
      "\n",
      "\n",
      "Male\n",
      "[('entered', 0.0007136241151022281), ('bearing', 0.0007136241151022281), ('constructed', 0.0007481543142200779), ('fulfilled', 0.0017152660140445123), ('ostracism', 0.0019023859428493682)]\n",
      "\n",
      "\n",
      "Unknown\n",
      "[('blob', 0.0007316277894699719), ('boko', 0.0008047905684169691), ('chus', 0.0012437672420989522), ('chu', 0.0029996739368268847), ('jelly', 0.0032191622736678764)]\n",
      "\n",
      "\n"
     ]
    }
   ],
   "source": [
    "_,  _, gender_to_counter = prepare_counters(\"Gender\")\n",
    "word_to_idf = count_word2idf(gender_to_counter)\n",
    "gender_to_tfidf = compute_tfidf_per_field(gender_to_counter, word_to_idf)\n",
    "\n",
    "for field, tfidf in gender_to_tfidf.items():\n",
    "    tfidf_top5 = sorted([(word, tfidf_value) for word, tfidf_value in tfidf.items()], key=lambda t: t[1])[-5:]\n",
    "    print(field)\n",
    "    print(tfidf_top5)\n",
    "    print(\"\\n\")"
   ]
  },
  {
   "cell_type": "markdown",
   "metadata": {},
   "source": [
    "> **Note** When computing IDF for gender (that in our case is binary \"Male\", \"Female\"), if you use\n",
    ">\n",
    "> $$\\log \\left( \\frac{N}{n_t+1} \\right),$$\n",
    ">\n",
    "> $N = 2$ is the number of documents, and $n_t \\in \\{1,2\\}$ is the number of documents containing the term $t$. This definition creates an issue as $IDF = 0$ when $n_t=1$, thus making TF-IDF behaving weirdly when having just two documents. As the $+1$ in the formula is added to avoid division by zero (when a word is not present in any of the documents), we can remove it and use \n",
    ">\n",
    "> $$\\log \\left( \\frac{N}{n_t} \\right),$$\n",
    "> \n",
    "> instead. This is possible if we compute TF-IDF only on the set of words in our documents."
   ]
  },
  {
   "cell_type": "code",
   "execution_count": 105,
   "metadata": {},
   "outputs": [],
   "source": [
    "# TODO: word clouds"
   ]
  },
  {
   "cell_type": "markdown",
   "metadata": {},
   "source": [
    "# Community detection\n"
   ]
  },
  {
   "cell_type": "markdown",
   "metadata": {},
   "source": [
    "Now that we have worked hard on text analysis, it is time to go back to our network! \n",
    "\n",
    "Before we begin, let's watch a great lecture to learn about communities. If you want all the details, I recommend you take a look at _Chapter 9_ in the _Network Science_ book ... but the video lecture below should be enough to get you started. \n",
    "\n",
    "**Note**: For this and the next exercise, work on the _undirected_ version of the network.\n",
    "\n",
    "> **_Video Lecture_**: Communities in networks. \n",
    "\n",
    "You can watch the 2015 video [here](https://youtu.be/06GL_KGHdbE/)."
   ]
  },
  {
   "cell_type": "code",
   "execution_count": 75,
   "metadata": {},
   "outputs": [
    {
     "data": {
      "image/jpeg": "[encoded data removed]",
      "text/html": [
       "\n",
       "        <iframe\n",
       "            width=\"800\"\n",
       "            height=\"450\"\n",
       "            src=\"https://www.youtube.com/embed/FSRoqXw28RI\"\n",
       "            frameborder=\"0\"\n",
       "            allowfullscreen\n",
       "        ></iframe>\n",
       "        "
      ],
      "text/plain": [
       "<IPython.lib.display.YouTubeVideo at 0x7fa9586c2820>"
      ]
     },
     "execution_count": 75,
     "metadata": {},
     "output_type": "execute_result"
    }
   ],
   "source": [
    "YouTubeVideo(\"FSRoqXw28RI\",width=800, height=450)"
   ]
  },
  {
   "cell_type": "markdown",
   "metadata": {},
   "source": [
    "*Exercise 6*: Use the concept of modularity to explore how _community-like_ the races are.\n",
    "> \n",
    "> * Explain the concept of modularity in your own words."
   ]
  },
  {
   "cell_type": "markdown",
   "metadata": {},
   "source": [
    "TODO"
   ]
  },
  {
   "cell_type": "markdown",
   "metadata": {},
   "source": [
    "> * Consider the undirected version of the network (we consider the GCC as in the previous weeks)."
   ]
  },
  {
   "cell_type": "code",
   "execution_count": 152,
   "metadata": {},
   "outputs": [],
   "source": [
    "df = pd.read_csv(\"heroes_with_attributes.csv\")\n",
    "df[\"links\"] = df[\"links\"].apply(lambda r: ast.literal_eval(r))\n",
    "\n",
    "G = nx.DiGraph()\n",
    "content_dir = Path(\"json_contents\")\n",
    "\n",
    "for index, row in df.iterrows():\n",
    "    name = row[\"name\"]\n",
    "    gender = row[\"gender\"]\n",
    "    race = row[\"race\"]\n",
    "    typ = row[\"type\"]\n",
    "    with open(content_dir / f\"{name}.txt\") as f:\n",
    "        content = f.read()\n",
    "        word_count = len(re.findall(r\"\\b[\\w']*?\\b\", content))\n",
    "        \n",
    "    G.add_nodes_from([(name, {\"race\": race, \"type\": typ, \"gender\": gender, \"word_count\": word_count})])\n",
    "    \n",
    "for index, row in df.iterrows():\n",
    "    name = row[\"name\"]\n",
    "    links = row[\"links\"]\n",
    "    x = [(name, l) for l in links if name != l]\n",
    "    G.add_edges_from(x)\n",
    "\n",
    "x=[node for node, degree in G.degree if degree == 0]\n",
    "G.remove_nodes_from(x)\n",
    "largest_cc = max(nx.weakly_connected_components(G), key=len)\n",
    "G = G.subgraph(largest_cc).to_undirected()"
   ]
  },
  {
   "cell_type": "markdown",
   "metadata": {},
   "source": [
    "> * Create your own partition into communities, by dividing each character according to their race. \n",
    "> * **Calculate the modularity of this partition**. Modularity is described in the _Network Science_ book, section 9.4. Use **equation 9.12** in the book to calculate the modularity _M_ of the partitions described above. Are the races good communities? What about role and gender?\n",
    "> * Would you expect this result in light of the overall analysis we have done in the previous weeks?"
   ]
  },
  {
   "cell_type": "code",
   "execution_count": null,
   "metadata": {},
   "outputs": [],
   "source": [
    "def compute_modularity(G, partitions):\n",
    "    "
   ]
  },
  {
   "cell_type": "code",
   "execution_count": 174,
   "metadata": {},
   "outputs": [],
   "source": [
    "def modularity_per_field(field, use_nx=True):\n",
    "    field_to_partition = {race: race_df[\"name\"].tolist() for race, race_df in df.groupby(field)}\n",
    "    partitions = [set(v) for k, v in field_to_partition.items()]\n",
    "    partitions = [{p for p in partition if p in G.nodes()} for partition in partitions]\n",
    "    partitions = [partition for partition in partitions if len(partition) > 0]\n",
    "    if use_nx:\n",
    "        return nx.algorithms.community.quality.modularity(G, partitions)\n",
    "    else:\n",
    "        "
   ]
  },
  {
   "cell_type": "code",
   "execution_count": 175,
   "metadata": {},
   "outputs": [
    {
     "data": {
      "text/plain": [
       "0.11447147648781596"
      ]
     },
     "execution_count": 175,
     "metadata": {},
     "output_type": "execute_result"
    }
   ],
   "source": [
    "modularity_per_field(\"race\")"
   ]
  },
  {
   "cell_type": "code",
   "execution_count": 176,
   "metadata": {},
   "outputs": [
    {
     "data": {
      "text/plain": [
       "0.11509955021645737"
      ]
     },
     "execution_count": 176,
     "metadata": {},
     "output_type": "execute_result"
    }
   ],
   "source": [
    "modularity_per_field(\"gender\")"
   ]
  },
  {
   "cell_type": "code",
   "execution_count": 180,
   "metadata": {},
   "outputs": [
    {
     "data": {
      "text/plain": [
       "0.22194688002783897"
      ]
     },
     "execution_count": 180,
     "metadata": {},
     "output_type": "execute_result"
    }
   ],
   "source": [
    "modularity_per_field(\"type\")"
   ]
  },
  {
   "cell_type": "markdown",
   "metadata": {},
   "source": [
    "The highest modularity score yields for the role of a character"
   ]
  },
  {
   "cell_type": "code",
   "execution_count": null,
   "metadata": {},
   "outputs": [],
   "source": []
  },
  {
   "cell_type": "code",
   "execution_count": null,
   "metadata": {},
   "outputs": [],
   "source": []
  },
  {
   "cell_type": "code",
   "execution_count": 163,
   "metadata": {},
   "outputs": [],
   "source": [
    "for p1 in partitions:\n",
    "    for p2 in partitions:\n",
    "        if p1 != p2 and len(p1 & p2) > 0:\n",
    "            print(p1, p2)"
   ]
  },
  {
   "cell_type": "markdown",
   "metadata": {},
   "source": [
    "*Exercise 7*: Community detection.\n",
    "> * Consider the BotW network (GCC as previously)\n",
    "> * Use [the Python Louvain-algorithm implementation](http://perso.crans.org/aynaud/communities/) to find communities in the BotW network. Report the value of modularity found by the algorithm. Is it higher or lower than what you found above for races as communities? What does this comparison reveal about them?\n",
    "    >   * **Note**: This implementation is also available as Anaconda package. Install with `conda` as expained [here](https://anaconda.org/auto/python-louvain). \n",
    "    >   * You can also try the *Infomap* algorithm instead if you're curious. Go to [this page](http://www.mapequation.org/code.html) and search for 'python'. It's harder to install, but a better community detection algorithm.\n",
    ">\n",
    "> * Visualize the network, using the Force Atlas algorithm (see Lecture 5, exercise 3). This time assign each node a different color based on their _community_. Describe the structure you observe.\n",
    "> * Compare the communities found by your algorithm with the races:\n",
    ">     * create a matrix $\\mathbf{D}$ with dimension ($R \\times C$), where $R$ is the number of races and $C$ is the number of communities. \n",
    ">     * set the entry $\\mathbf{D}_{i,j}$ to be the number of nodes that race $i$ has in common with community $j$. \n",
    ">        - The matrix $\\mathbf{D}$ is what we call a [**confusion matrix**](https://en.wikipedia.org/wiki/Confusion_matrix). \n",
    ">     * Use the confusion matrix to explain further the modularity values found in Ex. 6 and the one of communities. How well the communities you've detected correspond to the labeled races of characters in BotW? (You can repeat the steps for gender and role).\n",
    "> \n",
    "> *Optional* You might find communities that are much bigger than others. This is due to the cut that is done by the Louvain algorithm on the dendogram, resulting in some smaller communities to be merged together. What you can do to further detect these smaller communities is to re-apply the Louvain method on the bigger communities you found as follows:\n",
    ">    * Create a subgraph (`G.subgraph(NODE_LIST)`) containing the nodes of a big community you want to split\n",
    ">    * Re-run the Louvain algorithm to detect the communities in the subgraph\n",
    ">    * Iterate over all communities you want to split."
   ]
  },
  {
   "cell_type": "markdown",
   "metadata": {},
   "source": [
    "**To be continued ...**. Next week, we'll put everything together by analysing the communities, their text, and by looking at their sentiment!"
   ]
  }
 ],
 "metadata": {
  "anaconda-cloud": {},
  "kernelspec": {
   "display_name": "Python 3 (ipykernel)",
   "language": "python",
   "name": "python3"
  },
  "language_info": {
   "codemirror_mode": {
    "name": "ipython",
    "version": 3
   },
   "file_extension": ".py",
   "mimetype": "text/x-python",
   "name": "python",
   "nbconvert_exporter": "python",
   "pygments_lexer": "ipython3",
   "version": "3.8.10"
  }
 },
 "nbformat": 4,
 "nbformat_minor": 4
}
