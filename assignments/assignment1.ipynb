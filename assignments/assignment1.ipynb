{
 "cells": [
  {
   "cell_type": "markdown",
   "id": "5bd678e4-72b1-4a2a-8e54-20c5d6af2a4f",
   "metadata": {},
   "source": [
    "# Part 1: Binning degree distributions\n",
    "\n",
    "\n",
    "## Binning real numbers\n"
   ]
  },
  {
   "cell_type": "code",
   "execution_count": 1,
   "id": "55357292-f231-47e6-95b3-2be9df60e886",
   "metadata": {},
   "outputs": [],
   "source": [
    "import random\n",
    "import numpy as np\n",
    "import matplotlib.pyplot as plt\n",
    "import networkx as nx"
   ]
  },
  {
   "cell_type": "markdown",
   "id": "c63a2b31-c94e-4914-82bb-4fc5d22db35a",
   "metadata": {},
   "source": [
    "**Let's do a gentle start and use the `random` library to generate 5000 data points from a Gaussian distribution with $\\mu = 2$ and $\\sigma = 0.125$.**"
   ]
  },
  {
   "cell_type": "code",
   "execution_count": 2,
   "id": "2e7ee2fd-33c2-49c4-862f-1281ccf4e2ac",
   "metadata": {},
   "outputs": [
    {
     "data": {
      "text/plain": [
       "(1.996, 0.125)"
      ]
     },
     "execution_count": 2,
     "metadata": {},
     "output_type": "execute_result"
    }
   ],
   "source": [
    "X = [random.gauss(2, 0.125) for _ in range(5000)]\n",
    "round(np.mean(X), 3), round(np.std(X), 3)"
   ]
  },
  {
   "cell_type": "markdown",
   "id": "474cb263-dca3-43ff-99ad-354fab83e855",
   "metadata": {},
   "source": [
    "**Now, let's use `numpy.histogram` to bin those number into 10 bins.**"
   ]
  },
  {
   "cell_type": "code",
   "execution_count": 3,
   "id": "36e982d3-56ce-499c-9479-a04552680fc3",
   "metadata": {},
   "outputs": [
    {
     "data": {
      "text/plain": [
       "(array([   3,   34,  187,  677, 1287, 1398,  947,  400,   56,   11]),\n",
       " array([1.50327249, 1.5975386 , 1.69180472, 1.78607083, 1.88033694,\n",
       "        1.97460305, 2.06886917, 2.16313528, 2.25740139, 2.3516675 ,\n",
       "        2.44593362]))"
      ]
     },
     "execution_count": 3,
     "metadata": {},
     "output_type": "execute_result"
    }
   ],
   "source": [
    "hist, bin_edges = np.histogram(X, bins=10)\n",
    "hist, bin_edges"
   ]
  },
  {
   "cell_type": "code",
   "execution_count": 4,
   "id": "28366053-febd-4587-bb12-4afdda1c4d3c",
   "metadata": {},
   "outputs": [
    {
     "data": {
      "text/plain": [
       "(10, 11)"
      ]
     },
     "execution_count": 4,
     "metadata": {},
     "output_type": "execute_result"
    }
   ],
   "source": [
    "len(hist), len(bin_edges)"
   ]
  },
  {
   "cell_type": "markdown",
   "id": "491588cc-4756-45b8-a436-76c88e6f8d59",
   "metadata": {},
   "source": [
    "**What does the `numpy.histogram` function return?**    \n",
    "`numpy.histogram` returns two arrays: first represents the count of elements in each bin, while the second array represents the edges of each bin. \n",
    "\n",
    "**Do the two arrays have the same length?**  \n",
    "Because there are 10 bins and each has to be constrained from two sides, hence we end up with 11 edges. Two arrays do not have the same length.\n"
   ]
  },
  {
   "cell_type": "markdown",
   "id": "2d2380ef-ca9d-4ce6-b719-64af867cc027",
   "metadata": {},
   "source": [
    "**Then we use `matplotlib.pyplot.plot` to plot the binned data. You will have to deal with the fact that the counts- and bin-arrays have different lengths.**  "
   ]
  },
  {
   "cell_type": "code",
   "execution_count": 9,
   "id": "4502c445-3ffc-4cee-b32a-3b973f5f26b4",
   "metadata": {},
   "outputs": [
    {
     "data": {
      "text/plain": [
       "[<matplotlib.lines.Line2D at 0x7f4ad169f9d0>]"
      ]
     },
     "execution_count": 18,
     "metadata": {},
     "output_type": "execute_result"
    },
    {
     "data": {
      "image/png": "[encoded data removed]",
      "text/plain": [
       "<Figure size 432x288 with 1 Axes>"
      ]
     },
     "metadata": {
      "needs_background": "light"
     },
     "output_type": "display_data"
    }
   ],
   "source": [
    "# Because you ask us directly to use the `plt.plot` function we also include its output. \n",
    "# However this is not a way one would show a histogram data.\n",
    "\n",
    "plt.plot(bin_means, hist)"
   ]
  },
  {
   "cell_type": "markdown",
   "id": "4e70e43c-9ee6-4aee-bd1e-2f0b8c26e56d",
   "metadata": {},
   "source": [
    "**Explain how you deal with this problem and why.**  \n",
    "The 'problem' of different lengths of these arrays is solved by creating a list of means of each consecutive pair of bin edges and setting the width of each plotted bar.\n",
    "\n",
    "It gives a correct result, because histogram works by grouping the samples to bins, each of the same width. The 'plt.bar' function draws each bar (histograms bin) centered at the middle of the bins edges.\n",
    "\n",
    "The width of a bar/bin is equal for each bar/bin and be computed as an absolute difference of any of two neighbouring bin edges."
   ]
  },
  {
   "cell_type": "markdown",
   "id": "ef894aab-75b2-47c4-85a6-5cec234062d2",
   "metadata": {},
   "source": [
    "## Binning integers "
   ]
  },
  {
   "cell_type": "markdown",
   "id": "5a3084fd-7bd9-41a2-ba88-f9a1c3b4e6fa",
   "metadata": {},
   "source": [
    "**binning real numbers into a fixed number of bins is easy when `numpy.histogram` does all the work and finds the right bin boundaries for you. Now we'll generate a bunch of integers and set the bin boundaries manually. This time, let's grab data from a Poisson distribution. As it turns out `numpy` also has some convenient random number generators.** "
   ]
  },
  {
   "cell_type": "markdown",
   "id": "23904c0a-9571-42f4-9b82-4bea85c526e7",
   "metadata": {},
   "source": [
    "**Use `numpy.random.poisson` to generate 5000 numbers drawn from a Poisson distribution characterized by $\\lambda = 10$.**"
   ]
  },
  {
   "cell_type": "code",
   "execution_count": 10,
   "id": "023d8eef-fd55-4b82-9602-8044573064a6",
   "metadata": {},
   "outputs": [],
   "source": [
    "lam = 10\n",
    "N = 5000\n",
    "poisson_sample = np.random.poisson(lam=lam, size=N)"
   ]
  },
  {
   "cell_type": "markdown",
   "id": "4382d3d9-b431-482d-9253-f12632874f56",
   "metadata": {},
   "source": [
    "**Find the maximum and minimum value of your 5000 random numbers.**"
   ]
  },
  {
   "cell_type": "code",
   "execution_count": 11,
   "id": "4eb29a79-e46f-4a82-8538-349e3069ba61",
   "metadata": {},
   "outputs": [
    {
     "data": {
      "text/plain": [
       "(27, 1)"
      ]
     },
     "execution_count": 11,
     "metadata": {},
     "output_type": "execute_result"
    }
   ],
   "source": [
    "max_value = np.max(poisson_sample)\n",
    "min_value = np.min(poisson_sample)\n",
    "\n",
    "max_value, min_value"
   ]
  },
  {
   "cell_type": "markdown",
   "id": "e247497e-1a43-45d8-a259-b7a7632396ad",
   "metadata": {},
   "source": [
    "**Instead of simply specifying the number of bins for `numpy.histogram`, let's specify the bins we want using a vector. Create a vector $v$ that results in a binning that puts each integer value in its own bin and where the first bin contains the minimum number you found above, and the last bin contains the maximum number (you may want to think about how `numpy.histogram` deals with the smallest an largest value in particular; is it correct to set the first entry of $v$ to be equal to the smallest value you observe and the last entry of $v$ to be the highest value observed?). Use the vector by setting `numpy.histogram`'s `bin` parameter as `bin = ` $v$.**"
   ]
  },
  {
   "cell_type": "code",
   "execution_count": 20,
   "id": "39ce94a1-0c35-412c-8ab4-f14cd867d3fd",
   "metadata": {},
   "outputs": [
    {
     "data": {
      "text/plain": [
       "array([ 1,  2,  3,  4,  5,  6,  7,  8,  9, 10, 11, 12, 13, 14, 15, 16, 17,\n",
       "       18, 19, 20, 21, 22, 23, 24, 25, 26, 27])"
      ]
     },
     "execution_count": 20,
     "metadata": {},
     "output_type": "execute_result"
    }
   ],
   "source": [
    "v = np.arange(min_value, max_value+1)\n",
    "v"
   ]
  },
  {
   "cell_type": "code",
   "execution_count": 21,
   "id": "3d1c3ece-a466-41a6-bbf9-68725738f32f",
   "metadata": {},
   "outputs": [
    {
     "data": {
      "text/plain": [
       "array([  2,  12,  35,  87, 195, 316, 449, 556, 640, 639, 574, 500, 335,\n",
       "       268, 141, 114,  64,  36,  23,   7,   4,   0,   2,   0,   0,   1])"
      ]
     },
     "execution_count": 21,
     "metadata": {},
     "output_type": "execute_result"
    }
   ],
   "source": [
    "hist_poiss, bin_edges_poiss = np.histogram(poisson_sample, bins=v)\n",
    "hist_poiss"
   ]
  },
  {
   "cell_type": "markdown",
   "id": "929e32e4-7f26-4a8a-aa97-329c97bfe082",
   "metadata": {},
   "source": [
    "*It can be shown that the value of each bin is trully the count of this number in Poisson sample by using the `collections.Counter` class and comparing its output to  `hist_poiss` variable value.*"
   ]
  },
  {
   "cell_type": "code",
   "execution_count": 22,
   "id": "9a39243f-39db-4dd5-b9cf-5cf75c752ab8",
   "metadata": {},
   "outputs": [
    {
     "data": {
      "text/plain": [
       "'[(1, 2), (2, 12), (3, 35), (4, 87), (5, 195), (6, 316), (7, 449), (8, 556), (9, 640), (10, 639), (11, 574), (12, 500), (13, 335), (14, 268), (15, 141), (16, 114), (17, 64), (18, 36), (19, 23), (20, 7), (21, 4), (23, 2), (27, 1)]'"
      ]
     },
     "execution_count": 22,
     "metadata": {},
     "output_type": "execute_result"
    }
   ],
   "source": [
    "from collections import Counter\n",
    "counter = Counter(poisson_sample)\n",
    "str(sorted([(k, v) for k, v in counter.items()], key=lambda _tuple: _tuple[0]))"
   ]
  },
  {
   "cell_type": "markdown",
   "id": "15894724-7900-45ea-93cf-3e095c95645b",
   "metadata": {},
   "source": [
    "**Is it correct to set the first entry of  𝑣  to be equal to the smallest value you observe and the last entry of  𝑣  to be the highest value observed?**  \n",
    "\n",
    "Yes, it is correct because  \"All but the last (righthand-most) bin is half-open.\" as the the [documentation](https://numpy.org/doc/stable/reference/generated/numpy.histogram.html) states."
   ]
  },
  {
   "cell_type": "markdown",
   "id": "10bf6be4-f33a-4b86-aa97-a533609ba700",
   "metadata": {},
   "source": [
    "**Now, use a bar chart (`matplotlib.pyplot.bar`) to plot the distribution**"
   ]
  },
  {
   "cell_type": "code",
   "execution_count": 23,
   "id": "1e3ebc9e-9093-443d-aa15-b5dffa9eb3bf",
   "metadata": {},
   "outputs": [
    {
     "data": {
      "image/png": "[encoded data removed]",
      "text/plain": [
       "<Figure size 432x288 with 1 Axes>"
      ]
     },
     "metadata": {
      "needs_background": "light"
     },
     "output_type": "display_data"
    }
   ],
   "source": [
    "bin_means_poiss = [0.5 * (bin_edges_poiss[i] + bin_edges_poiss[i+1]) for i in range(len(bin_edges_poiss)-1)]\n",
    "plt.bar(bin_means_poiss, hist_poiss, width=bin_edges_poiss[1] - bin_edges_poiss[0])\n",
    "plt.show()"
   ]
  },
  {
   "cell_type": "markdown",
   "id": "c47aff5d-c239-4b0b-861d-9982388c3c8d",
   "metadata": {},
   "source": [
    "## Binning and plotting degree distributions\n",
    "\n",
    "  **Let's generate the Erdös-Renyi (ER) network which has a degree distribution that matches the Poisson distribution above. \n",
    "First we have to figure out which values the ER parameters (_N_ and _p_) should assume. It's easy to see that $N = 5000$, but how do you find $p$?**  \n",
    "**Hint**: The parameter $\\lambda$ in the Poisson distribution corresponds to the average degree, so you have to find a $p$ that results in an average degree, $k = 10$. And you know that $\\langle k \\rangle = p (N-1)$, which will give you $p$.\n"
   ]
  },
  {
   "cell_type": "code",
   "execution_count": null,
   "id": "f5a8a3e4-81c9-43bb-b4f1-b7a57c15ec8a",
   "metadata": {},
   "outputs": [],
   "source": [
    "avg_k = lam\n",
    "p = avg_k / (N - 1)"
   ]
  },
  {
   "cell_type": "markdown",
   "id": "d33428ff-8512-44ed-8b07-720075410449",
   "metadata": {},
   "source": [
    "*As it is given in the hint, we have: $$p = \\frac{\\langle k \\rangle}{N-1}$$*  \n",
    "*The formula for the average node degree follows from two facts: each connection is sampled with probability $p$ and each node can connect to all other nodes, but not itself, hence $N-1$*\n"
   ]
  },
  {
   "cell_type": "markdown",
   "id": "af928d34-1a38-4b97-a3c5-6dcf8de10ca4",
   "metadata": {},
   "source": [
    "**Now, use `networkx` to create the graph and extract the degree distribution.**"
   ]
  },
  {
   "cell_type": "code",
   "execution_count": 26,
   "id": "6c905f4c-63ef-4f18-bed6-88c88f4c8ad4",
   "metadata": {},
   "outputs": [
    {
     "data": {
      "text/plain": [
       "'Average degree is 9.96, which is close to 10.'"
      ]
     },
     "execution_count": 26,
     "metadata": {},
     "output_type": "execute_result"
    }
   ],
   "source": [
    "G = nx.erdos_renyi_graph(n=N, p=p)\n",
    "degrees = [v for k, v in dict(G.degree).items()]\n",
    "f\"Average degree is {np.mean(degrees)}, which is close to {lam}.\""
   ]
  },
  {
   "cell_type": "markdown",
   "id": "c5cff1e8-8e36-46d3-9de5-65911ac53ab0",
   "metadata": {},
   "source": [
    "  **Finally, create a nice bar plot of the degree distribution, including axes labels and a plot title. Make sure that it looks like the Poisson distribution you plotted above.**"
   ]
  },
  {
   "cell_type": "code",
   "execution_count": 27,
   "id": "016aea50-5ad8-4054-a421-5840b08c74f2",
   "metadata": {},
   "outputs": [
    {
     "data": {
      "image/png": "[encoded data removed]",
      "text/plain": [
       "<Figure size 432x288 with 1 Axes>"
      ]
     },
     "metadata": {
      "needs_background": "light"
     },
     "output_type": "display_data"
    }
   ],
   "source": [
    "hist, bin_edges = np.histogram(degrees, bins=len(set(degrees)))\n",
    "\n",
    "bin_means = [0.5 * (bin_edges[i] + bin_edges[i+1]) for i in range(len(bin_edges)-1)]\n",
    "plt.bar(bin_means, hist, width=bin_edges[1] - bin_edges[0])\n",
    "plt.title(f\"Degree histogram of Erdos-Renyi graph sample ($N={N}$, $p={round(p,3)}$)\")\n",
    "plt.xlabel(\"Graph degree\")\n",
    "plt.ylabel(\"Graph degree occurences\")\n",
    "plt.show()"
   ]
  },
  {
   "cell_type": "code",
   "execution_count": null,
   "id": "d7f9385f-e90c-4371-83e5-e709103835b5",
   "metadata": {},
   "outputs": [],
   "source": []
  }
 ],
 "metadata": {
  "kernelspec": {
   "display_name": "Python 3 (ipykernel)",
   "language": "python",
   "name": "python3"
  },
  "language_info": {
   "codemirror_mode": {
    "name": "ipython",
    "version": 3
   },
   "file_extension": ".py",
   "mimetype": "text/x-python",
   "name": "python",
   "nbconvert_exporter": "python",
   "pygments_lexer": "ipython3",
   "version": "3.8.10"
  }
 },
 "nbformat": 4,
 "nbformat_minor": 5
}
