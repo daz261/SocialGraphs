{
 "cells": [
  {
   "cell_type": "code",
   "execution_count": 1,
   "id": "134dad8b-f2b4-4f97-8847-94a07dbb8386",
   "metadata": {},
   "outputs": [],
   "source": [
    "import networkx as nx\n",
    "import pandas as pd\n",
    "import numpy as np\n",
    "import matplotlib.pyplot as plt"
   ]
  },
  {
   "cell_type": "code",
   "execution_count": 2,
   "id": "8fd3833f-ec02-45d9-9c6b-60c1e07a462f",
   "metadata": {},
   "outputs": [],
   "source": [
    "plt.style.use('seaborn-whitegrid')"
   ]
  },
  {
   "cell_type": "code",
   "execution_count": 3,
   "id": "ca304b73-a8d2-43be-a662-959305063b52",
   "metadata": {},
   "outputs": [],
   "source": [
    "G = nx.read_gpickle(\"../G.pickle\")\n",
    "G_undirected = G.to_undirected()"
   ]
  },
  {
   "cell_type": "code",
   "execution_count": 4,
   "id": "73051673-3197-4efa-a1f1-cdb1ed00fc1e",
   "metadata": {},
   "outputs": [],
   "source": [
    "def get_GCC(G):\n",
    "    gcc = max(nx.connected_components(G), key=len)\n",
    "    G_gcc = G.subgraph(gcc)\n",
    "    print(f\"The original network has {len(G)} nodes. The GCC subgraph has {len(G_gcc)}.\")\n",
    "    return G_gcc"
   ]
  },
  {
   "cell_type": "code",
   "execution_count": 5,
   "id": "a9b196da-c1b6-4ff4-8320-14136109f674",
   "metadata": {},
   "outputs": [
    {
     "name": "stdout",
     "output_type": "stream",
     "text": [
      "The original network has 1983 nodes. The GCC subgraph has 1950.\n"
     ]
    }
   ],
   "source": [
    "G_gcc = get_GCC(G_undirected)"
   ]
  },
  {
   "cell_type": "code",
   "execution_count": 6,
   "id": "f0dc8ce4-fd14-499c-b309-316e5d308308",
   "metadata": {},
   "outputs": [],
   "source": [
    "def shortest_path_between_nodes(G, node1, node2):\n",
    "    shortest_path = nx.shortest_path(G, source=node1, target=node2)\n",
    "    print(f\"The shortest path between {node1} and {node2} has length {len(shortest_path)} and consists of:\\n\"\n",
    "          f\"{shortest_path}\")\n",
    "    return shortest_path"
   ]
  },
  {
   "cell_type": "code",
   "execution_count": 7,
   "id": "5e13ec28-4fc4-4644-924a-974da65c4a51",
   "metadata": {},
   "outputs": [
    {
     "name": "stdout",
     "output_type": "stream",
     "text": [
      "The shortest path between Michael Jackson and Britney Spears has length 3 and consists of:\n",
      "['Michael Jackson', 'Alanis Morissette', 'Britney Spears']\n"
     ]
    }
   ],
   "source": [
    "_ = shortest_path_between_nodes(G_gcc, \"Michael Jackson\", \"Britney Spears\")"
   ]
  },
  {
   "cell_type": "code",
   "execution_count": 8,
   "id": "3f632edc-b15b-484d-b9bc-9326f1e59874",
   "metadata": {},
   "outputs": [],
   "source": [
    "def find_most_connected(G, most_connected, N=5):\n",
    "    most_connected_list = [x for x in sorted(((n, G.degree(n)) for n in G.nodes()),\n",
    "                                        key=lambda t: t[1],\n",
    "                                        reverse=most_connected)][:N]\n",
    "    most_or_least = \"least\" if not most_connected else \"most\"\n",
    "    print(f\"The {N} {most_or_least} connected nodes are: {most_connected_list}\")\n"
   ]
  },
  {
   "cell_type": "code",
   "execution_count": 9,
   "id": "0f9dec17-0a17-4a0c-a9ed-3ad3b1c3a5e3",
   "metadata": {},
   "outputs": [
    {
     "name": "stdout",
     "output_type": "stream",
     "text": [
      "The 5 most connected nodes are: [('Alanis Morissette', 123), ('Bob Dylan', 118), ('The Beatles', 84), ('U2', 82), ('Madonna', 79)]\n",
      "The 5 least connected nodes are: [('Dr. Demento', 1), ('Harvey Danger', 1), ('Marcy Playground', 1), ('Semisonic', 1), ('The Rembrandts', 1)]\n"
     ]
    }
   ],
   "source": [
    "find_most_connected(G_gcc, most_connected=True)\n",
    "find_most_connected(G_gcc, most_connected=False)"
   ]
  },
  {
   "cell_type": "code",
   "execution_count": 10,
   "id": "803bd307-0fa6-49d2-bea0-a879fe67dbb6",
   "metadata": {},
   "outputs": [
    {
     "name": "stdout",
     "output_type": "stream",
     "text": [
      "The shortest path between Alanis Morissette and The Rembrandts has length 3 and consists of:\n",
      "['Alanis Morissette', '\"Weird Al\" Yankovic', 'The Rembrandts']\n"
     ]
    }
   ],
   "source": [
    "_ = shortest_path_between_nodes(G_gcc, \"Alanis Morissette\", \"The Rembrandts\")"
   ]
  },
  {
   "cell_type": "code",
   "execution_count": 11,
   "id": "212be2ac-ad24-4086-803a-6eacbb852f94",
   "metadata": {},
   "outputs": [
    {
     "data": {
      "text/plain": [
       "3.7998768599281685"
      ]
     },
     "execution_count": 11,
     "metadata": {},
     "output_type": "execute_result"
    }
   ],
   "source": [
    "nx.average_shortest_path_length(G_gcc)"
   ]
  },
  {
   "cell_type": "code",
   "execution_count": 12,
   "id": "a6af50df-2ce6-403d-be9d-edac064751f4",
   "metadata": {},
   "outputs": [],
   "source": [
    "def node_pair_id(node1, node2):\n",
    "    return \"___\".join(sorted([node1, node2]))\n"
   ]
  },
  {
   "cell_type": "code",
   "execution_count": null,
   "id": "1d4de678-eb4c-43d9-bdcf-b510b2bd8c15",
   "metadata": {},
   "outputs": [],
   "source": [
    "pair_id_to_nodes = {node_pair_id(node1, node2): (node1, node2) \n",
    "                        for node1 in G_gcc.nodes() \n",
    "                        for node2 in G_gcc.nodes()}\n",
    "\n",
    "pair_id_to_path_length = {pair_id: len(nx.shortest_path(G_gcc, node1, node2))\n",
    "                          for pair_id, (node1, node2) in pair_id_to_nodes.items()}"
   ]
  },
  {
   "cell_type": "code",
   "execution_count": null,
   "id": "545823e0-6961-47dd-a6cc-485255f816c7",
   "metadata": {},
   "outputs": [],
   "source": [
    "# plt.hist([v for v in pair_id_to_path_length.values()])\n",
    "len(pair_id_to_path_length)"
   ]
  },
  {
   "cell_type": "code",
   "execution_count": null,
   "id": "edae18aa-d25c-4e5f-bbce-94017cc331e4",
   "metadata": {},
   "outputs": [],
   "source": [
    "plt.hist([v for v in pair_id_to_path_length.values()])\n",
    "plt.title(\"Histogram of shortest paths between all artist pairs in GCC subgraph\")\n",
    "plt.xlabel(\"Shortest path between nodes\")\n",
    "plt.ylabel(\"Number of node pairs with given shortest path length\")\n",
    "plt.show()"
   ]
  },
  {
   "cell_type": "markdown",
   "id": "ea757fe7-1344-4be4-8835-9924b396c63a",
   "metadata": {},
   "source": [
    "As seen on the histogram, the path distance between each node concentrates around 5. The highest distance is 11, and the most distant nodes are: 'Dark Funeral' and 'GWAR, 'Dark Funeral' and 'Reverend Horton Heat', 'Dark Funeral' and 'Scott Joplin'. TODO: explain who are these and hypothesise they might be apart (different geography, genre?)"
   ]
  },
  {
   "cell_type": "code",
   "execution_count": null,
   "id": "97879332-4955-4b52-8d66-2a50e9be5be1",
   "metadata": {},
   "outputs": [],
   "source": [
    "max_dist =  max(pair_id_to_path_length.values())\n",
    "\n",
    "[(k, v) for k, v in pair_id_to_path_length.items() if v == max_dist]"
   ]
  },
  {
   "cell_type": "code",
   "execution_count": null,
   "id": "94398d64-fccc-4de1-aa51-fd27e7036fb6",
   "metadata": {},
   "outputs": [],
   "source": []
  }
 ],
 "metadata": {
  "kernelspec": {
   "display_name": "Python 3 (ipykernel)",
   "language": "python",
   "name": "python3"
  },
  "language_info": {
   "codemirror_mode": {
    "name": "ipython",
    "version": 3
   },
   "file_extension": ".py",
   "mimetype": "text/x-python",
   "name": "python",
   "nbconvert_exporter": "python",
   "pygments_lexer": "ipython3",
   "version": "3.8.5"
  }
 },
 "nbformat": 4,
 "nbformat_minor": 5
}
