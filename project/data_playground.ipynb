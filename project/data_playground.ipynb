{
 "cells": [
  {
   "cell_type": "code",
   "execution_count": null,
   "id": "2239afb2-0353-43c3-b588-70c5508ae5cd",
   "metadata": {},
   "outputs": [],
   "source": [
    "from load_artists import get_items_from_category, get_items_from_category_recurrent"
   ]
  },
  {
   "cell_type": "code",
   "execution_count": 15,
   "id": "c94b8464-5ab6-4b46-bb80-fa6f97562672",
   "metadata": {},
   "outputs": [],
   "source": [
    "wikipedia_url = \"https://en.wikipedia.org/w/api.php\"\n"
   ]
  },
  {
   "cell_type": "code",
   "execution_count": null,
   "id": "66af7aae-1fe4-463e-870e-b786312ae2ce",
   "metadata": {},
   "outputs": [],
   "source": [
    "get_items_from_category(\"Category:Albums\", base_url=wikipedia_url)"
   ]
  },
  {
   "cell_type": "code",
   "execution_count": null,
   "id": "43843a3f-0f8c-48ff-ab61-7249b53e5173",
   "metadata": {},
   "outputs": [],
   "source": []
  },
  {
   "cell_type": "code",
   "execution_count": null,
   "id": "a71b99ff-7b58-4230-b934-da231eec1a98",
   "metadata": {},
   "outputs": [],
   "source": []
  }
 ],
 "metadata": {
  "kernelspec": {
   "display_name": "Python 3 (ipykernel)",
   "language": "python",
   "name": "python3"
  },
  "language_info": {
   "codemirror_mode": {
    "name": "ipython",
    "version": 3
   },
   "file_extension": ".py",
   "mimetype": "text/x-python",
   "name": "python",
   "nbconvert_exporter": "python",
   "pygments_lexer": "ipython3",
   "version": "3.8.5"
  }
 },
 "nbformat": 4,
 "nbformat_minor": 5
}
